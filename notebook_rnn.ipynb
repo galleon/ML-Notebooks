{
  "nbformat": 4,
  "nbformat_minor": 0,
  "metadata": {
    "colab": {
      "name": "RNN - Predicting AAPL Stock Price - August 2021 update.ipynb",
      "provenance": [],
      "collapsed_sections": [],
      "toc_visible": true
    },
    "kernelspec": {
      "display_name": "Python 3 (ipykernel)",
      "language": "python",
      "name": "python3"
    },
    "language_info": {
      "codemirror_mode": {
        "name": "ipython",
        "version": 3
      },
      "file_extension": ".py",
      "mimetype": "text/x-python",
      "name": "python",
      "nbconvert_exporter": "python",
      "pygments_lexer": "ipython3",
      "version": "3.8.6"
    },
    "toc": {
      "base_numbering": 1,
      "nav_menu": {},
      "number_sections": true,
      "sideBar": true,
      "skip_h1_title": true,
      "title_cell": "Table of Contents",
      "title_sidebar": "Contents",
      "toc_cell": false,
      "toc_position": {
        "height": "calc(100% - 180px)",
        "left": "10px",
        "top": "150px",
        "width": "316.8px"
      },
      "toc_section_display": true,
      "toc_window_display": false
    },
    "varInspector": {
      "cols": {
        "lenName": 16,
        "lenType": 16,
        "lenVar": 40
      },
      "kernels_config": {
        "python": {
          "delete_cmd_postfix": "",
          "delete_cmd_prefix": "del ",
          "library": "var_list.py",
          "varRefreshCmd": "print(var_dic_list())"
        },
        "r": {
          "delete_cmd_postfix": ") ",
          "delete_cmd_prefix": "rm(",
          "library": "var_list.r",
          "varRefreshCmd": "cat(var_dic_list()) "
        }
      },
      "types_to_exclude": [
        "module",
        "function",
        "builtin_function_or_method",
        "instance",
        "_Feature"
      ],
      "window_display": false
    }
  },
  "cells": [
    {
      "cell_type": "markdown",
      "metadata": {
        "id": "7Ah1snjrTOaO"
      },
      "source": [
        "# Recurrent Neural Networks\n",
        "---\n",
        "# Predicting Stock Prices through an LSTM model"
      ]
    },
    {
      "cell_type": "code",
      "metadata": {
        "colab": {
          "base_uri": "https://localhost:8080/"
        },
        "id": "16PDY6i5Ml_W",
        "outputId": "a0f96132-c815-4952-9491-2a669de14724"
      },
      "source": [
        "!pip install --upgrade pandas_datareader"
      ],
      "execution_count": null,
      "outputs": [
        {
          "output_type": "stream",
          "text": [
            "Requirement already satisfied: pandas_datareader in /usr/local/lib/python3.7/dist-packages (0.9.0)\n",
            "Collecting pandas_datareader\n",
            "  Downloading pandas_datareader-0.10.0-py3-none-any.whl (109 kB)\n",
            "\u001b[K     |████████████████████████████████| 109 kB 4.2 MB/s \n",
            "\u001b[?25hRequirement already satisfied: requests>=2.19.0 in /usr/local/lib/python3.7/dist-packages (from pandas_datareader) (2.23.0)\n",
            "Requirement already satisfied: pandas>=0.23 in /usr/local/lib/python3.7/dist-packages (from pandas_datareader) (1.1.5)\n",
            "Requirement already satisfied: lxml in /usr/local/lib/python3.7/dist-packages (from pandas_datareader) (4.2.6)\n",
            "Requirement already satisfied: numpy>=1.15.4 in /usr/local/lib/python3.7/dist-packages (from pandas>=0.23->pandas_datareader) (1.19.5)\n",
            "Requirement already satisfied: pytz>=2017.2 in /usr/local/lib/python3.7/dist-packages (from pandas>=0.23->pandas_datareader) (2018.9)\n",
            "Requirement already satisfied: python-dateutil>=2.7.3 in /usr/local/lib/python3.7/dist-packages (from pandas>=0.23->pandas_datareader) (2.8.2)\n",
            "Requirement already satisfied: six>=1.5 in /usr/local/lib/python3.7/dist-packages (from python-dateutil>=2.7.3->pandas>=0.23->pandas_datareader) (1.15.0)\n",
            "Requirement already satisfied: chardet<4,>=3.0.2 in /usr/local/lib/python3.7/dist-packages (from requests>=2.19.0->pandas_datareader) (3.0.4)\n",
            "Requirement already satisfied: certifi>=2017.4.17 in /usr/local/lib/python3.7/dist-packages (from requests>=2.19.0->pandas_datareader) (2021.5.30)\n",
            "Requirement already satisfied: urllib3!=1.25.0,!=1.25.1,<1.26,>=1.21.1 in /usr/local/lib/python3.7/dist-packages (from requests>=2.19.0->pandas_datareader) (1.24.3)\n",
            "Requirement already satisfied: idna<3,>=2.5 in /usr/local/lib/python3.7/dist-packages (from requests>=2.19.0->pandas_datareader) (2.10)\n",
            "Installing collected packages: pandas-datareader\n",
            "  Attempting uninstall: pandas-datareader\n",
            "    Found existing installation: pandas-datareader 0.9.0\n",
            "    Uninstalling pandas-datareader-0.9.0:\n",
            "      Successfully uninstalled pandas-datareader-0.9.0\n",
            "Successfully installed pandas-datareader-0.10.0\n"
          ],
          "name": "stdout"
        }
      ]
    },
    {
      "cell_type": "code",
      "metadata": {
        "id": "qnAL4n0hTOaX"
      },
      "source": [
        "''' Linear Algebra '''\n",
        "import pandas as pd\n",
        "import numpy as np\n",
        "\n",
        "'''Data visualization'''\n",
        "import matplotlib.pyplot as plt\n",
        "import seaborn as sns\n",
        "sns.set_style('whitegrid')\n",
        "plt.style.use(\"fivethirtyeight\")"
      ],
      "execution_count": null,
      "outputs": []
    },
    {
      "cell_type": "markdown",
      "metadata": {
        "id": "Be4q-KBITOaY"
      },
      "source": [
        "## Pandas Reader\n",
        "\n",
        "<a href=\"https://pandas-datareader.readthedocs.io/en/latest/\">Documentation</a>"
      ]
    },
    {
      "cell_type": "code",
      "metadata": {
        "id": "5xjbJ62hTOaa"
      },
      "source": [
        "''' Reading stock data from Yahoo for example'''\n",
        "from pandas_datareader.data import DataReader\n",
        "\n",
        "''' Hnadling timestamps'''\n",
        "import datetime\n",
        "from datetime import datetime"
      ],
      "execution_count": null,
      "outputs": []
    },
    {
      "cell_type": "code",
      "metadata": {
        "id": "LrKv6T1kTOaa"
      },
      "source": [
        "# tech stocks\n",
        "tech_list = ['AAPL', 'GOOG','MSFT', 'AMZN']"
      ],
      "execution_count": null,
      "outputs": []
    },
    {
      "cell_type": "code",
      "metadata": {
        "id": "C0S7d3wITOaa"
      },
      "source": [
        "# today\n",
        "end = datetime.now()"
      ],
      "execution_count": null,
      "outputs": []
    },
    {
      "cell_type": "code",
      "metadata": {
        "colab": {
          "base_uri": "https://localhost:8080/"
        },
        "id": "COF0GdNCTOac",
        "outputId": "4118e5a0-9076-4998-87c1-e88e90b45d80"
      },
      "source": [
        "# 10 years ago\n",
        "start = datetime(end.year-10, 1, 1)\n",
        "start"
      ],
      "execution_count": null,
      "outputs": [
        {
          "output_type": "execute_result",
          "data": {
            "text/plain": [
              "datetime.datetime(2011, 1, 1, 0, 0)"
            ]
          },
          "metadata": {},
          "execution_count": 6
        }
      ]
    },
    {
      "cell_type": "code",
      "metadata": {
        "id": "1sMVKrWNTOac"
      },
      "source": [
        "stock_prices = {}\n",
        "\n",
        "for tech in tech_list:\n",
        "    stock_prices[tech] = DataReader(tech, 'yahoo', start, end)"
      ],
      "execution_count": null,
      "outputs": []
    },
    {
      "cell_type": "code",
      "metadata": {
        "colab": {
          "base_uri": "https://localhost:8080/"
        },
        "id": "tgg_ofmWTOad",
        "outputId": "51953b49-4a91-444b-ffaf-035664d46811"
      },
      "source": [
        "stock_prices.keys()"
      ],
      "execution_count": null,
      "outputs": [
        {
          "output_type": "execute_result",
          "data": {
            "text/plain": [
              "dict_keys(['AAPL', 'GOOG', 'MSFT', 'AMZN'])"
            ]
          },
          "metadata": {},
          "execution_count": 8
        }
      ]
    },
    {
      "cell_type": "code",
      "metadata": {
        "colab": {
          "base_uri": "https://localhost:8080/",
          "height": 870
        },
        "id": "7XTa5h3WTOaf",
        "outputId": "1aaf5002-92a5-477d-e067-afd823baea5f"
      },
      "source": [
        "for k,v in stock_prices.items():\n",
        "    print(f\"---- {k} stock price during the last 3 days -----\")\n",
        "    print(v.shape)\n",
        "    display(v.tail(3))\n",
        "    print(\"\")"
      ],
      "execution_count": null,
      "outputs": [
        {
          "output_type": "stream",
          "text": [
            "---- AAPL stock price during the last 3 days -----\n",
            "(2679, 6)\n"
          ],
          "name": "stdout"
        },
        {
          "output_type": "display_data",
          "data": {
            "text/html": [
              "<div>\n",
              "<style scoped>\n",
              "    .dataframe tbody tr th:only-of-type {\n",
              "        vertical-align: middle;\n",
              "    }\n",
              "\n",
              "    .dataframe tbody tr th {\n",
              "        vertical-align: top;\n",
              "    }\n",
              "\n",
              "    .dataframe thead th {\n",
              "        text-align: right;\n",
              "    }\n",
              "</style>\n",
              "<table border=\"1\" class=\"dataframe\">\n",
              "  <thead>\n",
              "    <tr style=\"text-align: right;\">\n",
              "      <th></th>\n",
              "      <th>High</th>\n",
              "      <th>Low</th>\n",
              "      <th>Open</th>\n",
              "      <th>Close</th>\n",
              "      <th>Volume</th>\n",
              "      <th>Adj Close</th>\n",
              "    </tr>\n",
              "    <tr>\n",
              "      <th>Date</th>\n",
              "      <th></th>\n",
              "      <th></th>\n",
              "      <th></th>\n",
              "      <th></th>\n",
              "      <th></th>\n",
              "      <th></th>\n",
              "    </tr>\n",
              "  </thead>\n",
              "  <tbody>\n",
              "    <tr>\n",
              "      <th>2021-08-20</th>\n",
              "      <td>148.500000</td>\n",
              "      <td>146.779999</td>\n",
              "      <td>147.440002</td>\n",
              "      <td>148.190002</td>\n",
              "      <td>59947400.0</td>\n",
              "      <td>148.190002</td>\n",
              "    </tr>\n",
              "    <tr>\n",
              "      <th>2021-08-23</th>\n",
              "      <td>150.190002</td>\n",
              "      <td>147.889999</td>\n",
              "      <td>148.309998</td>\n",
              "      <td>149.710007</td>\n",
              "      <td>60007400.0</td>\n",
              "      <td>149.710007</td>\n",
              "    </tr>\n",
              "    <tr>\n",
              "      <th>2021-08-24</th>\n",
              "      <td>150.860001</td>\n",
              "      <td>149.149994</td>\n",
              "      <td>149.449997</td>\n",
              "      <td>150.544998</td>\n",
              "      <td>10589769.0</td>\n",
              "      <td>150.544998</td>\n",
              "    </tr>\n",
              "  </tbody>\n",
              "</table>\n",
              "</div>"
            ],
            "text/plain": [
              "                  High         Low  ...      Volume   Adj Close\n",
              "Date                                ...                        \n",
              "2021-08-20  148.500000  146.779999  ...  59947400.0  148.190002\n",
              "2021-08-23  150.190002  147.889999  ...  60007400.0  149.710007\n",
              "2021-08-24  150.860001  149.149994  ...  10589769.0  150.544998\n",
              "\n",
              "[3 rows x 6 columns]"
            ]
          },
          "metadata": {}
        },
        {
          "output_type": "stream",
          "text": [
            "\n",
            "---- GOOG stock price during the last 3 days -----\n",
            "(2679, 6)\n"
          ],
          "name": "stdout"
        },
        {
          "output_type": "display_data",
          "data": {
            "text/html": [
              "<div>\n",
              "<style scoped>\n",
              "    .dataframe tbody tr th:only-of-type {\n",
              "        vertical-align: middle;\n",
              "    }\n",
              "\n",
              "    .dataframe tbody tr th {\n",
              "        vertical-align: top;\n",
              "    }\n",
              "\n",
              "    .dataframe thead th {\n",
              "        text-align: right;\n",
              "    }\n",
              "</style>\n",
              "<table border=\"1\" class=\"dataframe\">\n",
              "  <thead>\n",
              "    <tr style=\"text-align: right;\">\n",
              "      <th></th>\n",
              "      <th>High</th>\n",
              "      <th>Low</th>\n",
              "      <th>Open</th>\n",
              "      <th>Close</th>\n",
              "      <th>Volume</th>\n",
              "      <th>Adj Close</th>\n",
              "    </tr>\n",
              "    <tr>\n",
              "      <th>Date</th>\n",
              "      <th></th>\n",
              "      <th></th>\n",
              "      <th></th>\n",
              "      <th></th>\n",
              "      <th></th>\n",
              "      <th></th>\n",
              "    </tr>\n",
              "  </thead>\n",
              "  <tbody>\n",
              "    <tr>\n",
              "      <th>2021-08-20</th>\n",
              "      <td>2772.290039</td>\n",
              "      <td>2729.340088</td>\n",
              "      <td>2741.659912</td>\n",
              "      <td>2768.739990</td>\n",
              "      <td>778200.0</td>\n",
              "      <td>2768.739990</td>\n",
              "    </tr>\n",
              "    <tr>\n",
              "      <th>2021-08-23</th>\n",
              "      <td>2843.540039</td>\n",
              "      <td>2774.958984</td>\n",
              "      <td>2779.969971</td>\n",
              "      <td>2821.989990</td>\n",
              "      <td>1053800.0</td>\n",
              "      <td>2821.989990</td>\n",
              "    </tr>\n",
              "    <tr>\n",
              "      <th>2021-08-24</th>\n",
              "      <td>2848.310059</td>\n",
              "      <td>2827.300049</td>\n",
              "      <td>2830.870117</td>\n",
              "      <td>2844.810059</td>\n",
              "      <td>139900.0</td>\n",
              "      <td>2844.810059</td>\n",
              "    </tr>\n",
              "  </tbody>\n",
              "</table>\n",
              "</div>"
            ],
            "text/plain": [
              "                   High          Low  ...     Volume    Adj Close\n",
              "Date                                  ...                        \n",
              "2021-08-20  2772.290039  2729.340088  ...   778200.0  2768.739990\n",
              "2021-08-23  2843.540039  2774.958984  ...  1053800.0  2821.989990\n",
              "2021-08-24  2848.310059  2827.300049  ...   139900.0  2844.810059\n",
              "\n",
              "[3 rows x 6 columns]"
            ]
          },
          "metadata": {}
        },
        {
          "output_type": "stream",
          "text": [
            "\n",
            "---- MSFT stock price during the last 3 days -----\n",
            "(2679, 6)\n"
          ],
          "name": "stdout"
        },
        {
          "output_type": "display_data",
          "data": {
            "text/html": [
              "<div>\n",
              "<style scoped>\n",
              "    .dataframe tbody tr th:only-of-type {\n",
              "        vertical-align: middle;\n",
              "    }\n",
              "\n",
              "    .dataframe tbody tr th {\n",
              "        vertical-align: top;\n",
              "    }\n",
              "\n",
              "    .dataframe thead th {\n",
              "        text-align: right;\n",
              "    }\n",
              "</style>\n",
              "<table border=\"1\" class=\"dataframe\">\n",
              "  <thead>\n",
              "    <tr style=\"text-align: right;\">\n",
              "      <th></th>\n",
              "      <th>High</th>\n",
              "      <th>Low</th>\n",
              "      <th>Open</th>\n",
              "      <th>Close</th>\n",
              "      <th>Volume</th>\n",
              "      <th>Adj Close</th>\n",
              "    </tr>\n",
              "    <tr>\n",
              "      <th>Date</th>\n",
              "      <th></th>\n",
              "      <th></th>\n",
              "      <th></th>\n",
              "      <th></th>\n",
              "      <th></th>\n",
              "      <th></th>\n",
              "    </tr>\n",
              "  </thead>\n",
              "  <tbody>\n",
              "    <tr>\n",
              "      <th>2021-08-20</th>\n",
              "      <td>305.839996</td>\n",
              "      <td>298.059998</td>\n",
              "      <td>299.720001</td>\n",
              "      <td>304.359985</td>\n",
              "      <td>40796100.0</td>\n",
              "      <td>304.359985</td>\n",
              "    </tr>\n",
              "    <tr>\n",
              "      <th>2021-08-23</th>\n",
              "      <td>305.399994</td>\n",
              "      <td>301.850006</td>\n",
              "      <td>303.250000</td>\n",
              "      <td>304.649994</td>\n",
              "      <td>22810800.0</td>\n",
              "      <td>304.649994</td>\n",
              "    </tr>\n",
              "    <tr>\n",
              "      <th>2021-08-24</th>\n",
              "      <td>305.640015</td>\n",
              "      <td>303.260010</td>\n",
              "      <td>305.019989</td>\n",
              "      <td>303.940002</td>\n",
              "      <td>2703922.0</td>\n",
              "      <td>303.940002</td>\n",
              "    </tr>\n",
              "  </tbody>\n",
              "</table>\n",
              "</div>"
            ],
            "text/plain": [
              "                  High         Low  ...      Volume   Adj Close\n",
              "Date                                ...                        \n",
              "2021-08-20  305.839996  298.059998  ...  40796100.0  304.359985\n",
              "2021-08-23  305.399994  301.850006  ...  22810800.0  304.649994\n",
              "2021-08-24  305.640015  303.260010  ...   2703922.0  303.940002\n",
              "\n",
              "[3 rows x 6 columns]"
            ]
          },
          "metadata": {}
        },
        {
          "output_type": "stream",
          "text": [
            "\n",
            "---- AMZN stock price during the last 3 days -----\n",
            "(2679, 6)\n"
          ],
          "name": "stdout"
        },
        {
          "output_type": "display_data",
          "data": {
            "text/html": [
              "<div>\n",
              "<style scoped>\n",
              "    .dataframe tbody tr th:only-of-type {\n",
              "        vertical-align: middle;\n",
              "    }\n",
              "\n",
              "    .dataframe tbody tr th {\n",
              "        vertical-align: top;\n",
              "    }\n",
              "\n",
              "    .dataframe thead th {\n",
              "        text-align: right;\n",
              "    }\n",
              "</style>\n",
              "<table border=\"1\" class=\"dataframe\">\n",
              "  <thead>\n",
              "    <tr style=\"text-align: right;\">\n",
              "      <th></th>\n",
              "      <th>High</th>\n",
              "      <th>Low</th>\n",
              "      <th>Open</th>\n",
              "      <th>Close</th>\n",
              "      <th>Volume</th>\n",
              "      <th>Adj Close</th>\n",
              "    </tr>\n",
              "    <tr>\n",
              "      <th>Date</th>\n",
              "      <th></th>\n",
              "      <th></th>\n",
              "      <th></th>\n",
              "      <th></th>\n",
              "      <th></th>\n",
              "      <th></th>\n",
              "    </tr>\n",
              "  </thead>\n",
              "  <tbody>\n",
              "    <tr>\n",
              "      <th>2021-08-20</th>\n",
              "      <td>3207.810059</td>\n",
              "      <td>3175.76001</td>\n",
              "      <td>3203.870117</td>\n",
              "      <td>3199.949951</td>\n",
              "      <td>3341200</td>\n",
              "      <td>3199.949951</td>\n",
              "    </tr>\n",
              "    <tr>\n",
              "      <th>2021-08-23</th>\n",
              "      <td>3280.899902</td>\n",
              "      <td>3210.01001</td>\n",
              "      <td>3211.899902</td>\n",
              "      <td>3265.870117</td>\n",
              "      <td>3260900</td>\n",
              "      <td>3265.870117</td>\n",
              "    </tr>\n",
              "    <tr>\n",
              "      <th>2021-08-24</th>\n",
              "      <td>3297.889893</td>\n",
              "      <td>3274.98999</td>\n",
              "      <td>3280.000000</td>\n",
              "      <td>3278.899902</td>\n",
              "      <td>441542</td>\n",
              "      <td>3278.899902</td>\n",
              "    </tr>\n",
              "  </tbody>\n",
              "</table>\n",
              "</div>"
            ],
            "text/plain": [
              "                   High         Low  ...   Volume    Adj Close\n",
              "Date                                 ...                      \n",
              "2021-08-20  3207.810059  3175.76001  ...  3341200  3199.949951\n",
              "2021-08-23  3280.899902  3210.01001  ...  3260900  3265.870117\n",
              "2021-08-24  3297.889893  3274.98999  ...   441542  3278.899902\n",
              "\n",
              "[3 rows x 6 columns]"
            ]
          },
          "metadata": {}
        },
        {
          "output_type": "stream",
          "text": [
            "\n"
          ],
          "name": "stdout"
        }
      ]
    },
    {
      "cell_type": "code",
      "metadata": {
        "id": "6TcxIVEBTOag"
      },
      "source": [
        "company_list = list(stock_prices.keys())\n",
        "company_name = [\"APPLE\", \"GOOGLE\", \"MICROSOFT\", \"AMAZON\"]\n",
        "\n",
        "for company, com_name in zip(company_list, company_name):\n",
        "    stock_prices[company][\"company_name\"] = com_name"
      ],
      "execution_count": null,
      "outputs": []
    },
    {
      "cell_type": "code",
      "metadata": {
        "id": "ODzZvK1UTOah"
      },
      "source": [
        "df = pd.concat([stock_prices[tech_company] for tech_company in company_list], ignore_index=True)"
      ],
      "execution_count": null,
      "outputs": []
    },
    {
      "cell_type": "code",
      "metadata": {
        "colab": {
          "base_uri": "https://localhost:8080/",
          "height": 363
        },
        "id": "0yzwCDLuTOah",
        "outputId": "899efb84-9829-4373-99f0-4d33fe49fd1c"
      },
      "source": [
        "df.sample(10)"
      ],
      "execution_count": null,
      "outputs": [
        {
          "output_type": "execute_result",
          "data": {
            "text/html": [
              "<div>\n",
              "<style scoped>\n",
              "    .dataframe tbody tr th:only-of-type {\n",
              "        vertical-align: middle;\n",
              "    }\n",
              "\n",
              "    .dataframe tbody tr th {\n",
              "        vertical-align: top;\n",
              "    }\n",
              "\n",
              "    .dataframe thead th {\n",
              "        text-align: right;\n",
              "    }\n",
              "</style>\n",
              "<table border=\"1\" class=\"dataframe\">\n",
              "  <thead>\n",
              "    <tr style=\"text-align: right;\">\n",
              "      <th></th>\n",
              "      <th>High</th>\n",
              "      <th>Low</th>\n",
              "      <th>Open</th>\n",
              "      <th>Close</th>\n",
              "      <th>Volume</th>\n",
              "      <th>Adj Close</th>\n",
              "      <th>company_name</th>\n",
              "    </tr>\n",
              "  </thead>\n",
              "  <tbody>\n",
              "    <tr>\n",
              "      <th>166</th>\n",
              "      <td>13.994286</td>\n",
              "      <td>13.793214</td>\n",
              "      <td>13.866071</td>\n",
              "      <td>13.928214</td>\n",
              "      <td>417922400.0</td>\n",
              "      <td>11.958991</td>\n",
              "      <td>APPLE</td>\n",
              "    </tr>\n",
              "    <tr>\n",
              "      <th>4682</th>\n",
              "      <td>1049.479980</td>\n",
              "      <td>1021.440002</td>\n",
              "      <td>1026.089966</td>\n",
              "      <td>1028.709961</td>\n",
              "      <td>2192500.0</td>\n",
              "      <td>1028.709961</td>\n",
              "      <td>GOOGLE</td>\n",
              "    </tr>\n",
              "    <tr>\n",
              "      <th>3717</th>\n",
              "      <td>541.622986</td>\n",
              "      <td>536.536926</td>\n",
              "      <td>536.566833</td>\n",
              "      <td>541.383606</td>\n",
              "      <td>989108.0</td>\n",
              "      <td>541.383606</td>\n",
              "      <td>GOOGLE</td>\n",
              "    </tr>\n",
              "    <tr>\n",
              "      <th>10507</th>\n",
              "      <td>3282.979980</td>\n",
              "      <td>3153.300049</td>\n",
              "      <td>3198.739990</td>\n",
              "      <td>3207.040039</td>\n",
              "      <td>5901200.0</td>\n",
              "      <td>3207.040039</td>\n",
              "      <td>AMAZON</td>\n",
              "    </tr>\n",
              "    <tr>\n",
              "      <th>6997</th>\n",
              "      <td>70.250000</td>\n",
              "      <td>69.199997</td>\n",
              "      <td>69.459999</td>\n",
              "      <td>69.980003</td>\n",
              "      <td>15014500.0</td>\n",
              "      <td>65.956017</td>\n",
              "      <td>MICROSOFT</td>\n",
              "    </tr>\n",
              "    <tr>\n",
              "      <th>4133</th>\n",
              "      <td>788.130005</td>\n",
              "      <td>782.059998</td>\n",
              "      <td>783.760010</td>\n",
              "      <td>786.140015</td>\n",
              "      <td>937400.0</td>\n",
              "      <td>786.140015</td>\n",
              "      <td>GOOGLE</td>\n",
              "    </tr>\n",
              "    <tr>\n",
              "      <th>457</th>\n",
              "      <td>22.376785</td>\n",
              "      <td>21.808571</td>\n",
              "      <td>22.194286</td>\n",
              "      <td>22.029642</td>\n",
              "      <td>558527200.0</td>\n",
              "      <td>18.996225</td>\n",
              "      <td>APPLE</td>\n",
              "    </tr>\n",
              "    <tr>\n",
              "      <th>9822</th>\n",
              "      <td>1443.989990</td>\n",
              "      <td>1351.790039</td>\n",
              "      <td>1361.459961</td>\n",
              "      <td>1442.839966</td>\n",
              "      <td>11066800.0</td>\n",
              "      <td>1442.839966</td>\n",
              "      <td>AMAZON</td>\n",
              "    </tr>\n",
              "    <tr>\n",
              "      <th>163</th>\n",
              "      <td>13.408929</td>\n",
              "      <td>13.035714</td>\n",
              "      <td>13.038571</td>\n",
              "      <td>13.347143</td>\n",
              "      <td>871346000.0</td>\n",
              "      <td>11.460076</td>\n",
              "      <td>APPLE</td>\n",
              "    </tr>\n",
              "    <tr>\n",
              "      <th>1101</th>\n",
              "      <td>32.744999</td>\n",
              "      <td>32.334999</td>\n",
              "      <td>32.500000</td>\n",
              "      <td>32.514999</td>\n",
              "      <td>145819600.0</td>\n",
              "      <td>29.721012</td>\n",
              "      <td>APPLE</td>\n",
              "    </tr>\n",
              "  </tbody>\n",
              "</table>\n",
              "</div>"
            ],
            "text/plain": [
              "              High          Low  ...    Adj Close  company_name\n",
              "166      13.994286    13.793214  ...    11.958991         APPLE\n",
              "4682   1049.479980  1021.440002  ...  1028.709961        GOOGLE\n",
              "3717    541.622986   536.536926  ...   541.383606        GOOGLE\n",
              "10507  3282.979980  3153.300049  ...  3207.040039        AMAZON\n",
              "6997     70.250000    69.199997  ...    65.956017     MICROSOFT\n",
              "4133    788.130005   782.059998  ...   786.140015        GOOGLE\n",
              "457      22.376785    21.808571  ...    18.996225         APPLE\n",
              "9822   1443.989990  1351.790039  ...  1442.839966        AMAZON\n",
              "163      13.408929    13.035714  ...    11.460076         APPLE\n",
              "1101     32.744999    32.334999  ...    29.721012         APPLE\n",
              "\n",
              "[10 rows x 7 columns]"
            ]
          },
          "metadata": {},
          "execution_count": 12
        }
      ]
    },
    {
      "cell_type": "code",
      "metadata": {
        "colab": {
          "base_uri": "https://localhost:8080/",
          "height": 300
        },
        "id": "lLuaLiJXTOai",
        "outputId": "c3962544-6da9-4d24-edcd-c9b646547cc3"
      },
      "source": [
        "df[df.company_name == \"APPLE\"].describe()"
      ],
      "execution_count": null,
      "outputs": [
        {
          "output_type": "execute_result",
          "data": {
            "text/html": [
              "<div>\n",
              "<style scoped>\n",
              "    .dataframe tbody tr th:only-of-type {\n",
              "        vertical-align: middle;\n",
              "    }\n",
              "\n",
              "    .dataframe tbody tr th {\n",
              "        vertical-align: top;\n",
              "    }\n",
              "\n",
              "    .dataframe thead th {\n",
              "        text-align: right;\n",
              "    }\n",
              "</style>\n",
              "<table border=\"1\" class=\"dataframe\">\n",
              "  <thead>\n",
              "    <tr style=\"text-align: right;\">\n",
              "      <th></th>\n",
              "      <th>High</th>\n",
              "      <th>Low</th>\n",
              "      <th>Open</th>\n",
              "      <th>Close</th>\n",
              "      <th>Volume</th>\n",
              "      <th>Adj Close</th>\n",
              "    </tr>\n",
              "  </thead>\n",
              "  <tbody>\n",
              "    <tr>\n",
              "      <th>count</th>\n",
              "      <td>2679.000000</td>\n",
              "      <td>2679.000000</td>\n",
              "      <td>2679.000000</td>\n",
              "      <td>2679.000000</td>\n",
              "      <td>2.679000e+03</td>\n",
              "      <td>2679.000000</td>\n",
              "    </tr>\n",
              "    <tr>\n",
              "      <th>mean</th>\n",
              "      <td>42.502375</td>\n",
              "      <td>41.630964</td>\n",
              "      <td>42.066176</td>\n",
              "      <td>42.084140</td>\n",
              "      <td>2.454457e+08</td>\n",
              "      <td>40.319384</td>\n",
              "    </tr>\n",
              "    <tr>\n",
              "      <th>std</th>\n",
              "      <td>33.536440</td>\n",
              "      <td>32.728991</td>\n",
              "      <td>33.135767</td>\n",
              "      <td>33.154263</td>\n",
              "      <td>1.981640e+08</td>\n",
              "      <td>33.722336</td>\n",
              "    </tr>\n",
              "    <tr>\n",
              "      <th>min</th>\n",
              "      <td>11.346429</td>\n",
              "      <td>11.089286</td>\n",
              "      <td>11.310000</td>\n",
              "      <td>11.261429</td>\n",
              "      <td>1.058977e+07</td>\n",
              "      <td>9.669245</td>\n",
              "    </tr>\n",
              "    <tr>\n",
              "      <th>25%</th>\n",
              "      <td>20.428392</td>\n",
              "      <td>20.031250</td>\n",
              "      <td>20.287499</td>\n",
              "      <td>20.256786</td>\n",
              "      <td>1.088908e+08</td>\n",
              "      <td>17.580548</td>\n",
              "    </tr>\n",
              "    <tr>\n",
              "      <th>50%</th>\n",
              "      <td>29.412500</td>\n",
              "      <td>28.937500</td>\n",
              "      <td>29.184999</td>\n",
              "      <td>29.152500</td>\n",
              "      <td>1.731832e+08</td>\n",
              "      <td>27.096560</td>\n",
              "    </tr>\n",
              "    <tr>\n",
              "      <th>75%</th>\n",
              "      <td>48.406250</td>\n",
              "      <td>47.607500</td>\n",
              "      <td>47.930000</td>\n",
              "      <td>47.963751</td>\n",
              "      <td>3.201912e+08</td>\n",
              "      <td>46.613104</td>\n",
              "    </tr>\n",
              "    <tr>\n",
              "      <th>max</th>\n",
              "      <td>151.679993</td>\n",
              "      <td>149.149994</td>\n",
              "      <td>150.229996</td>\n",
              "      <td>151.119995</td>\n",
              "      <td>1.880998e+09</td>\n",
              "      <td>151.119995</td>\n",
              "    </tr>\n",
              "  </tbody>\n",
              "</table>\n",
              "</div>"
            ],
            "text/plain": [
              "              High          Low  ...        Volume    Adj Close\n",
              "count  2679.000000  2679.000000  ...  2.679000e+03  2679.000000\n",
              "mean     42.502375    41.630964  ...  2.454457e+08    40.319384\n",
              "std      33.536440    32.728991  ...  1.981640e+08    33.722336\n",
              "min      11.346429    11.089286  ...  1.058977e+07     9.669245\n",
              "25%      20.428392    20.031250  ...  1.088908e+08    17.580548\n",
              "50%      29.412500    28.937500  ...  1.731832e+08    27.096560\n",
              "75%      48.406250    47.607500  ...  3.201912e+08    46.613104\n",
              "max     151.679993   149.149994  ...  1.880998e+09   151.119995\n",
              "\n",
              "[8 rows x 6 columns]"
            ]
          },
          "metadata": {},
          "execution_count": 13
        }
      ]
    },
    {
      "cell_type": "code",
      "metadata": {
        "id": "TmBE1gv3TOaj"
      },
      "source": [
        ""
      ],
      "execution_count": null,
      "outputs": []
    },
    {
      "cell_type": "code",
      "metadata": {
        "id": "RIJL_ZcKTOaj"
      },
      "source": [
        ""
      ],
      "execution_count": null,
      "outputs": []
    },
    {
      "cell_type": "markdown",
      "metadata": {
        "id": "omE_GM43TOaj"
      },
      "source": [
        "## Time-Series Visualisation"
      ]
    },
    {
      "cell_type": "markdown",
      "metadata": {
        "id": "9He6r2IBTOak"
      },
      "source": [
        "### Historical Stock Prices"
      ]
    },
    {
      "cell_type": "code",
      "metadata": {
        "colab": {
          "base_uri": "https://localhost:8080/",
          "height": 358
        },
        "id": "Sn68mhkBTOak",
        "outputId": "b33bc928-195d-44e1-ef24-b56c2c44c4ae"
      },
      "source": [
        "# Let's see a historical view of the closing price\n",
        "\n",
        "\n",
        "plt.figure(figsize=(15, 6))\n",
        "plt.subplots_adjust(top=1.25, bottom=1.2)\n",
        "\n",
        "for i, company in enumerate(company_list, 1):\n",
        "    plt.subplot(2, 2, i)\n",
        "    stock_prices[company]['Adj Close'].plot()\n",
        "    plt.ylabel('Adj Close')\n",
        "    plt.xlabel(None)\n",
        "    plt.title(f\"Closing Price of {tech_list[i - 1]}\")\n",
        "    \n",
        "plt.tight_layout()"
      ],
      "execution_count": null,
      "outputs": [
        {
          "output_type": "display_data",
          "data": {
            "image/png": "[encoded data removed]",
            "text/plain": [
              "<Figure size 1080x432 with 4 Axes>"
            ]
          },
          "metadata": {}
        }
      ]
    },
    {
      "cell_type": "markdown",
      "metadata": {
        "id": "LOkzKw4OTOal"
      },
      "source": [
        "### Volumes traded"
      ]
    },
    {
      "cell_type": "code",
      "metadata": {
        "colab": {
          "base_uri": "https://localhost:8080/",
          "height": 362
        },
        "id": "icuzmUSpTOal",
        "outputId": "a9702458-397e-4fcc-de93-7047da0a1a95"
      },
      "source": [
        "# Let's see a historical view of the closing price\n",
        "\n",
        "\n",
        "plt.figure(figsize=(15, 6))\n",
        "plt.subplots_adjust(top=1.25, bottom=1.2)\n",
        "\n",
        "for i, company in enumerate(company_list, 1):\n",
        "    plt.subplot(2, 2, i)\n",
        "    stock_prices[company]['Volume'].plot()\n",
        "    plt.ylabel('Volume')\n",
        "    plt.xlabel(None)\n",
        "    plt.title(f\"Sales Volume of {tech_list[i - 1]}\")\n",
        "    \n",
        "plt.tight_layout()"
      ],
      "execution_count": null,
      "outputs": [
        {
          "output_type": "display_data",
          "data": {
            "image/png": "[encoded data removed]",
            "text/plain": [
              "<Figure size 1080x432 with 4 Axes>"
            ]
          },
          "metadata": {}
        }
      ]
    },
    {
      "cell_type": "markdown",
      "metadata": {
        "id": "hnO1Kw4mTOam"
      },
      "source": [
        "### Daily return\n",
        "\n",
        "$ return = \\frac{new - old}{old} $"
      ]
    },
    {
      "cell_type": "code",
      "metadata": {
        "id": "f00GnHskTOam"
      },
      "source": [
        "for company in company_list:\n",
        "    stock_prices[company]['Daily Return'] = stock_prices[company]['Adj Close'].pct_change()"
      ],
      "execution_count": null,
      "outputs": []
    },
    {
      "cell_type": "code",
      "metadata": {
        "colab": {
          "base_uri": "https://localhost:8080/",
          "height": 455
        },
        "id": "Tsp3jKXtTOam",
        "outputId": "f4cf9481-500e-448e-f228-16e7b06ce300"
      },
      "source": [
        "stock_prices[\"AAPL\"]"
      ],
      "execution_count": null,
      "outputs": [
        {
          "output_type": "execute_result",
          "data": {
            "text/html": [
              "<div>\n",
              "<style scoped>\n",
              "    .dataframe tbody tr th:only-of-type {\n",
              "        vertical-align: middle;\n",
              "    }\n",
              "\n",
              "    .dataframe tbody tr th {\n",
              "        vertical-align: top;\n",
              "    }\n",
              "\n",
              "    .dataframe thead th {\n",
              "        text-align: right;\n",
              "    }\n",
              "</style>\n",
              "<table border=\"1\" class=\"dataframe\">\n",
              "  <thead>\n",
              "    <tr style=\"text-align: right;\">\n",
              "      <th></th>\n",
              "      <th>High</th>\n",
              "      <th>Low</th>\n",
              "      <th>Open</th>\n",
              "      <th>Close</th>\n",
              "      <th>Volume</th>\n",
              "      <th>Adj Close</th>\n",
              "      <th>company_name</th>\n",
              "      <th>Daily Return</th>\n",
              "    </tr>\n",
              "    <tr>\n",
              "      <th>Date</th>\n",
              "      <th></th>\n",
              "      <th></th>\n",
              "      <th></th>\n",
              "      <th></th>\n",
              "      <th></th>\n",
              "      <th></th>\n",
              "      <th></th>\n",
              "      <th></th>\n",
              "    </tr>\n",
              "  </thead>\n",
              "  <tbody>\n",
              "    <tr>\n",
              "      <th>2011-01-03</th>\n",
              "      <td>11.795000</td>\n",
              "      <td>11.601429</td>\n",
              "      <td>11.630000</td>\n",
              "      <td>11.770357</td>\n",
              "      <td>445138400.0</td>\n",
              "      <td>10.106220</td>\n",
              "      <td>APPLE</td>\n",
              "      <td>NaN</td>\n",
              "    </tr>\n",
              "    <tr>\n",
              "      <th>2011-01-04</th>\n",
              "      <td>11.875000</td>\n",
              "      <td>11.719643</td>\n",
              "      <td>11.872857</td>\n",
              "      <td>11.831786</td>\n",
              "      <td>309080800.0</td>\n",
              "      <td>10.158968</td>\n",
              "      <td>APPLE</td>\n",
              "      <td>0.005219</td>\n",
              "    </tr>\n",
              "    <tr>\n",
              "      <th>2011-01-05</th>\n",
              "      <td>11.940714</td>\n",
              "      <td>11.767857</td>\n",
              "      <td>11.769643</td>\n",
              "      <td>11.928571</td>\n",
              "      <td>255519600.0</td>\n",
              "      <td>10.242065</td>\n",
              "      <td>APPLE</td>\n",
              "      <td>0.008180</td>\n",
              "    </tr>\n",
              "    <tr>\n",
              "      <th>2011-01-06</th>\n",
              "      <td>11.973214</td>\n",
              "      <td>11.889286</td>\n",
              "      <td>11.954286</td>\n",
              "      <td>11.918929</td>\n",
              "      <td>300428800.0</td>\n",
              "      <td>10.233788</td>\n",
              "      <td>APPLE</td>\n",
              "      <td>-0.000808</td>\n",
              "    </tr>\n",
              "    <tr>\n",
              "      <th>2011-01-07</th>\n",
              "      <td>12.012500</td>\n",
              "      <td>11.853571</td>\n",
              "      <td>11.928214</td>\n",
              "      <td>12.004286</td>\n",
              "      <td>311931200.0</td>\n",
              "      <td>10.307076</td>\n",
              "      <td>APPLE</td>\n",
              "      <td>0.007161</td>\n",
              "    </tr>\n",
              "    <tr>\n",
              "      <th>...</th>\n",
              "      <td>...</td>\n",
              "      <td>...</td>\n",
              "      <td>...</td>\n",
              "      <td>...</td>\n",
              "      <td>...</td>\n",
              "      <td>...</td>\n",
              "      <td>...</td>\n",
              "      <td>...</td>\n",
              "    </tr>\n",
              "    <tr>\n",
              "      <th>2021-08-18</th>\n",
              "      <td>150.720001</td>\n",
              "      <td>146.149994</td>\n",
              "      <td>149.800003</td>\n",
              "      <td>146.360001</td>\n",
              "      <td>86326000.0</td>\n",
              "      <td>146.360001</td>\n",
              "      <td>APPLE</td>\n",
              "      <td>-0.025501</td>\n",
              "    </tr>\n",
              "    <tr>\n",
              "      <th>2021-08-19</th>\n",
              "      <td>148.000000</td>\n",
              "      <td>144.500000</td>\n",
              "      <td>145.029999</td>\n",
              "      <td>146.699997</td>\n",
              "      <td>86960300.0</td>\n",
              "      <td>146.699997</td>\n",
              "      <td>APPLE</td>\n",
              "      <td>0.002323</td>\n",
              "    </tr>\n",
              "    <tr>\n",
              "      <th>2021-08-20</th>\n",
              "      <td>148.500000</td>\n",
              "      <td>146.779999</td>\n",
              "      <td>147.440002</td>\n",
              "      <td>148.190002</td>\n",
              "      <td>59947400.0</td>\n",
              "      <td>148.190002</td>\n",
              "      <td>APPLE</td>\n",
              "      <td>0.010157</td>\n",
              "    </tr>\n",
              "    <tr>\n",
              "      <th>2021-08-23</th>\n",
              "      <td>150.190002</td>\n",
              "      <td>147.889999</td>\n",
              "      <td>148.309998</td>\n",
              "      <td>149.710007</td>\n",
              "      <td>60007400.0</td>\n",
              "      <td>149.710007</td>\n",
              "      <td>APPLE</td>\n",
              "      <td>0.010257</td>\n",
              "    </tr>\n",
              "    <tr>\n",
              "      <th>2021-08-24</th>\n",
              "      <td>150.860001</td>\n",
              "      <td>149.149994</td>\n",
              "      <td>149.449997</td>\n",
              "      <td>150.544998</td>\n",
              "      <td>10589769.0</td>\n",
              "      <td>150.544998</td>\n",
              "      <td>APPLE</td>\n",
              "      <td>0.005577</td>\n",
              "    </tr>\n",
              "  </tbody>\n",
              "</table>\n",
              "<p>2679 rows × 8 columns</p>\n",
              "</div>"
            ],
            "text/plain": [
              "                  High         Low  ...  company_name  Daily Return\n",
              "Date                                ...                            \n",
              "2011-01-03   11.795000   11.601429  ...         APPLE           NaN\n",
              "2011-01-04   11.875000   11.719643  ...         APPLE      0.005219\n",
              "2011-01-05   11.940714   11.767857  ...         APPLE      0.008180\n",
              "2011-01-06   11.973214   11.889286  ...         APPLE     -0.000808\n",
              "2011-01-07   12.012500   11.853571  ...         APPLE      0.007161\n",
              "...                ...         ...  ...           ...           ...\n",
              "2021-08-18  150.720001  146.149994  ...         APPLE     -0.025501\n",
              "2021-08-19  148.000000  144.500000  ...         APPLE      0.002323\n",
              "2021-08-20  148.500000  146.779999  ...         APPLE      0.010157\n",
              "2021-08-23  150.190002  147.889999  ...         APPLE      0.010257\n",
              "2021-08-24  150.860001  149.149994  ...         APPLE      0.005577\n",
              "\n",
              "[2679 rows x 8 columns]"
            ]
          },
          "metadata": {},
          "execution_count": 17
        }
      ]
    },
    {
      "cell_type": "code",
      "metadata": {
        "colab": {
          "base_uri": "https://localhost:8080/"
        },
        "id": "ROYQXkNCQ8dt",
        "outputId": "9c8bcba5-07b1-4c18-9d94-150ac7190d6e"
      },
      "source": [
        "stock_prices[\"AAPL\"]['Adj Close']"
      ],
      "execution_count": null,
      "outputs": [
        {
          "output_type": "execute_result",
          "data": {
            "text/plain": [
              "Date\n",
              "2011-01-03     10.106220\n",
              "2011-01-04     10.158968\n",
              "2011-01-05     10.242065\n",
              "2011-01-06     10.233788\n",
              "2011-01-07     10.307076\n",
              "                 ...    \n",
              "2021-08-18    146.360001\n",
              "2021-08-19    146.699997\n",
              "2021-08-20    148.190002\n",
              "2021-08-23    149.710007\n",
              "2021-08-24    150.544998\n",
              "Name: Adj Close, Length: 2679, dtype: float64"
            ]
          },
          "metadata": {},
          "execution_count": 18
        }
      ]
    },
    {
      "cell_type": "code",
      "metadata": {
        "colab": {
          "base_uri": "https://localhost:8080/"
        },
        "id": "G4vDB21tRFPZ",
        "outputId": "fab32d5c-49ec-4cf5-9d15-a740d6d34df6"
      },
      "source": [
        "# penultimate_known_value_appl \n",
        "old =  stock_prices[\"AAPL\"]['Adj Close'][-2]\n",
        "print(f\"penultimate value of the AAPL stock price = {old}\")\n",
        "# last_known_value_appl \n",
        "new = stock_prices[\"AAPL\"]['Adj Close'][-1]\n",
        "print(f\"last known value of the AAPL stock price = {new}\")\n",
        "# percentage change\n",
        "print(f\"percentage of change = {round((new-old)/old,6)}\")"
      ],
      "execution_count": null,
      "outputs": [
        {
          "output_type": "stream",
          "text": [
            "penultimate value of the AAPL stock price = 149.7100067138672\n",
            "last known value of the AAPL stock price = 150.5449981689453\n",
            "percentage of change = 0.005577\n"
          ],
          "name": "stdout"
        }
      ]
    },
    {
      "cell_type": "code",
      "metadata": {
        "colab": {
          "base_uri": "https://localhost:8080/",
          "height": 313
        },
        "id": "ALPo8XT_TOan",
        "outputId": "c0def6a9-1f3b-4760-fa18-8280ed4de926"
      },
      "source": [
        "\n",
        "plt.figure(figsize=(15, 6))\n",
        "plt.subplots_adjust(top=1.25, bottom=1.2)\n",
        "\n",
        "for i, company in enumerate(company_list, 1):\n",
        "    plt.subplot(2, 2, i)\n",
        "    sns.histplot(data = stock_prices[company], x = 'Daily Return', color=\"purple\")\n",
        "    plt.ylabel('Daily Return')\n",
        "    plt.xlabel(None)\n",
        "    plt.title(f\"Daily Return  for {tech_list[i - 1]}\")\n",
        "    \n",
        "plt.tight_layout()"
      ],
      "execution_count": null,
      "outputs": [
        {
          "output_type": "display_data",
          "data": {
            "image/png": "[encoded data removed]",
            "text/plain": [
              "<Figure size 1080x432 with 4 Axes>"
            ]
          },
          "metadata": {}
        }
      ]
    },
    {
      "cell_type": "code",
      "metadata": {
        "colab": {
          "base_uri": "https://localhost:8080/"
        },
        "id": "_qCHpdZPTOao",
        "outputId": "013597bf-07b3-4d16-ff3e-a152c3eaf552"
      },
      "source": [
        "company_list"
      ],
      "execution_count": null,
      "outputs": [
        {
          "output_type": "execute_result",
          "data": {
            "text/plain": [
              "['AAPL', 'GOOG', 'MSFT', 'AMZN']"
            ]
          },
          "metadata": {},
          "execution_count": 21
        }
      ]
    },
    {
      "cell_type": "code",
      "metadata": {
        "id": "VFVW9S2tTOao"
      },
      "source": [
        "closing_df = DataReader(company_list, \"yahoo\", start, end)[\"Adj Close\"]"
      ],
      "execution_count": null,
      "outputs": []
    },
    {
      "cell_type": "code",
      "metadata": {
        "colab": {
          "base_uri": "https://localhost:8080/",
          "height": 237
        },
        "id": "KoyGndPbTOao",
        "outputId": "3c973ca2-0f5c-4416-f663-1e367ef91b95"
      },
      "source": [
        "closing_df.tail(5)"
      ],
      "execution_count": null,
      "outputs": [
        {
          "output_type": "execute_result",
          "data": {
            "text/html": [
              "<div>\n",
              "<style scoped>\n",
              "    .dataframe tbody tr th:only-of-type {\n",
              "        vertical-align: middle;\n",
              "    }\n",
              "\n",
              "    .dataframe tbody tr th {\n",
              "        vertical-align: top;\n",
              "    }\n",
              "\n",
              "    .dataframe thead th {\n",
              "        text-align: right;\n",
              "    }\n",
              "</style>\n",
              "<table border=\"1\" class=\"dataframe\">\n",
              "  <thead>\n",
              "    <tr style=\"text-align: right;\">\n",
              "      <th>Symbols</th>\n",
              "      <th>AAPL</th>\n",
              "      <th>GOOG</th>\n",
              "      <th>MSFT</th>\n",
              "      <th>AMZN</th>\n",
              "    </tr>\n",
              "    <tr>\n",
              "      <th>Date</th>\n",
              "      <th></th>\n",
              "      <th></th>\n",
              "      <th></th>\n",
              "      <th></th>\n",
              "    </tr>\n",
              "  </thead>\n",
              "  <tbody>\n",
              "    <tr>\n",
              "      <th>2021-08-18</th>\n",
              "      <td>146.360001</td>\n",
              "      <td>2731.399902</td>\n",
              "      <td>290.730011</td>\n",
              "      <td>3201.219971</td>\n",
              "    </tr>\n",
              "    <tr>\n",
              "      <th>2021-08-19</th>\n",
              "      <td>146.699997</td>\n",
              "      <td>2738.270020</td>\n",
              "      <td>296.769989</td>\n",
              "      <td>3187.750000</td>\n",
              "    </tr>\n",
              "    <tr>\n",
              "      <th>2021-08-20</th>\n",
              "      <td>148.190002</td>\n",
              "      <td>2768.739990</td>\n",
              "      <td>304.359985</td>\n",
              "      <td>3199.949951</td>\n",
              "    </tr>\n",
              "    <tr>\n",
              "      <th>2021-08-23</th>\n",
              "      <td>149.710007</td>\n",
              "      <td>2821.989990</td>\n",
              "      <td>304.649994</td>\n",
              "      <td>3265.870117</td>\n",
              "    </tr>\n",
              "    <tr>\n",
              "      <th>2021-08-24</th>\n",
              "      <td>150.570206</td>\n",
              "      <td>2844.810059</td>\n",
              "      <td>304.000000</td>\n",
              "      <td>3280.469971</td>\n",
              "    </tr>\n",
              "  </tbody>\n",
              "</table>\n",
              "</div>"
            ],
            "text/plain": [
              "Symbols           AAPL         GOOG        MSFT         AMZN\n",
              "Date                                                        \n",
              "2021-08-18  146.360001  2731.399902  290.730011  3201.219971\n",
              "2021-08-19  146.699997  2738.270020  296.769989  3187.750000\n",
              "2021-08-20  148.190002  2768.739990  304.359985  3199.949951\n",
              "2021-08-23  149.710007  2821.989990  304.649994  3265.870117\n",
              "2021-08-24  150.570206  2844.810059  304.000000  3280.469971"
            ]
          },
          "metadata": {},
          "execution_count": 23
        }
      ]
    },
    {
      "cell_type": "code",
      "metadata": {
        "colab": {
          "base_uri": "https://localhost:8080/",
          "height": 455
        },
        "id": "p3d493f8TOap",
        "outputId": "9f100380-be12-4840-fcdc-3d06774dfe6f"
      },
      "source": [
        "daily_returns = closing_df.pct_change()\n",
        "daily_returns"
      ],
      "execution_count": null,
      "outputs": [
        {
          "output_type": "execute_result",
          "data": {
            "text/html": [
              "<div>\n",
              "<style scoped>\n",
              "    .dataframe tbody tr th:only-of-type {\n",
              "        vertical-align: middle;\n",
              "    }\n",
              "\n",
              "    .dataframe tbody tr th {\n",
              "        vertical-align: top;\n",
              "    }\n",
              "\n",
              "    .dataframe thead th {\n",
              "        text-align: right;\n",
              "    }\n",
              "</style>\n",
              "<table border=\"1\" class=\"dataframe\">\n",
              "  <thead>\n",
              "    <tr style=\"text-align: right;\">\n",
              "      <th>Symbols</th>\n",
              "      <th>AAPL</th>\n",
              "      <th>GOOG</th>\n",
              "      <th>MSFT</th>\n",
              "      <th>AMZN</th>\n",
              "    </tr>\n",
              "    <tr>\n",
              "      <th>Date</th>\n",
              "      <th></th>\n",
              "      <th></th>\n",
              "      <th></th>\n",
              "      <th></th>\n",
              "    </tr>\n",
              "  </thead>\n",
              "  <tbody>\n",
              "    <tr>\n",
              "      <th>2011-01-03</th>\n",
              "      <td>NaN</td>\n",
              "      <td>NaN</td>\n",
              "      <td>NaN</td>\n",
              "      <td>NaN</td>\n",
              "    </tr>\n",
              "    <tr>\n",
              "      <th>2011-01-04</th>\n",
              "      <td>0.005219</td>\n",
              "      <td>-0.003690</td>\n",
              "      <td>0.003931</td>\n",
              "      <td>0.004288</td>\n",
              "    </tr>\n",
              "    <tr>\n",
              "      <th>2011-01-05</th>\n",
              "      <td>0.008180</td>\n",
              "      <td>0.011543</td>\n",
              "      <td>-0.003204</td>\n",
              "      <td>0.013026</td>\n",
              "    </tr>\n",
              "    <tr>\n",
              "      <th>2011-01-06</th>\n",
              "      <td>-0.000808</td>\n",
              "      <td>0.007273</td>\n",
              "      <td>0.029286</td>\n",
              "      <td>-0.008324</td>\n",
              "    </tr>\n",
              "    <tr>\n",
              "      <th>2011-01-07</th>\n",
              "      <td>0.007161</td>\n",
              "      <td>0.004792</td>\n",
              "      <td>-0.007633</td>\n",
              "      <td>-0.001991</td>\n",
              "    </tr>\n",
              "    <tr>\n",
              "      <th>...</th>\n",
              "      <td>...</td>\n",
              "      <td>...</td>\n",
              "      <td>...</td>\n",
              "      <td>...</td>\n",
              "    </tr>\n",
              "    <tr>\n",
              "      <th>2021-08-18</th>\n",
              "      <td>-0.025501</td>\n",
              "      <td>-0.005320</td>\n",
              "      <td>-0.006119</td>\n",
              "      <td>-0.012566</td>\n",
              "    </tr>\n",
              "    <tr>\n",
              "      <th>2021-08-19</th>\n",
              "      <td>0.002323</td>\n",
              "      <td>0.002515</td>\n",
              "      <td>0.020775</td>\n",
              "      <td>-0.004208</td>\n",
              "    </tr>\n",
              "    <tr>\n",
              "      <th>2021-08-20</th>\n",
              "      <td>0.010157</td>\n",
              "      <td>0.011127</td>\n",
              "      <td>0.025575</td>\n",
              "      <td>0.003827</td>\n",
              "    </tr>\n",
              "    <tr>\n",
              "      <th>2021-08-23</th>\n",
              "      <td>0.010257</td>\n",
              "      <td>0.019233</td>\n",
              "      <td>0.000953</td>\n",
              "      <td>0.020600</td>\n",
              "    </tr>\n",
              "    <tr>\n",
              "      <th>2021-08-24</th>\n",
              "      <td>0.005746</td>\n",
              "      <td>0.008087</td>\n",
              "      <td>-0.002134</td>\n",
              "      <td>0.004470</td>\n",
              "    </tr>\n",
              "  </tbody>\n",
              "</table>\n",
              "<p>2679 rows × 4 columns</p>\n",
              "</div>"
            ],
            "text/plain": [
              "Symbols         AAPL      GOOG      MSFT      AMZN\n",
              "Date                                              \n",
              "2011-01-03       NaN       NaN       NaN       NaN\n",
              "2011-01-04  0.005219 -0.003690  0.003931  0.004288\n",
              "2011-01-05  0.008180  0.011543 -0.003204  0.013026\n",
              "2011-01-06 -0.000808  0.007273  0.029286 -0.008324\n",
              "2011-01-07  0.007161  0.004792 -0.007633 -0.001991\n",
              "...              ...       ...       ...       ...\n",
              "2021-08-18 -0.025501 -0.005320 -0.006119 -0.012566\n",
              "2021-08-19  0.002323  0.002515  0.020775 -0.004208\n",
              "2021-08-20  0.010157  0.011127  0.025575  0.003827\n",
              "2021-08-23  0.010257  0.019233  0.000953  0.020600\n",
              "2021-08-24  0.005746  0.008087 -0.002134  0.004470\n",
              "\n",
              "[2679 rows x 4 columns]"
            ]
          },
          "metadata": {},
          "execution_count": 24
        }
      ]
    },
    {
      "cell_type": "code",
      "metadata": {
        "colab": {
          "base_uri": "https://localhost:8080/",
          "height": 451
        },
        "id": "GauQF3Z2TOap",
        "outputId": "6e552d65-d8aa-4835-c944-48d59dd2de24"
      },
      "source": [
        "# Comparing Google to itself should show a perfectly linear relationship\n",
        "sns.jointplot(x = 'GOOG', y = 'GOOG', data = daily_returns, kind='scatter', color='seagreen')"
      ],
      "execution_count": null,
      "outputs": [
        {
          "output_type": "execute_result",
          "data": {
            "text/plain": [
              "<seaborn.axisgrid.JointGrid at 0x7f9325109c50>"
            ]
          },
          "metadata": {},
          "execution_count": 25
        },
        {
          "output_type": "display_data",
          "data": {
            "image/png": "[encoded data removed]",
            "text/plain": [
              "<Figure size 432x432 with 3 Axes>"
            ]
          },
          "metadata": {}
        }
      ]
    },
    {
      "cell_type": "code",
      "metadata": {
        "colab": {
          "base_uri": "https://localhost:8080/",
          "height": 741
        },
        "id": "7rjqSkDhTOaq",
        "outputId": "1256412e-acda-469f-ca76-56f7a569dee8"
      },
      "source": [
        "sns.pairplot(daily_returns, kind=\"reg\")"
      ],
      "execution_count": null,
      "outputs": [
        {
          "output_type": "execute_result",
          "data": {
            "text/plain": [
              "<seaborn.axisgrid.PairGrid at 0x7f9330261850>"
            ]
          },
          "metadata": {},
          "execution_count": 26
        },
        {
          "output_type": "display_data",
          "data": {
            "image/png": "[encoded data removed]",
            "text/plain": [
              "<Figure size 720x720 with 20 Axes>"
            ]
          },
          "metadata": {}
        }
      ]
    },
    {
      "cell_type": "code",
      "metadata": {
        "colab": {
          "base_uri": "https://localhost:8080/",
          "height": 327
        },
        "id": "KT8jTErhTOaq",
        "outputId": "0bf4dcbd-70d9-4832-c472-c5407a7a1496"
      },
      "source": [
        "sns.heatmap(daily_returns.corr(),annot=True, cmap=\"RdYlBu\")"
      ],
      "execution_count": null,
      "outputs": [
        {
          "output_type": "execute_result",
          "data": {
            "text/plain": [
              "<matplotlib.axes._subplots.AxesSubplot at 0x7f93256704d0>"
            ]
          },
          "metadata": {},
          "execution_count": 27
        },
        {
          "output_type": "display_data",
          "data": {
            "image/png": "[encoded data removed]",
            "text/plain": [
              "<Figure size 432x288 with 2 Axes>"
            ]
          },
          "metadata": {}
        }
      ]
    },
    {
      "cell_type": "markdown",
      "metadata": {
        "id": "Hke3EKh9TOaq"
      },
      "source": [
        "## Apple Stock Price\n",
        "\n",
        "`Apple`, `Google`, `Microsoft` and `Amazon` look quite correlated.\n",
        "\n",
        "But first, let's try to predict the AAPL stock price without using its competitors' info."
      ]
    },
    {
      "cell_type": "code",
      "metadata": {
        "colab": {
          "base_uri": "https://localhost:8080/",
          "height": 237
        },
        "id": "Ih6Rw3mBTOar",
        "outputId": "e01f20fe-d4d7-4a9c-93bc-313637b73aa3"
      },
      "source": [
        "aapl = stock_prices[\"AAPL\"]\n",
        "aapl.tail(5)"
      ],
      "execution_count": null,
      "outputs": [
        {
          "output_type": "execute_result",
          "data": {
            "text/html": [
              "<div>\n",
              "<style scoped>\n",
              "    .dataframe tbody tr th:only-of-type {\n",
              "        vertical-align: middle;\n",
              "    }\n",
              "\n",
              "    .dataframe tbody tr th {\n",
              "        vertical-align: top;\n",
              "    }\n",
              "\n",
              "    .dataframe thead th {\n",
              "        text-align: right;\n",
              "    }\n",
              "</style>\n",
              "<table border=\"1\" class=\"dataframe\">\n",
              "  <thead>\n",
              "    <tr style=\"text-align: right;\">\n",
              "      <th></th>\n",
              "      <th>High</th>\n",
              "      <th>Low</th>\n",
              "      <th>Open</th>\n",
              "      <th>Close</th>\n",
              "      <th>Volume</th>\n",
              "      <th>Adj Close</th>\n",
              "      <th>company_name</th>\n",
              "      <th>Daily Return</th>\n",
              "    </tr>\n",
              "    <tr>\n",
              "      <th>Date</th>\n",
              "      <th></th>\n",
              "      <th></th>\n",
              "      <th></th>\n",
              "      <th></th>\n",
              "      <th></th>\n",
              "      <th></th>\n",
              "      <th></th>\n",
              "      <th></th>\n",
              "    </tr>\n",
              "  </thead>\n",
              "  <tbody>\n",
              "    <tr>\n",
              "      <th>2021-08-18</th>\n",
              "      <td>150.720001</td>\n",
              "      <td>146.149994</td>\n",
              "      <td>149.800003</td>\n",
              "      <td>146.360001</td>\n",
              "      <td>86326000.0</td>\n",
              "      <td>146.360001</td>\n",
              "      <td>APPLE</td>\n",
              "      <td>-0.025501</td>\n",
              "    </tr>\n",
              "    <tr>\n",
              "      <th>2021-08-19</th>\n",
              "      <td>148.000000</td>\n",
              "      <td>144.500000</td>\n",
              "      <td>145.029999</td>\n",
              "      <td>146.699997</td>\n",
              "      <td>86960300.0</td>\n",
              "      <td>146.699997</td>\n",
              "      <td>APPLE</td>\n",
              "      <td>0.002323</td>\n",
              "    </tr>\n",
              "    <tr>\n",
              "      <th>2021-08-20</th>\n",
              "      <td>148.500000</td>\n",
              "      <td>146.779999</td>\n",
              "      <td>147.440002</td>\n",
              "      <td>148.190002</td>\n",
              "      <td>59947400.0</td>\n",
              "      <td>148.190002</td>\n",
              "      <td>APPLE</td>\n",
              "      <td>0.010157</td>\n",
              "    </tr>\n",
              "    <tr>\n",
              "      <th>2021-08-23</th>\n",
              "      <td>150.190002</td>\n",
              "      <td>147.889999</td>\n",
              "      <td>148.309998</td>\n",
              "      <td>149.710007</td>\n",
              "      <td>60007400.0</td>\n",
              "      <td>149.710007</td>\n",
              "      <td>APPLE</td>\n",
              "      <td>0.010257</td>\n",
              "    </tr>\n",
              "    <tr>\n",
              "      <th>2021-08-24</th>\n",
              "      <td>150.860001</td>\n",
              "      <td>149.149994</td>\n",
              "      <td>149.449997</td>\n",
              "      <td>150.544998</td>\n",
              "      <td>10589769.0</td>\n",
              "      <td>150.544998</td>\n",
              "      <td>APPLE</td>\n",
              "      <td>0.005577</td>\n",
              "    </tr>\n",
              "  </tbody>\n",
              "</table>\n",
              "</div>"
            ],
            "text/plain": [
              "                  High         Low  ...  company_name  Daily Return\n",
              "Date                                ...                            \n",
              "2021-08-18  150.720001  146.149994  ...         APPLE     -0.025501\n",
              "2021-08-19  148.000000  144.500000  ...         APPLE      0.002323\n",
              "2021-08-20  148.500000  146.779999  ...         APPLE      0.010157\n",
              "2021-08-23  150.190002  147.889999  ...         APPLE      0.010257\n",
              "2021-08-24  150.860001  149.149994  ...         APPLE      0.005577\n",
              "\n",
              "[5 rows x 8 columns]"
            ]
          },
          "metadata": {},
          "execution_count": 28
        }
      ]
    },
    {
      "cell_type": "code",
      "metadata": {
        "colab": {
          "base_uri": "https://localhost:8080/",
          "height": 362
        },
        "id": "SsxjsoErTOar",
        "outputId": "af989cd3-6804-4334-b8f5-32e12bdd7ed2"
      },
      "source": [
        "plt.figure(figsize=(16,6))\n",
        "plt.title('Adj Close Price History')\n",
        "plt.plot(aapl['Adj Close'])\n",
        "plt.xlabel('Date', fontsize=18)\n",
        "plt.ylabel('Adj Close Price USD ($)', fontsize=18)\n",
        "plt.show()"
      ],
      "execution_count": null,
      "outputs": [
        {
          "output_type": "display_data",
          "data": {
            "image/png": "[encoded data removed]",
            "text/plain": [
              "<Figure size 1152x432 with 1 Axes>"
            ]
          },
          "metadata": {}
        }
      ]
    },
    {
      "cell_type": "markdown",
      "metadata": {
        "id": "TKGkVJ3HTOas"
      },
      "source": [
        "### Neural Networks require tensors/arrays..."
      ]
    },
    {
      "cell_type": "code",
      "metadata": {
        "id": "gkQ3uWAtTOas",
        "colab": {
          "base_uri": "https://localhost:8080/",
          "height": 183
        },
        "outputId": "30d5366c-4208-4038-d73b-b6381724bf53"
      },
      "source": [
        "data = aapl[[\"Close\"]].values\n",
        "print(type(data))\n",
        "display(data)\n",
        "print(data.shape)"
      ],
      "execution_count": null,
      "outputs": [
        {
          "output_type": "stream",
          "text": [
            "<class 'numpy.ndarray'>\n"
          ],
          "name": "stdout"
        },
        {
          "output_type": "display_data",
          "data": {
            "text/plain": [
              "array([[ 11.77035713],\n",
              "       [ 11.83178616],\n",
              "       [ 11.92857075],\n",
              "       ...,\n",
              "       [148.19000244],\n",
              "       [149.71000671],\n",
              "       [150.54499817]])"
            ]
          },
          "metadata": {}
        },
        {
          "output_type": "stream",
          "text": [
            "(2679, 1)\n"
          ],
          "name": "stdout"
        }
      ]
    },
    {
      "cell_type": "markdown",
      "metadata": {
        "id": "-xCE9uVbTOat"
      },
      "source": [
        "### Temporal Train-Test Split\n",
        "\n",
        "❌ We can't do a traditional holdout method due to the temporal nature of our dataset. \n",
        "\n",
        "☢️ It would cause a data leakage... \n",
        "\n",
        "👉 So let's do it manually."
      ]
    },
    {
      "cell_type": "code",
      "metadata": {
        "id": "ywO60BptTOat"
      },
      "source": [
        "train_percentage = 95"
      ],
      "execution_count": null,
      "outputs": []
    },
    {
      "cell_type": "code",
      "metadata": {
        "colab": {
          "base_uri": "https://localhost:8080/"
        },
        "id": "7WYQ6ez0TOat",
        "outputId": "62bd5702-01f1-4899-bebb-7076710b4718"
      },
      "source": [
        "train_len = int(len(data) * train_percentage/100)\n",
        "train_len"
      ],
      "execution_count": null,
      "outputs": [
        {
          "output_type": "execute_result",
          "data": {
            "text/plain": [
              "2545"
            ]
          },
          "metadata": {},
          "execution_count": 32
        }
      ]
    },
    {
      "cell_type": "code",
      "metadata": {
        "colab": {
          "base_uri": "https://localhost:8080/"
        },
        "id": "Q9kBZQrhTOau",
        "outputId": "45e6d906-b269-4b6a-b744-4008725a12c3"
      },
      "source": [
        "len(data)"
      ],
      "execution_count": null,
      "outputs": [
        {
          "output_type": "execute_result",
          "data": {
            "text/plain": [
              "2679"
            ]
          },
          "metadata": {},
          "execution_count": 33
        }
      ]
    },
    {
      "cell_type": "code",
      "metadata": {
        "id": "du_UX6DFTOau"
      },
      "source": [
        "data_train = data[:train_len]\n",
        "data_test = data[train_len:]"
      ],
      "execution_count": null,
      "outputs": []
    },
    {
      "cell_type": "code",
      "metadata": {
        "colab": {
          "base_uri": "https://localhost:8080/"
        },
        "id": "0jztDta4h3b3",
        "outputId": "59154447-445d-4f2a-86d7-2c9a3295e44f"
      },
      "source": [
        "len(data_train)"
      ],
      "execution_count": null,
      "outputs": [
        {
          "output_type": "execute_result",
          "data": {
            "text/plain": [
              "2545"
            ]
          },
          "metadata": {},
          "execution_count": 49
        }
      ]
    },
    {
      "cell_type": "code",
      "metadata": {
        "id": "ZrKRwzYkh56i"
      },
      "source": [
        "window_size = 3\n",
        "horizon = 1"
      ],
      "execution_count": null,
      "outputs": []
    },
    {
      "cell_type": "code",
      "metadata": {
        "id": "Na7bSqrKkt-4"
      },
      "source": [
        ""
      ],
      "execution_count": null,
      "outputs": []
    },
    {
      "cell_type": "markdown",
      "metadata": {
        "id": "bVhbG6zLkuXh"
      },
      "source": [
        "```python\n",
        "def my_beautiful_function():\n",
        "  return blabla\n",
        "```\n",
        "\n",
        "```sql\n",
        "SELECT *\n",
        "FROM my_table\n",
        "```"
      ]
    },
    {
      "cell_type": "code",
      "metadata": {
        "id": "omzv2Peih7nF"
      },
      "source": [
        "data_train_subsequences = []\n",
        "fake_y_train = []\n",
        "for k in range(len(data_train)-(window_size-1)-horizon):\n",
        "  data_train_subsequences.append(data_train[k:k+window_size])\n",
        "  fake_y_train.append(data_train[k+window_size])"
      ],
      "execution_count": null,
      "outputs": []
    },
    {
      "cell_type": "code",
      "metadata": {
        "colab": {
          "base_uri": "https://localhost:8080/"
        },
        "id": "q6jry9i6iJMv",
        "outputId": "e107e97b-b6ce-40c7-e500-9230414c1ee8"
      },
      "source": [
        "len(data_train_subsequences)"
      ],
      "execution_count": null,
      "outputs": [
        {
          "output_type": "execute_result",
          "data": {
            "text/plain": [
              "2543"
            ]
          },
          "metadata": {},
          "execution_count": 53
        }
      ]
    },
    {
      "cell_type": "code",
      "metadata": {
        "colab": {
          "base_uri": "https://localhost:8080/"
        },
        "id": "SW3HojpfiLAc",
        "outputId": "a94aff08-ef16-49c0-a2bc-01cccb9b11e3"
      },
      "source": [
        "len(data_train) - window_size + 1"
      ],
      "execution_count": null,
      "outputs": [
        {
          "output_type": "execute_result",
          "data": {
            "text/plain": [
              "2543"
            ]
          },
          "metadata": {},
          "execution_count": 54
        }
      ]
    },
    {
      "cell_type": "code",
      "metadata": {
        "colab": {
          "base_uri": "https://localhost:8080/"
        },
        "id": "DmiAtKJaiWqA",
        "outputId": "39f12530-5423-464f-cc19-84c899348c30"
      },
      "source": [
        "np.array(data_train_subsequences).shape"
      ],
      "execution_count": null,
      "outputs": [
        {
          "output_type": "execute_result",
          "data": {
            "text/plain": [
              "(2543, 3, 1)"
            ]
          },
          "metadata": {},
          "execution_count": 55
        }
      ]
    },
    {
      "cell_type": "markdown",
      "metadata": {
        "id": "PO0NJSeTTOau"
      },
      "source": [
        "## Data Preparation"
      ]
    },
    {
      "cell_type": "markdown",
      "metadata": {
        "id": "g-_E776DxAxt"
      },
      "source": [
        "### Scaling"
      ]
    },
    {
      "cell_type": "code",
      "metadata": {
        "id": "LsSFTVehTOau"
      },
      "source": [
        "from sklearn.preprocessing import MinMaxScaler\n",
        "\n",
        "minmax_scaler = MinMaxScaler(feature_range = (0,1))\n",
        "\n",
        "minmax_scaler.fit(data_train)\n",
        "\n",
        "data_train_scaled = minmax_scaler.transform(data_train)\n",
        "data_test_scaled = minmax_scaler.transform(data_test)"
      ],
      "execution_count": null,
      "outputs": []
    },
    {
      "cell_type": "code",
      "metadata": {
        "colab": {
          "base_uri": "https://localhost:8080/"
        },
        "id": "vCCSU71kTOau",
        "outputId": "562c8d1e-0318-40dc-adff-5f7a24c35709"
      },
      "source": [
        "minmax_scaler.data_max_"
      ],
      "execution_count": null,
      "outputs": [
        {
          "output_type": "execute_result",
          "data": {
            "text/plain": [
              "array([143.16000366])"
            ]
          },
          "metadata": {},
          "execution_count": 36
        }
      ]
    },
    {
      "cell_type": "code",
      "metadata": {
        "colab": {
          "base_uri": "https://localhost:8080/"
        },
        "id": "7u5vQbfPTOav",
        "outputId": "e4c5a198-b424-4712-fc2a-a332750a931a"
      },
      "source": [
        "minmax_scaler.data_min_"
      ],
      "execution_count": null,
      "outputs": [
        {
          "output_type": "execute_result",
          "data": {
            "text/plain": [
              "array([11.26142883])"
            ]
          },
          "metadata": {},
          "execution_count": 37
        }
      ]
    },
    {
      "cell_type": "code",
      "metadata": {
        "colab": {
          "base_uri": "https://localhost:8080/",
          "height": 300
        },
        "id": "cNFmve6jNShL",
        "outputId": "4b676869-1257-4229-bad3-919a49dd165e"
      },
      "source": [
        "# double check that the train dataset has been min-max scaled\n",
        "sns.boxplot(x = data_train_scaled)"
      ],
      "execution_count": null,
      "outputs": [
        {
          "output_type": "execute_result",
          "data": {
            "text/plain": [
              "<matplotlib.axes._subplots.AxesSubplot at 0x7f9323a0ec50>"
            ]
          },
          "metadata": {},
          "execution_count": 38
        },
        {
          "output_type": "display_data",
          "data": {
            "image/png": "[encoded data removed]",
            "text/plain": [
              "<Figure size 432x288 with 1 Axes>"
            ]
          },
          "metadata": {}
        }
      ]
    },
    {
      "cell_type": "code",
      "metadata": {
        "colab": {
          "base_uri": "https://localhost:8080/",
          "height": 300
        },
        "id": "Pb70eb4NNWT6",
        "outputId": "1fa95fe9-4b55-44d6-90e2-d9d77a6cd478"
      },
      "source": [
        "# double check that the test dataset has been min-max scaled\n",
        "sns.boxplot(x = data_test_scaled)"
      ],
      "execution_count": null,
      "outputs": [
        {
          "output_type": "execute_result",
          "data": {
            "text/plain": [
              "<matplotlib.axes._subplots.AxesSubplot at 0x7f9323752fd0>"
            ]
          },
          "metadata": {},
          "execution_count": 39
        },
        {
          "output_type": "display_data",
          "data": {
            "image/png": "[encoded data removed]",
            "text/plain": [
              "<Figure size 432x288 with 1 Axes>"
            ]
          },
          "metadata": {}
        }
      ]
    },
    {
      "cell_type": "markdown",
      "metadata": {
        "id": "gMim3w6qTOaw"
      },
      "source": [
        "### Creating subsequences..."
      ]
    },
    {
      "cell_type": "markdown",
      "metadata": {
        "id": "vbepvKWqTOaw"
      },
      "source": [
        "**Draft**"
      ]
    },
    {
      "cell_type": "code",
      "metadata": {
        "id": "QQZAdV5VTOaw"
      },
      "source": [
        "# creating a subsequence with 5 days/week x 4 weeks/month x 3 months = 60 days\n",
        "length = 5*4*3\n",
        "\n",
        "# predicting what is happening on the day 61, 62, 63, 64, 65\n",
        "horizon  = 1"
      ],
      "execution_count": null,
      "outputs": []
    },
    {
      "cell_type": "code",
      "metadata": {
        "colab": {
          "base_uri": "https://localhost:8080/"
        },
        "id": "X01EQc2eTOaw",
        "outputId": "8f44d9e1-2cde-44ef-abef-09257b63bfef"
      },
      "source": [
        "len(data_train)"
      ],
      "execution_count": null,
      "outputs": [
        {
          "output_type": "execute_result",
          "data": {
            "text/plain": [
              "2545"
            ]
          },
          "metadata": {},
          "execution_count": 41
        }
      ]
    },
    {
      "cell_type": "code",
      "metadata": {
        "colab": {
          "base_uri": "https://localhost:8080/"
        },
        "id": "ASLLf4wNTOax",
        "outputId": "e930d986-8817-48d0-d3e8-fec2e5e472ad"
      },
      "source": [
        "last_possible_start = len(data_train) - length - horizon\n",
        "last_possible_start"
      ],
      "execution_count": null,
      "outputs": [
        {
          "output_type": "execute_result",
          "data": {
            "text/plain": [
              "2484"
            ]
          },
          "metadata": {},
          "execution_count": 43
        }
      ]
    },
    {
      "cell_type": "code",
      "metadata": {
        "colab": {
          "base_uri": "https://localhost:8080/"
        },
        "id": "kk7j20UWTOay",
        "outputId": "b15fc264-9ae7-441d-9976-9ae55e9e1d75"
      },
      "source": [
        "random_start = np.random.randint(0, last_possible_start)\n",
        "random_start"
      ],
      "execution_count": null,
      "outputs": [
        {
          "output_type": "execute_result",
          "data": {
            "text/plain": [
              "351"
            ]
          },
          "metadata": {},
          "execution_count": 44
        }
      ]
    },
    {
      "cell_type": "code",
      "metadata": {
        "colab": {
          "base_uri": "https://localhost:8080/"
        },
        "id": "nIfiWvAgTOay",
        "outputId": "fedc5bdc-9c34-4e1a-858b-6e5cfbc71b17"
      },
      "source": [
        "one_subsequence = data_train[random_start:random_start + length]\n",
        "one_subsequence.shape"
      ],
      "execution_count": null,
      "outputs": [
        {
          "output_type": "execute_result",
          "data": {
            "text/plain": [
              "(60, 1)"
            ]
          },
          "metadata": {},
          "execution_count": 45
        }
      ]
    },
    {
      "cell_type": "code",
      "metadata": {
        "colab": {
          "base_uri": "https://localhost:8080/"
        },
        "id": "HOxYyQobTOaz",
        "outputId": "58b6ac6a-f9bc-431b-d90f-f85f4726e1b4"
      },
      "source": [
        "one_target = data_train[random_start + length + horizon:random_start + length + horizon+5]\n",
        "print(one_target.shape)\n",
        "one_target"
      ],
      "execution_count": null,
      "outputs": [
        {
          "output_type": "stream",
          "text": [
            "(5, 1)\n"
          ],
          "name": "stdout"
        },
        {
          "output_type": "execute_result",
          "data": {
            "text/plain": [
              "array([[23.43071365],\n",
              "       [23.88821411],\n",
              "       [23.66535759],\n",
              "       [23.68642807],\n",
              "       [24.13142967]])"
            ]
          },
          "metadata": {},
          "execution_count": 46
        }
      ]
    },
    {
      "cell_type": "markdown",
      "metadata": {
        "id": "rH6iKqTtTOaz"
      },
      "source": [
        "**`subsequence`**"
      ]
    },
    {
      "cell_type": "code",
      "metadata": {
        "id": "uLSYeXScTOaz"
      },
      "source": [
        "def subsequence(df, length, horizon):\n",
        "    last_possible_start = len(df) - length - horizon\n",
        "    random_start = np.random.randint(0, last_possible_start)\n",
        "    X = df[random_start:random_start + length]\n",
        "    y = df[random_start + length + horizon][0]\n",
        "    \n",
        "    return X, y"
      ],
      "execution_count": null,
      "outputs": []
    },
    {
      "cell_type": "code",
      "metadata": {
        "id": "aTdC-_xhTOa0"
      },
      "source": [
        "length = 60\n",
        "horizon  = 1\n",
        "\n",
        "X, y = subsequence(data_train, length, horizon)"
      ],
      "execution_count": null,
      "outputs": []
    },
    {
      "cell_type": "code",
      "metadata": {
        "colab": {
          "base_uri": "https://localhost:8080/"
        },
        "id": "OyXqptrjS-TK",
        "outputId": "f5ea2544-44e5-44fa-e10a-2a28d5995356"
      },
      "source": [
        "X.shape"
      ],
      "execution_count": null,
      "outputs": [
        {
          "output_type": "execute_result",
          "data": {
            "text/plain": [
              "(60, 1)"
            ]
          },
          "metadata": {},
          "execution_count": 64
        }
      ]
    },
    {
      "cell_type": "code",
      "metadata": {
        "colab": {
          "base_uri": "https://localhost:8080/"
        },
        "id": "nOR7R6pnqTwJ",
        "outputId": "65d4b5f8-45ef-41bd-ca8d-7d9fd2498fab"
      },
      "source": [
        "X[-5:]"
      ],
      "execution_count": null,
      "outputs": [
        {
          "output_type": "execute_result",
          "data": {
            "text/plain": [
              "array([[21.5714283 ],\n",
              "       [21.26142883],\n",
              "       [21.30500031],\n",
              "       [20.60000038],\n",
              "       [20.87928581]])"
            ]
          },
          "metadata": {},
          "execution_count": 67
        }
      ]
    },
    {
      "cell_type": "code",
      "metadata": {
        "colab": {
          "base_uri": "https://localhost:8080/"
        },
        "id": "cQ5Kue2iTvMG",
        "outputId": "72c4713e-708c-4a41-8d5d-6fa3c6383bb8"
      },
      "source": [
        "y"
      ],
      "execution_count": null,
      "outputs": [
        {
          "output_type": "execute_result",
          "data": {
            "text/plain": [
              "19.928571701049805"
            ]
          },
          "metadata": {},
          "execution_count": 68
        }
      ]
    },
    {
      "cell_type": "code",
      "metadata": {
        "colab": {
          "base_uri": "https://localhost:8080/"
        },
        "id": "99S6oys7Un0R",
        "outputId": "08613db0-3b9e-4a99-f5ef-77e7b29e1dae"
      },
      "source": [
        "len(data_test)"
      ],
      "execution_count": null,
      "outputs": [
        {
          "output_type": "execute_result",
          "data": {
            "text/plain": [
              "134"
            ]
          },
          "metadata": {},
          "execution_count": 69
        }
      ]
    },
    {
      "cell_type": "markdown",
      "metadata": {
        "id": "h5FZPKi2TOa0"
      },
      "source": [
        "**`multiple_subsequences`**"
      ]
    },
    {
      "cell_type": "code",
      "metadata": {
        "colab": {
          "base_uri": "https://localhost:8080/"
        },
        "id": "WFxDLd84T_jE",
        "outputId": "6d43e47b-92f8-4d3b-c0bb-48146a149c1e"
      },
      "source": [
        "np.random.randint(40, 61, 100)"
      ],
      "execution_count": null,
      "outputs": [
        {
          "output_type": "execute_result",
          "data": {
            "text/plain": [
              "array([43, 41, 56, 59, 56, 52, 42, 60, 58, 53, 57, 58, 49, 47, 48, 56, 43,\n",
              "       53, 51, 49, 57, 53, 57, 60, 56, 42, 57, 43, 58, 49, 56, 44, 40, 57,\n",
              "       42, 43, 60, 49, 42, 48, 56, 56, 51, 59, 60, 43, 53, 55, 52, 51, 45,\n",
              "       44, 48, 40, 44, 51, 44, 52, 44, 42, 53, 49, 42, 43, 52, 43, 50, 41,\n",
              "       40, 60, 58, 55, 51, 52, 53, 56, 40, 42, 44, 54, 46, 51, 60, 44, 60,\n",
              "       57, 55, 49, 47, 43, 44, 40, 44, 55, 55, 54, 40, 53, 41, 44])"
            ]
          },
          "metadata": {},
          "execution_count": 70
        }
      ]
    },
    {
      "cell_type": "code",
      "metadata": {
        "id": "Cxcc3IHrTOa0"
      },
      "source": [
        "def multiple_subsequences(df, number_of_subsequences,horizon = 1):\n",
        "    \n",
        "    list_of_X = []\n",
        "    list_of_y = []\n",
        "    \n",
        "    # we'll generate number_of_subsequences subsequences with random lengths between 40 and 60 days\n",
        "\n",
        "    list_of_lengths = np.random.randint(40, 61, number_of_subsequences) \n",
        "    \n",
        "    for (_, length) in zip(range(number_of_subsequences),list_of_lengths):\n",
        "        tmp_X, tmp_y = subsequence(df, length, horizon)\n",
        "        list_of_X.append(tmp_X)\n",
        "        list_of_y.append(tmp_y)\n",
        "        \n",
        "    \n",
        "    return list_of_X, list_of_y\n",
        "\n",
        "    \n",
        "    \n",
        "    "
      ],
      "execution_count": null,
      "outputs": []
    },
    {
      "cell_type": "code",
      "metadata": {
        "id": "WuVLTavjTOa1"
      },
      "source": [
        "X_train, y_train = multiple_subsequences(data_train_scaled, 2000, horizon = 1)\n",
        "X_test, y_test = multiple_subsequences(data_test_scaled, 1000,horizon = 1)"
      ],
      "execution_count": null,
      "outputs": []
    },
    {
      "cell_type": "markdown",
      "metadata": {
        "id": "KU7fCgwYTOa2"
      },
      "source": [
        "## LSTM"
      ]
    },
    {
      "cell_type": "markdown",
      "metadata": {
        "id": "Ob9ef9BNTOa2"
      },
      "source": [
        "### Padding..."
      ]
    },
    {
      "cell_type": "code",
      "metadata": {
        "colab": {
          "base_uri": "https://localhost:8080/",
          "height": 282
        },
        "id": "iWnExbV2TOa2",
        "outputId": "51fcadb2-0d5c-43c0-b1c0-cbc125d2fe00"
      },
      "source": [
        "plt.hist([len(_) for _ in X_train]);"
      ],
      "execution_count": null,
      "outputs": [
        {
          "output_type": "display_data",
          "data": {
            "image/png": "[encoded data removed]",
            "text/plain": [
              "<Figure size 432x288 with 1 Axes>"
            ]
          },
          "metadata": {}
        }
      ]
    },
    {
      "cell_type": "code",
      "metadata": {
        "colab": {
          "base_uri": "https://localhost:8080/",
          "height": 338
        },
        "id": "ysfC0CGZTOa2",
        "outputId": "f3bccdbc-a80f-4917-d471-a734ea8fffd7"
      },
      "source": [
        "plt.hist([len(_) for _ in X_test])"
      ],
      "execution_count": null,
      "outputs": [
        {
          "output_type": "execute_result",
          "data": {
            "text/plain": [
              "(array([ 95., 100.,  92.,  74., 106.,  96.,  92., 107.,  94., 144.]),\n",
              " array([40., 42., 44., 46., 48., 50., 52., 54., 56., 58., 60.]),\n",
              " <a list of 10 Patch objects>)"
            ]
          },
          "metadata": {},
          "execution_count": 78
        },
        {
          "output_type": "display_data",
          "data": {
            "image/png": "[encoded data removed]",
            "text/plain": [
              "<Figure size 432x288 with 1 Axes>"
            ]
          },
          "metadata": {}
        }
      ]
    },
    {
      "cell_type": "code",
      "metadata": {
        "id": "mZa7wPQaTOa3"
      },
      "source": [
        "from tensorflow.keras.preprocessing.sequence import pad_sequences\n",
        "\n",
        "X_train_pad = pad_sequences(X_train, value = -999, padding = \"post\", dtype=\"float64\")\n",
        "X_test_pad = pad_sequences(X_test, value = -999, padding = \"post\", dtype=\"float64\")"
      ],
      "execution_count": null,
      "outputs": []
    },
    {
      "cell_type": "code",
      "metadata": {
        "colab": {
          "base_uri": "https://localhost:8080/"
        },
        "id": "IZRdss3fL450",
        "outputId": "7c7cf916-fc8d-4c8b-bb3d-4b05dd13d1f8"
      },
      "source": [
        "X_train_pad.shape"
      ],
      "execution_count": null,
      "outputs": [
        {
          "output_type": "execute_result",
          "data": {
            "text/plain": [
              "(2000, 60, 1)"
            ]
          },
          "metadata": {},
          "execution_count": 80
        }
      ]
    },
    {
      "cell_type": "code",
      "metadata": {
        "colab": {
          "base_uri": "https://localhost:8080/"
        },
        "id": "kMIguf0qL451",
        "outputId": "24b754aa-bd0f-4606-a6d3-91d4d4c790d1"
      },
      "source": [
        "X_test_pad.shape"
      ],
      "execution_count": null,
      "outputs": [
        {
          "output_type": "execute_result",
          "data": {
            "text/plain": [
              "(1000, 60, 1)"
            ]
          },
          "metadata": {},
          "execution_count": 81
        }
      ]
    },
    {
      "cell_type": "markdown",
      "metadata": {
        "id": "4VXmMApdTOa3"
      },
      "source": [
        "### RNN Architecture"
      ]
    },
    {
      "cell_type": "code",
      "metadata": {
        "id": "GkEjh2ngTOa4",
        "colab": {
          "base_uri": "https://localhost:8080/",
          "height": 356
        },
        "outputId": "02699bde-7cde-4de0-b395-0007109c5546"
      },
      "source": [
        "from tensorflow.keras import Sequential, layers\n",
        "from tensorflow.keras import metrics\n",
        "\n",
        "# Build the LSTM model\n",
        "\n",
        "def my_rnn_model():\n",
        "  model = Sequential()\n",
        "\n",
        "  model.add(layers.Masking(mask_value=-999))\n",
        "\n",
        "  model.add(layers.LSTM(units=128,\n",
        "                      return_sequences = True,\n",
        "                      activation = \"tanh\",\n",
        "                      input_shape = X_train_pad[0].shape))\n",
        "\n",
        "  model.add(layers.LSTM(units=64,\n",
        "                        return_sequences = False,\n",
        "                        activation = \"tanh\"))\n",
        "\n",
        "  model.add(layers.Dense(25,\n",
        "                          activation=\"relu\"))\n",
        "\n",
        "  model.add(layers.Dense(1,\n",
        "                        activation=\"relu\"))\n",
        "  \n",
        "  my_mae = metrics.MeanAbsoluteError(name='mean_absolute_error', dtype=None)\n",
        "\n",
        "  model.compile(loss=\"mse\",\n",
        "              optimizer = \"rmsprop\",\n",
        "              metrics = [my_mae])\n",
        "  \n",
        "  return model\n",
        "\n",
        "model = my_rnn_model()\n",
        "\n"
      ],
      "execution_count": null,
      "outputs": [
        {
          "output_type": "error",
          "ename": "NameError",
          "evalue": "ignored",
          "traceback": [
            "\u001b[0;31m---------------------------------------------------------------------------\u001b[0m",
            "\u001b[0;31mNameError\u001b[0m                                 Traceback (most recent call last)",
            "\u001b[0;32m<ipython-input-47-d81c38987e88>\u001b[0m in \u001b[0;36m<module>\u001b[0;34m()\u001b[0m\n\u001b[1;32m     32\u001b[0m   \u001b[0;32mreturn\u001b[0m \u001b[0mmodel\u001b[0m\u001b[0;34m\u001b[0m\u001b[0;34m\u001b[0m\u001b[0m\n\u001b[1;32m     33\u001b[0m \u001b[0;34m\u001b[0m\u001b[0m\n\u001b[0;32m---> 34\u001b[0;31m \u001b[0mmodel\u001b[0m \u001b[0;34m=\u001b[0m \u001b[0mmy_rnn_model\u001b[0m\u001b[0;34m(\u001b[0m\u001b[0;34m)\u001b[0m\u001b[0;34m\u001b[0m\u001b[0;34m\u001b[0m\u001b[0m\n\u001b[0m\u001b[1;32m     35\u001b[0m \u001b[0;34m\u001b[0m\u001b[0m\n",
            "\u001b[0;32m<ipython-input-47-d81c38987e88>\u001b[0m in \u001b[0;36mmy_rnn_model\u001b[0;34m()\u001b[0m\n\u001b[1;32m     12\u001b[0m                       \u001b[0mreturn_sequences\u001b[0m \u001b[0;34m=\u001b[0m \u001b[0;32mTrue\u001b[0m\u001b[0;34m,\u001b[0m\u001b[0;34m\u001b[0m\u001b[0;34m\u001b[0m\u001b[0m\n\u001b[1;32m     13\u001b[0m                       \u001b[0mactivation\u001b[0m \u001b[0;34m=\u001b[0m \u001b[0;34m\"tanh\"\u001b[0m\u001b[0;34m,\u001b[0m\u001b[0;34m\u001b[0m\u001b[0;34m\u001b[0m\u001b[0m\n\u001b[0;32m---> 14\u001b[0;31m                       input_shape = X_train_pad[0].shape))\n\u001b[0m\u001b[1;32m     15\u001b[0m \u001b[0;34m\u001b[0m\u001b[0m\n\u001b[1;32m     16\u001b[0m   model.add(layers.LSTM(units=64,\n",
            "\u001b[0;31mNameError\u001b[0m: name 'X_train_pad' is not defined"
          ]
        }
      ]
    },
    {
      "cell_type": "code",
      "metadata": {
        "id": "LVaNtUikeb7j"
      },
      "source": [
        "   dr"
      ],
      "execution_count": null,
      "outputs": []
    },
    {
      "cell_type": "markdown",
      "metadata": {
        "id": "0JoMEFYdTOa5"
      },
      "source": [
        "### Training"
      ]
    },
    {
      "cell_type": "code",
      "metadata": {
        "colab": {
          "base_uri": "https://localhost:8080/"
        },
        "id": "x8WmFMDoTOa6",
        "outputId": "faeb38db-3145-47fd-a7bf-68c9cece6abd"
      },
      "source": [
        "from tensorflow.keras.callbacks import EarlyStopping \n",
        "\n",
        "es = EarlyStopping(patience = 25, monitor = \"val_mean_absolute_error\")\n",
        "\n",
        "\n",
        "history = model.fit(X_train_pad, np.array(y_train),\n",
        "          validation_split = 0.3,\n",
        "         batch_size=16,\n",
        "         epochs=300,\n",
        "         verbose = 1,\n",
        "         callbacks = [es])"
      ],
      "execution_count": null,
      "outputs": [
        {
          "output_type": "stream",
          "text": [
            "Epoch 1/300\n",
            "88/88 [==============================] - 21s 135ms/step - loss: 0.0050 - mean_absolute_error: 0.0344 - val_loss: 0.0073 - val_mean_absolute_error: 0.0702\n",
            "Epoch 2/300\n",
            "88/88 [==============================] - 10s 110ms/step - loss: 0.0016 - mean_absolute_error: 0.0233 - val_loss: 2.8575e-04 - val_mean_absolute_error: 0.0100\n",
            "Epoch 3/300\n",
            "88/88 [==============================] - 10s 111ms/step - loss: 0.0013 - mean_absolute_error: 0.0212 - val_loss: 2.8345e-04 - val_mean_absolute_error: 0.0112\n",
            "Epoch 4/300\n",
            "88/88 [==============================] - 10s 111ms/step - loss: 9.5819e-04 - mean_absolute_error: 0.0196 - val_loss: 0.0033 - val_mean_absolute_error: 0.0473\n",
            "Epoch 5/300\n",
            "88/88 [==============================] - 10s 110ms/step - loss: 7.1793e-04 - mean_absolute_error: 0.0167 - val_loss: 4.5779e-04 - val_mean_absolute_error: 0.0129\n",
            "Epoch 6/300\n",
            "88/88 [==============================] - 10s 111ms/step - loss: 5.7747e-04 - mean_absolute_error: 0.0164 - val_loss: 8.2262e-04 - val_mean_absolute_error: 0.0212\n",
            "Epoch 7/300\n",
            "88/88 [==============================] - 10s 110ms/step - loss: 5.6342e-04 - mean_absolute_error: 0.0154 - val_loss: 0.0024 - val_mean_absolute_error: 0.0294\n",
            "Epoch 8/300\n",
            "88/88 [==============================] - 10s 110ms/step - loss: 5.6817e-04 - mean_absolute_error: 0.0146 - val_loss: 1.9079e-04 - val_mean_absolute_error: 0.0106\n",
            "Epoch 9/300\n",
            "88/88 [==============================] - 10s 109ms/step - loss: 4.3681e-04 - mean_absolute_error: 0.0137 - val_loss: 0.0011 - val_mean_absolute_error: 0.0223\n",
            "Epoch 10/300\n",
            "88/88 [==============================] - 10s 110ms/step - loss: 5.0308e-04 - mean_absolute_error: 0.0146 - val_loss: 3.9235e-04 - val_mean_absolute_error: 0.0134\n",
            "Epoch 11/300\n",
            "88/88 [==============================] - 10s 109ms/step - loss: 3.8430e-04 - mean_absolute_error: 0.0136 - val_loss: 1.4322e-04 - val_mean_absolute_error: 0.0076\n",
            "Epoch 12/300\n",
            "88/88 [==============================] - 10s 111ms/step - loss: 3.8075e-04 - mean_absolute_error: 0.0128 - val_loss: 5.7119e-04 - val_mean_absolute_error: 0.0150\n",
            "Epoch 13/300\n",
            "88/88 [==============================] - 10s 109ms/step - loss: 4.2816e-04 - mean_absolute_error: 0.0138 - val_loss: 1.4853e-04 - val_mean_absolute_error: 0.0088\n",
            "Epoch 14/300\n",
            "88/88 [==============================] - 10s 109ms/step - loss: 3.8555e-04 - mean_absolute_error: 0.0131 - val_loss: 2.1095e-04 - val_mean_absolute_error: 0.0085\n",
            "Epoch 15/300\n",
            "88/88 [==============================] - 10s 109ms/step - loss: 3.4129e-04 - mean_absolute_error: 0.0121 - val_loss: 1.7740e-04 - val_mean_absolute_error: 0.0087\n",
            "Epoch 16/300\n",
            "88/88 [==============================] - 10s 110ms/step - loss: 3.7977e-04 - mean_absolute_error: 0.0122 - val_loss: 6.1352e-04 - val_mean_absolute_error: 0.0231\n",
            "Epoch 17/300\n",
            "88/88 [==============================] - 10s 109ms/step - loss: 3.3784e-04 - mean_absolute_error: 0.0125 - val_loss: 3.9324e-04 - val_mean_absolute_error: 0.0126\n",
            "Epoch 18/300\n",
            "88/88 [==============================] - 10s 110ms/step - loss: 3.0721e-04 - mean_absolute_error: 0.0118 - val_loss: 1.2095e-04 - val_mean_absolute_error: 0.0073\n",
            "Epoch 19/300\n",
            "88/88 [==============================] - 10s 110ms/step - loss: 3.0777e-04 - mean_absolute_error: 0.0126 - val_loss: 1.0793e-04 - val_mean_absolute_error: 0.0061\n",
            "Epoch 20/300\n",
            "88/88 [==============================] - 10s 110ms/step - loss: 3.2316e-04 - mean_absolute_error: 0.0120 - val_loss: 1.5445e-04 - val_mean_absolute_error: 0.0096\n",
            "Epoch 21/300\n",
            "88/88 [==============================] - 10s 110ms/step - loss: 2.8115e-04 - mean_absolute_error: 0.0115 - val_loss: 1.9943e-04 - val_mean_absolute_error: 0.0080\n",
            "Epoch 22/300\n",
            "88/88 [==============================] - 10s 110ms/step - loss: 2.6391e-04 - mean_absolute_error: 0.0112 - val_loss: 1.0270e-04 - val_mean_absolute_error: 0.0060\n",
            "Epoch 23/300\n",
            "88/88 [==============================] - 10s 110ms/step - loss: 2.5672e-04 - mean_absolute_error: 0.0111 - val_loss: 1.1395e-04 - val_mean_absolute_error: 0.0068\n",
            "Epoch 24/300\n",
            "88/88 [==============================] - 10s 110ms/step - loss: 2.6940e-04 - mean_absolute_error: 0.0107 - val_loss: 1.0762e-04 - val_mean_absolute_error: 0.0059\n",
            "Epoch 25/300\n",
            "88/88 [==============================] - 10s 111ms/step - loss: 2.4727e-04 - mean_absolute_error: 0.0110 - val_loss: 0.0026 - val_mean_absolute_error: 0.0342\n",
            "Epoch 26/300\n",
            "88/88 [==============================] - 10s 110ms/step - loss: 2.8898e-04 - mean_absolute_error: 0.0108 - val_loss: 2.9371e-04 - val_mean_absolute_error: 0.0144\n",
            "Epoch 27/300\n",
            "88/88 [==============================] - 10s 110ms/step - loss: 2.3886e-04 - mean_absolute_error: 0.0107 - val_loss: 5.2750e-04 - val_mean_absolute_error: 0.0134\n",
            "Epoch 28/300\n",
            "88/88 [==============================] - 10s 110ms/step - loss: 2.3758e-04 - mean_absolute_error: 0.0103 - val_loss: 2.0781e-04 - val_mean_absolute_error: 0.0122\n",
            "Epoch 29/300\n",
            "88/88 [==============================] - 10s 111ms/step - loss: 2.3974e-04 - mean_absolute_error: 0.0106 - val_loss: 4.4661e-04 - val_mean_absolute_error: 0.0122\n",
            "Epoch 30/300\n",
            "88/88 [==============================] - 10s 110ms/step - loss: 2.5669e-04 - mean_absolute_error: 0.0108 - val_loss: 2.6626e-04 - val_mean_absolute_error: 0.0119\n",
            "Epoch 31/300\n",
            "88/88 [==============================] - 10s 110ms/step - loss: 2.3620e-04 - mean_absolute_error: 0.0101 - val_loss: 1.6468e-04 - val_mean_absolute_error: 0.0077\n",
            "Epoch 32/300\n",
            "88/88 [==============================] - 10s 110ms/step - loss: 2.4344e-04 - mean_absolute_error: 0.0102 - val_loss: 5.5297e-04 - val_mean_absolute_error: 0.0188\n",
            "Epoch 33/300\n",
            "88/88 [==============================] - 10s 110ms/step - loss: 2.2178e-04 - mean_absolute_error: 0.0099 - val_loss: 3.5953e-04 - val_mean_absolute_error: 0.0133\n",
            "Epoch 34/300\n",
            "88/88 [==============================] - 10s 111ms/step - loss: 2.2629e-04 - mean_absolute_error: 0.0099 - val_loss: 2.6343e-04 - val_mean_absolute_error: 0.0102\n",
            "Epoch 35/300\n",
            "88/88 [==============================] - 10s 110ms/step - loss: 2.3686e-04 - mean_absolute_error: 0.0102 - val_loss: 5.3285e-04 - val_mean_absolute_error: 0.0156\n",
            "Epoch 36/300\n",
            "88/88 [==============================] - 10s 111ms/step - loss: 2.1693e-04 - mean_absolute_error: 0.0098 - val_loss: 6.2661e-04 - val_mean_absolute_error: 0.0150\n",
            "Epoch 37/300\n",
            "88/88 [==============================] - 10s 111ms/step - loss: 2.2170e-04 - mean_absolute_error: 0.0100 - val_loss: 3.3057e-04 - val_mean_absolute_error: 0.0137\n",
            "Epoch 38/300\n",
            "88/88 [==============================] - 10s 111ms/step - loss: 2.3635e-04 - mean_absolute_error: 0.0099 - val_loss: 1.0266e-04 - val_mean_absolute_error: 0.0061\n",
            "Epoch 39/300\n",
            "88/88 [==============================] - 10s 110ms/step - loss: 2.3995e-04 - mean_absolute_error: 0.0103 - val_loss: 2.3868e-04 - val_mean_absolute_error: 0.0096\n",
            "Epoch 40/300\n",
            "88/88 [==============================] - 10s 110ms/step - loss: 2.1122e-04 - mean_absolute_error: 0.0100 - val_loss: 2.1580e-04 - val_mean_absolute_error: 0.0100\n",
            "Epoch 41/300\n",
            "88/88 [==============================] - 10s 111ms/step - loss: 2.0852e-04 - mean_absolute_error: 0.0100 - val_loss: 3.0943e-04 - val_mean_absolute_error: 0.0112\n",
            "Epoch 42/300\n",
            "88/88 [==============================] - 10s 110ms/step - loss: 2.4579e-04 - mean_absolute_error: 0.0098 - val_loss: 1.0860e-04 - val_mean_absolute_error: 0.0060\n",
            "Epoch 43/300\n",
            "88/88 [==============================] - 10s 111ms/step - loss: 1.9605e-04 - mean_absolute_error: 0.0096 - val_loss: 5.9063e-04 - val_mean_absolute_error: 0.0149\n",
            "Epoch 44/300\n",
            "88/88 [==============================] - 10s 111ms/step - loss: 2.1820e-04 - mean_absolute_error: 0.0099 - val_loss: 1.3253e-04 - val_mean_absolute_error: 0.0069\n",
            "Epoch 45/300\n",
            "88/88 [==============================] - 10s 111ms/step - loss: 2.0983e-04 - mean_absolute_error: 0.0096 - val_loss: 2.6885e-04 - val_mean_absolute_error: 0.0119\n",
            "Epoch 46/300\n",
            "88/88 [==============================] - 10s 112ms/step - loss: 2.1282e-04 - mean_absolute_error: 0.0097 - val_loss: 1.5934e-04 - val_mean_absolute_error: 0.0077\n",
            "Epoch 47/300\n",
            "88/88 [==============================] - 10s 111ms/step - loss: 2.0511e-04 - mean_absolute_error: 0.0095 - val_loss: 3.6203e-04 - val_mean_absolute_error: 0.0130\n",
            "Epoch 48/300\n",
            "88/88 [==============================] - 10s 111ms/step - loss: 1.9857e-04 - mean_absolute_error: 0.0095 - val_loss: 1.4979e-04 - val_mean_absolute_error: 0.0092\n",
            "Epoch 49/300\n",
            "88/88 [==============================] - 10s 111ms/step - loss: 1.8902e-04 - mean_absolute_error: 0.0093 - val_loss: 4.5686e-04 - val_mean_absolute_error: 0.0155\n"
          ],
          "name": "stdout"
        }
      ]
    },
    {
      "cell_type": "code",
      "metadata": {
        "id": "6BnpySGUL453"
      },
      "source": [
        "def plot_loss_mae(history):\n",
        "    \n",
        "    fig, ax =plt.subplots(1,2,figsize=(20,5))\n",
        "    \n",
        "    # --- LOSS\n",
        "    \n",
        "    ax[0].plot(history.history['loss'])\n",
        "    ax[0].plot(history.history['val_loss'])\n",
        "    ax[0].set_title('Model loss')\n",
        "    ax[0].set_xlabel('Epoch')\n",
        "    ax[0].set_ylabel('Loss')\n",
        "    ax[0].legend(['Train', 'Val'], loc='upper right')\n",
        "    ax[0].grid(axis=\"x\",linewidth=0.5)\n",
        "    ax[0].grid(axis=\"y\",linewidth=0.5)\n",
        "    \n",
        "    # --- MAE\n",
        "\n",
        "    ax[1].plot(history.history['mean_absolute_error'])\n",
        "    ax[1].plot(history.history['val_mean_absolute_error'])\n",
        "    ax[1].set_title('Model MAE', fontsize = 18)\n",
        "    ax[1].set_xlabel('Epoch', fontsize = 14)\n",
        "    ax[1].set_ylabel('Recall', fontsize = 14)\n",
        "    ax[1].legend(['Train', 'Val'], loc='lower right') \n",
        "    ax[1].grid(axis=\"x\",linewidth=0.5)\n",
        "    ax[1].grid(axis=\"y\",linewidth=0.5)   \n",
        "    \n",
        "    plt.show()\n",
        "    "
      ],
      "execution_count": null,
      "outputs": []
    },
    {
      "cell_type": "code",
      "metadata": {
        "colab": {
          "base_uri": "https://localhost:8080/",
          "height": 383
        },
        "id": "CYBdZyrzL454",
        "outputId": "279b85c8-caf4-49bb-df0a-1732e7f77e56"
      },
      "source": [
        "plot_loss_mae(history)"
      ],
      "execution_count": null,
      "outputs": [
        {
          "output_type": "display_data",
          "data": {
            "image/png": "[encoded data removed]",
            "text/plain": [
              "<Figure size 1440x360 with 2 Axes>"
            ]
          },
          "metadata": {}
        }
      ]
    },
    {
      "cell_type": "markdown",
      "metadata": {
        "id": "dPlbdR24TOa7"
      },
      "source": [
        "### Evaluating"
      ]
    },
    {
      "cell_type": "code",
      "metadata": {
        "colab": {
          "base_uri": "https://localhost:8080/"
        },
        "id": "fGR98XHrTOa7",
        "outputId": "77ff3ee2-2a54-49f4-815a-806daea88e82"
      },
      "source": [
        "res = model.evaluate(X_test_pad, np.array(y_test), verbose = 1)\n",
        "res\n"
      ],
      "execution_count": null,
      "outputs": [
        {
          "output_type": "stream",
          "text": [
            "32/32 [==============================] - 1s 33ms/step - loss: 0.0031 - mean_absolute_error: 0.0523\n"
          ],
          "name": "stdout"
        },
        {
          "output_type": "execute_result",
          "data": {
            "text/plain": [
              "[0.003105105133727193, 0.05230402573943138]"
            ]
          },
          "metadata": {},
          "execution_count": 95
        }
      ]
    },
    {
      "cell_type": "markdown",
      "metadata": {
        "id": "o3S6CvgCTOa8"
      },
      "source": [
        "### Predictions"
      ]
    },
    {
      "cell_type": "code",
      "metadata": {
        "id": "_a1LDha2TOa9"
      },
      "source": [
        "predictions = model.predict(X_test_pad)"
      ],
      "execution_count": null,
      "outputs": []
    },
    {
      "cell_type": "code",
      "metadata": {
        "colab": {
          "base_uri": "https://localhost:8080/"
        },
        "id": "abi96XmrTOa-",
        "outputId": "ecc43546-00ad-4dd0-e54b-1817f40aaa51"
      },
      "source": [
        "len(predictions)"
      ],
      "execution_count": null,
      "outputs": [
        {
          "output_type": "execute_result",
          "data": {
            "text/plain": [
              "1000"
            ]
          },
          "metadata": {},
          "execution_count": 97
        }
      ]
    },
    {
      "cell_type": "code",
      "metadata": {
        "colab": {
          "base_uri": "https://localhost:8080/"
        },
        "id": "WbG_o9xrTOa-",
        "outputId": "03575407-bd16-40e8-f765-9e546845a216"
      },
      "source": [
        "len(y_test)"
      ],
      "execution_count": null,
      "outputs": [
        {
          "output_type": "execute_result",
          "data": {
            "text/plain": [
              "1000"
            ]
          },
          "metadata": {},
          "execution_count": 98
        }
      ]
    },
    {
      "cell_type": "markdown",
      "metadata": {
        "id": "bN_vtDyWTOa-"
      },
      "source": [
        "The operation computed during a `MinMaxScaler` Operation is:\n",
        "\n",
        "$$x_{scaled} = \\frac{x - x_{min}}{x_{max}- x_{min}}$$\n",
        "\n",
        "To descale it:\n",
        "\n",
        "$$x = x_{scaled} * (x_{max}- x_{min}) + x_{min}$$\n",
        "\n",
        "Or use the `inverse_transform` directly provided..."
      ]
    },
    {
      "cell_type": "code",
      "metadata": {
        "id": "i_zFadtCTOa-"
      },
      "source": [
        "a = minmax_scaler.data_min_\n",
        "b = minmax_scaler.data_max_"
      ],
      "execution_count": null,
      "outputs": []
    },
    {
      "cell_type": "code",
      "metadata": {
        "id": "F8e0828gTOa-"
      },
      "source": [
        "unscaled_predictions_manually_computed = predictions * (b - a) + a"
      ],
      "execution_count": null,
      "outputs": []
    },
    {
      "cell_type": "code",
      "metadata": {
        "id": "-aaFVliCTOa_"
      },
      "source": [
        "unscaled_predictions = minmax_scaler.inverse_transform(predictions)"
      ],
      "execution_count": null,
      "outputs": []
    },
    {
      "cell_type": "code",
      "metadata": {
        "colab": {
          "base_uri": "https://localhost:8080/"
        },
        "id": "okWg2h4kdyQf",
        "outputId": "189d4987-ab87-4796-ab1a-12894b1aa47d"
      },
      "source": [
        "np.allclose(unscaled_predictions,unscaled_predictions_manually_computed)"
      ],
      "execution_count": null,
      "outputs": [
        {
          "output_type": "execute_result",
          "data": {
            "text/plain": [
              "True"
            ]
          },
          "metadata": {},
          "execution_count": 102
        }
      ]
    },
    {
      "cell_type": "code",
      "metadata": {
        "id": "C3XQZBBCTOa_"
      },
      "source": [
        "unscaled_y_test = minmax_scaler.inverse_transform(np.array([y_test])).T"
      ],
      "execution_count": null,
      "outputs": []
    },
    {
      "cell_type": "code",
      "metadata": {
        "colab": {
          "base_uri": "https://localhost:8080/"
        },
        "id": "siGpcU3NTOa_",
        "outputId": "91d77db1-60fd-4977-f7d0-3ced2a3f1474"
      },
      "source": [
        "unscaled_predictions.shape"
      ],
      "execution_count": null,
      "outputs": [
        {
          "output_type": "execute_result",
          "data": {
            "text/plain": [
              "(1000, 1)"
            ]
          },
          "metadata": {},
          "execution_count": 104
        }
      ]
    },
    {
      "cell_type": "code",
      "metadata": {
        "colab": {
          "base_uri": "https://localhost:8080/"
        },
        "id": "yMJr8wOETObA",
        "outputId": "fdb48577-4310-4953-9250-590d6385aa8f"
      },
      "source": [
        "unscaled_y_test.shape"
      ],
      "execution_count": null,
      "outputs": [
        {
          "output_type": "execute_result",
          "data": {
            "text/plain": [
              "(1000, 1)"
            ]
          },
          "metadata": {},
          "execution_count": 105
        }
      ]
    },
    {
      "cell_type": "code",
      "metadata": {
        "colab": {
          "base_uri": "https://localhost:8080/"
        },
        "id": "hsfdHb8hTObA",
        "outputId": "aacec986-51e8-476e-a93d-5ff1140e1e92"
      },
      "source": [
        "#MAE\n",
        "np.mean(np.abs(unscaled_y_test - unscaled_predictions))"
      ],
      "execution_count": null,
      "outputs": [
        {
          "output_type": "execute_result",
          "data": {
            "text/plain": [
              "6.898828765869135"
            ]
          },
          "metadata": {},
          "execution_count": 106
        }
      ]
    },
    {
      "cell_type": "code",
      "metadata": {
        "colab": {
          "base_uri": "https://localhost:8080/"
        },
        "id": "XPF3KcIncxe1",
        "outputId": "95080d42-b92a-4ad1-ec9b-20f7e7cb8ef3"
      },
      "source": [
        "#RMSE\n",
        "np.sqrt(np.mean((unscaled_y_test - unscaled_predictions)**2))"
      ],
      "execution_count": null,
      "outputs": [
        {
          "output_type": "execute_result",
          "data": {
            "text/plain": [
              "7.349847510972382"
            ]
          },
          "metadata": {},
          "execution_count": 107
        }
      ]
    },
    {
      "cell_type": "code",
      "metadata": {
        "colab": {
          "base_uri": "https://localhost:8080/"
        },
        "id": "NCWV4MQHD_0K",
        "outputId": "b5d571a4-c5b8-448b-a71c-ff551f255afc"
      },
      "source": [
        "predictions_train = model.predict(X_train_pad)\n",
        "unscaled_predictions_train = minmax_scaler.inverse_transform(predictions_train)\n",
        "unscaled_y_train = minmax_scaler.inverse_transform(np.array([y_train])).T\n",
        "np.mean(np.abs(unscaled_y_train - unscaled_predictions_train))"
      ],
      "execution_count": null,
      "outputs": [
        {
          "output_type": "execute_result",
          "data": {
            "text/plain": [
              "1.9941250491142273"
            ]
          },
          "metadata": {},
          "execution_count": 108
        }
      ]
    },
    {
      "cell_type": "markdown",
      "metadata": {
        "id": "THzO72ICeRC_"
      },
      "source": [
        "Problem: we were not able to detect overfitting with the scaled data...\n",
        "\n",
        "The RMSE on the train set is amazing (less than 1 USD) but not great on the test set (approx 7 USD)..."
      ]
    },
    {
      "cell_type": "code",
      "metadata": {
        "id": "5FrG3iTyeQKu"
      },
      "source": [
        ""
      ],
      "execution_count": null,
      "outputs": []
    },
    {
      "cell_type": "markdown",
      "metadata": {
        "id": "iTt6ZHbONZOS"
      },
      "source": [
        "## Baseline\n",
        "\n",
        "When predicting a continous value, the baseline model is to predict `y_train.mean()`. \n",
        "\n",
        "For a Time-Series, it may not be relevant to consider the mean on the train set if there is a change of paradigm.\n",
        "\n",
        "The last seen value is more appropriate."
      ]
    },
    {
      "cell_type": "code",
      "metadata": {
        "id": "Y7HPvyxkNcBM"
      },
      "source": [
        "# baseline predictions\n",
        "\n",
        "X_test_last_seen_value = [_[-1][0] for _ in X_test]"
      ],
      "execution_count": null,
      "outputs": []
    },
    {
      "cell_type": "code",
      "metadata": {
        "id": "09igH_RjNb5h"
      },
      "source": [
        "X_test_last_seen_value_unscaled = minmax_scaler.inverse_transform(np.array(X_test_last_seen_value).reshape(-1,1))"
      ],
      "execution_count": null,
      "outputs": []
    },
    {
      "cell_type": "code",
      "metadata": {
        "colab": {
          "base_uri": "https://localhost:8080/"
        },
        "id": "b1rAAfoSNbuZ",
        "outputId": "573caf85-2cf4-4221-8209-5061f7e2eafa"
      },
      "source": [
        "#MAE\n",
        "np.mean(np.abs(unscaled_y_test - X_test_last_seen_value_unscaled))"
      ],
      "execution_count": null,
      "outputs": [
        {
          "output_type": "execute_result",
          "data": {
            "text/plain": [
              "1.8263999786376954"
            ]
          },
          "metadata": {},
          "execution_count": 111
        }
      ]
    },
    {
      "cell_type": "code",
      "metadata": {
        "colab": {
          "base_uri": "https://localhost:8080/"
        },
        "id": "ojX9FBGfftJc",
        "outputId": "451793f6-19a8-4d53-afa9-6bdb2d27b705"
      },
      "source": [
        "#RMSE\n",
        "np.sqrt(np.mean((unscaled_y_test - X_test_last_seen_value_unscaled)**2))"
      ],
      "execution_count": null,
      "outputs": [
        {
          "output_type": "execute_result",
          "data": {
            "text/plain": [
              "2.298186114917393"
            ]
          },
          "metadata": {},
          "execution_count": 112
        }
      ]
    },
    {
      "cell_type": "markdown",
      "metadata": {
        "id": "s1hhCPlKOlFX"
      },
      "source": [
        "## LSTM using Tech competitors"
      ]
    },
    {
      "cell_type": "markdown",
      "metadata": {
        "id": "1gkge6nsiAW_"
      },
      "source": [
        "### Tech industries"
      ]
    },
    {
      "cell_type": "code",
      "metadata": {
        "colab": {
          "base_uri": "https://localhost:8080/",
          "height": 237
        },
        "id": "rFYpzVQfOo0e",
        "outputId": "9ae7b171-3d3b-4b93-86e8-1c3b46ecc49a"
      },
      "source": [
        "closing_df.tail(5)"
      ],
      "execution_count": null,
      "outputs": [
        {
          "output_type": "execute_result",
          "data": {
            "text/html": [
              "<div>\n",
              "<style scoped>\n",
              "    .dataframe tbody tr th:only-of-type {\n",
              "        vertical-align: middle;\n",
              "    }\n",
              "\n",
              "    .dataframe tbody tr th {\n",
              "        vertical-align: top;\n",
              "    }\n",
              "\n",
              "    .dataframe thead th {\n",
              "        text-align: right;\n",
              "    }\n",
              "</style>\n",
              "<table border=\"1\" class=\"dataframe\">\n",
              "  <thead>\n",
              "    <tr style=\"text-align: right;\">\n",
              "      <th>Symbols</th>\n",
              "      <th>AAPL</th>\n",
              "      <th>GOOG</th>\n",
              "      <th>MSFT</th>\n",
              "      <th>AMZN</th>\n",
              "    </tr>\n",
              "    <tr>\n",
              "      <th>Date</th>\n",
              "      <th></th>\n",
              "      <th></th>\n",
              "      <th></th>\n",
              "      <th></th>\n",
              "    </tr>\n",
              "  </thead>\n",
              "  <tbody>\n",
              "    <tr>\n",
              "      <th>2021-08-17</th>\n",
              "      <td>150.190002</td>\n",
              "      <td>2746.010010</td>\n",
              "      <td>292.519989</td>\n",
              "      <td>3241.959961</td>\n",
              "    </tr>\n",
              "    <tr>\n",
              "      <th>2021-08-18</th>\n",
              "      <td>146.360001</td>\n",
              "      <td>2731.399902</td>\n",
              "      <td>290.730011</td>\n",
              "      <td>3201.219971</td>\n",
              "    </tr>\n",
              "    <tr>\n",
              "      <th>2021-08-19</th>\n",
              "      <td>146.699997</td>\n",
              "      <td>2738.270020</td>\n",
              "      <td>296.769989</td>\n",
              "      <td>3187.750000</td>\n",
              "    </tr>\n",
              "    <tr>\n",
              "      <th>2021-08-20</th>\n",
              "      <td>148.190002</td>\n",
              "      <td>2768.739990</td>\n",
              "      <td>304.359985</td>\n",
              "      <td>3199.949951</td>\n",
              "    </tr>\n",
              "    <tr>\n",
              "      <th>2021-08-23</th>\n",
              "      <td>149.710007</td>\n",
              "      <td>2821.989990</td>\n",
              "      <td>304.649994</td>\n",
              "      <td>3265.870117</td>\n",
              "    </tr>\n",
              "  </tbody>\n",
              "</table>\n",
              "</div>"
            ],
            "text/plain": [
              "Symbols           AAPL         GOOG        MSFT         AMZN\n",
              "Date                                                        \n",
              "2021-08-17  150.190002  2746.010010  292.519989  3241.959961\n",
              "2021-08-18  146.360001  2731.399902  290.730011  3201.219971\n",
              "2021-08-19  146.699997  2738.270020  296.769989  3187.750000\n",
              "2021-08-20  148.190002  2768.739990  304.359985  3199.949951\n",
              "2021-08-23  149.710007  2821.989990  304.649994  3265.870117"
            ]
          },
          "metadata": {},
          "execution_count": 113
        }
      ]
    },
    {
      "cell_type": "code",
      "metadata": {
        "id": "ckv2HS9vOoxF",
        "colab": {
          "base_uri": "https://localhost:8080/"
        },
        "outputId": "80d5e5af-7d96-4e55-d3f5-0bde1837e952"
      },
      "source": [
        "closing_df.shape"
      ],
      "execution_count": null,
      "outputs": [
        {
          "output_type": "execute_result",
          "data": {
            "text/plain": [
              "(2678, 4)"
            ]
          },
          "metadata": {},
          "execution_count": 114
        }
      ]
    },
    {
      "cell_type": "code",
      "metadata": {
        "id": "t2NVakD8iVMI"
      },
      "source": [
        "tech_stock_prices = closing_df.copy()"
      ],
      "execution_count": null,
      "outputs": []
    },
    {
      "cell_type": "markdown",
      "metadata": {
        "id": "FH0hSCRpiEfj"
      },
      "source": [
        "### Temporal Train-Test Split"
      ]
    },
    {
      "cell_type": "code",
      "metadata": {
        "id": "EtW-0ESCOotf"
      },
      "source": [
        "train_percentage = 95"
      ],
      "execution_count": null,
      "outputs": []
    },
    {
      "cell_type": "code",
      "metadata": {
        "id": "jdV3A5SIOopw",
        "colab": {
          "base_uri": "https://localhost:8080/"
        },
        "outputId": "c02835d3-c5e5-415c-b771-ab5878b11c33"
      },
      "source": [
        "train_len = int(len(tech_stock_prices) * train_percentage/100)\n",
        "train_len"
      ],
      "execution_count": null,
      "outputs": [
        {
          "output_type": "execute_result",
          "data": {
            "text/plain": [
              "2544"
            ]
          },
          "metadata": {},
          "execution_count": 117
        }
      ]
    },
    {
      "cell_type": "code",
      "metadata": {
        "id": "fyadbZCwOolu",
        "colab": {
          "base_uri": "https://localhost:8080/"
        },
        "outputId": "a98a8f5b-31f9-45bd-a163-7545bfeca8a3"
      },
      "source": [
        "len(tech_stock_prices)"
      ],
      "execution_count": null,
      "outputs": [
        {
          "output_type": "execute_result",
          "data": {
            "text/plain": [
              "2678"
            ]
          },
          "metadata": {},
          "execution_count": 118
        }
      ]
    },
    {
      "cell_type": "code",
      "metadata": {
        "id": "euTTtImpOofl"
      },
      "source": [
        "tech_train = tech_stock_prices[:train_len]\n",
        "tech_test = tech_stock_prices[train_len:]"
      ],
      "execution_count": null,
      "outputs": []
    },
    {
      "cell_type": "code",
      "metadata": {
        "id": "c7jGN5BmOoQV",
        "colab": {
          "base_uri": "https://localhost:8080/"
        },
        "outputId": "178cb329-9b9a-4fd1-804f-422e2effb4bc"
      },
      "source": [
        "print(tech_train.shape)\n",
        "print(tech_test.shape)"
      ],
      "execution_count": null,
      "outputs": [
        {
          "output_type": "stream",
          "text": [
            "(2544, 4)\n",
            "(134, 4)\n"
          ],
          "name": "stdout"
        }
      ]
    },
    {
      "cell_type": "markdown",
      "metadata": {
        "id": "GAqr79akoCvy"
      },
      "source": [
        "### Scaling\n"
      ]
    },
    {
      "cell_type": "code",
      "metadata": {
        "id": "zHkEbyYBoBwE"
      },
      "source": [
        "from sklearn.preprocessing import MinMaxScaler\n",
        "\n",
        "minmax_scaler_bis = MinMaxScaler()\n",
        "\n",
        "minmax_scaler_bis.fit(np.array(tech_train))\n",
        "\n",
        "tech_train_scaled = pd.DataFrame(minmax_scaler_bis.transform(np.array(tech_train)), columns = tech_stock_prices.columns)\n",
        "tech_test_scaled = pd.DataFrame(minmax_scaler_bis.transform(np.array(tech_test)), columns = tech_stock_prices.columns)"
      ],
      "execution_count": null,
      "outputs": []
    },
    {
      "cell_type": "code",
      "metadata": {
        "colab": {
          "base_uri": "https://localhost:8080/",
          "height": 301
        },
        "id": "L9wGd5vToCHe",
        "outputId": "0d3dbddd-d413-4850-b0e0-e01ac2a685a6"
      },
      "source": [
        "tech_train_scaled.boxplot()"
      ],
      "execution_count": null,
      "outputs": [
        {
          "output_type": "execute_result",
          "data": {
            "text/plain": [
              "<matplotlib.axes._subplots.AxesSubplot at 0x7fa287cb3fd0>"
            ]
          },
          "metadata": {},
          "execution_count": 136
        },
        {
          "output_type": "display_data",
          "data": {
            "image/png": "[encoded data removed]",
            "text/plain": [
              "<Figure size 432x288 with 1 Axes>"
            ]
          },
          "metadata": {}
        }
      ]
    },
    {
      "cell_type": "code",
      "metadata": {
        "colab": {
          "base_uri": "https://localhost:8080/",
          "height": 301
        },
        "id": "TgPN10NKoCNZ",
        "outputId": "9f9f70e9-a31c-4848-f416-147693429420"
      },
      "source": [
        "tech_test_scaled.boxplot()"
      ],
      "execution_count": null,
      "outputs": [
        {
          "output_type": "execute_result",
          "data": {
            "text/plain": [
              "<matplotlib.axes._subplots.AxesSubplot at 0x7fa2886befd0>"
            ]
          },
          "metadata": {},
          "execution_count": 137
        },
        {
          "output_type": "display_data",
          "data": {
            "image/png": "[encoded data removed]",
            "text/plain": [
              "<Figure size 432x288 with 1 Axes>"
            ]
          },
          "metadata": {}
        }
      ]
    },
    {
      "cell_type": "markdown",
      "metadata": {
        "id": "At6BUgp4ioso"
      },
      "source": [
        "### Creating subsequences bis-repetita"
      ]
    },
    {
      "cell_type": "code",
      "metadata": {
        "colab": {
          "base_uri": "https://localhost:8080/"
        },
        "id": "XRc50X2iimU5",
        "outputId": "3905fd9d-ae9a-406e-ac85-92a0366d9454"
      },
      "source": [
        "tech_stock_prices.shape"
      ],
      "execution_count": null,
      "outputs": [
        {
          "output_type": "execute_result",
          "data": {
            "text/plain": [
              "(2678, 4)"
            ]
          },
          "metadata": {},
          "execution_count": 138
        }
      ]
    },
    {
      "cell_type": "code",
      "metadata": {
        "id": "aEHuZ-4SimRK"
      },
      "source": [
        "# creating a subsequence with 5 days/week x 4 weeks/month x 3 months = 60 days\n",
        "length = 5*4*3\n",
        "\n",
        "# predicting what is happening on the day 61\n",
        "horizon  = 1"
      ],
      "execution_count": null,
      "outputs": []
    },
    {
      "cell_type": "code",
      "metadata": {
        "colab": {
          "base_uri": "https://localhost:8080/"
        },
        "id": "0Gi02d7UimNU",
        "outputId": "fde6cd3b-7960-4592-da7d-b400f8adcee2"
      },
      "source": [
        "last_possible_start = len(tech_train) - length - horizon\n",
        "last_possible_start"
      ],
      "execution_count": null,
      "outputs": [
        {
          "output_type": "execute_result",
          "data": {
            "text/plain": [
              "2483"
            ]
          },
          "metadata": {},
          "execution_count": 140
        }
      ]
    },
    {
      "cell_type": "code",
      "metadata": {
        "colab": {
          "base_uri": "https://localhost:8080/"
        },
        "id": "FDsK1tdgimJc",
        "outputId": "19647bc0-4047-4f52-8f06-675b1d7d1af2"
      },
      "source": [
        "random_start = np.random.randint(0, last_possible_start)\n",
        "random_start"
      ],
      "execution_count": null,
      "outputs": [
        {
          "output_type": "execute_result",
          "data": {
            "text/plain": [
              "1630"
            ]
          },
          "metadata": {},
          "execution_count": 141
        }
      ]
    },
    {
      "cell_type": "code",
      "metadata": {
        "colab": {
          "base_uri": "https://localhost:8080/",
          "height": 256
        },
        "id": "YW4TGAC-imFF",
        "outputId": "8971215d-4f53-4af8-c470-4c3825da28e2"
      },
      "source": [
        "one_subsequence = tech_train[random_start:random_start + length]\n",
        "print(one_subsequence.shape)\n",
        "one_subsequence.tail()"
      ],
      "execution_count": null,
      "outputs": [
        {
          "output_type": "stream",
          "text": [
            "(60, 4)\n"
          ],
          "name": "stdout"
        },
        {
          "output_type": "execute_result",
          "data": {
            "text/html": [
              "<div>\n",
              "<style scoped>\n",
              "    .dataframe tbody tr th:only-of-type {\n",
              "        vertical-align: middle;\n",
              "    }\n",
              "\n",
              "    .dataframe tbody tr th {\n",
              "        vertical-align: top;\n",
              "    }\n",
              "\n",
              "    .dataframe thead th {\n",
              "        text-align: right;\n",
              "    }\n",
              "</style>\n",
              "<table border=\"1\" class=\"dataframe\">\n",
              "  <thead>\n",
              "    <tr style=\"text-align: right;\">\n",
              "      <th>Symbols</th>\n",
              "      <th>AAPL</th>\n",
              "      <th>GOOG</th>\n",
              "      <th>MSFT</th>\n",
              "      <th>AMZN</th>\n",
              "    </tr>\n",
              "    <tr>\n",
              "      <th>Date</th>\n",
              "      <th></th>\n",
              "      <th></th>\n",
              "      <th></th>\n",
              "      <th></th>\n",
              "    </tr>\n",
              "  </thead>\n",
              "  <tbody>\n",
              "    <tr>\n",
              "      <th>2017-09-13</th>\n",
              "      <td>38.091831</td>\n",
              "      <td>935.090027</td>\n",
              "      <td>71.262939</td>\n",
              "      <td>999.599976</td>\n",
              "    </tr>\n",
              "    <tr>\n",
              "      <th>2017-09-14</th>\n",
              "      <td>37.764954</td>\n",
              "      <td>925.109985</td>\n",
              "      <td>70.846031</td>\n",
              "      <td>992.210022</td>\n",
              "    </tr>\n",
              "    <tr>\n",
              "      <th>2017-09-15</th>\n",
              "      <td>38.146713</td>\n",
              "      <td>920.289978</td>\n",
              "      <td>71.357674</td>\n",
              "      <td>986.789978</td>\n",
              "    </tr>\n",
              "    <tr>\n",
              "      <th>2017-09-18</th>\n",
              "      <td>37.858009</td>\n",
              "      <td>915.000000</td>\n",
              "      <td>71.215561</td>\n",
              "      <td>974.190002</td>\n",
              "    </tr>\n",
              "    <tr>\n",
              "      <th>2017-09-19</th>\n",
              "      <td>37.872318</td>\n",
              "      <td>921.809998</td>\n",
              "      <td>71.480873</td>\n",
              "      <td>969.859985</td>\n",
              "    </tr>\n",
              "  </tbody>\n",
              "</table>\n",
              "</div>"
            ],
            "text/plain": [
              "Symbols          AAPL        GOOG       MSFT        AMZN\n",
              "Date                                                    \n",
              "2017-09-13  38.091831  935.090027  71.262939  999.599976\n",
              "2017-09-14  37.764954  925.109985  70.846031  992.210022\n",
              "2017-09-15  38.146713  920.289978  71.357674  986.789978\n",
              "2017-09-18  37.858009  915.000000  71.215561  974.190002\n",
              "2017-09-19  37.872318  921.809998  71.480873  969.859985"
            ]
          },
          "metadata": {},
          "execution_count": 142
        }
      ]
    },
    {
      "cell_type": "code",
      "metadata": {
        "colab": {
          "base_uri": "https://localhost:8080/"
        },
        "id": "6D92omK2imBK",
        "outputId": "b1b9ff1b-cfd8-4f91-f156-fb5e78fb95f6"
      },
      "source": [
        "one_target = tech_train.iloc[random_start + length + horizon]['AAPL']\n",
        "one_target"
      ],
      "execution_count": null,
      "outputs": [
        {
          "output_type": "execute_result",
          "data": {
            "text/plain": [
              "36.59821319580078"
            ]
          },
          "metadata": {},
          "execution_count": 143
        }
      ]
    },
    {
      "cell_type": "markdown",
      "metadata": {
        "id": "eJU1-8jekR8-"
      },
      "source": [
        "`subsequence`"
      ]
    },
    {
      "cell_type": "code",
      "metadata": {
        "id": "BcIU8Lmril9R"
      },
      "source": [
        "def subsequence_apple_competitors(df, length, horizon):\n",
        "    last_possible_start = len(df) - length - horizon\n",
        "    random_start = np.random.randint(0, last_possible_start)\n",
        "    X = df[random_start:random_start + length]\n",
        "    y = df.iloc[random_start + length + horizon]['AAPL']\n",
        "    \n",
        "    return X, y"
      ],
      "execution_count": null,
      "outputs": []
    },
    {
      "cell_type": "code",
      "metadata": {
        "colab": {
          "base_uri": "https://localhost:8080/"
        },
        "id": "gzbv5kqomX3d",
        "outputId": "80ecdce7-8cf8-4062-a812-39f36937f386"
      },
      "source": [
        "length"
      ],
      "execution_count": null,
      "outputs": [
        {
          "output_type": "execute_result",
          "data": {
            "text/plain": [
              "60"
            ]
          },
          "metadata": {},
          "execution_count": 145
        }
      ]
    },
    {
      "cell_type": "code",
      "metadata": {
        "colab": {
          "base_uri": "https://localhost:8080/"
        },
        "id": "chR0pVOxmZZT",
        "outputId": "574d671b-346f-41ac-d7bd-cd3d7360391e"
      },
      "source": [
        "horizon"
      ],
      "execution_count": null,
      "outputs": [
        {
          "output_type": "execute_result",
          "data": {
            "text/plain": [
              "1"
            ]
          },
          "metadata": {},
          "execution_count": 146
        }
      ]
    },
    {
      "cell_type": "code",
      "metadata": {
        "id": "KQdYRNBqmRLK"
      },
      "source": [
        "one_subsequence, one_target = subsequence_apple_competitors(tech_stock_prices, length, horizon)"
      ],
      "execution_count": null,
      "outputs": []
    },
    {
      "cell_type": "code",
      "metadata": {
        "colab": {
          "base_uri": "https://localhost:8080/"
        },
        "id": "_nsIcKRfma_U",
        "outputId": "289aebbe-fc76-4f63-fb8a-e92d2a57b6c2"
      },
      "source": [
        "one_subsequence.shape"
      ],
      "execution_count": null,
      "outputs": [
        {
          "output_type": "execute_result",
          "data": {
            "text/plain": [
              "(60, 4)"
            ]
          },
          "metadata": {},
          "execution_count": 148
        }
      ]
    },
    {
      "cell_type": "code",
      "metadata": {
        "colab": {
          "base_uri": "https://localhost:8080/",
          "height": 1000
        },
        "id": "VZMMPkmgmcbe",
        "outputId": "33aad16c-a136-4881-ddd1-2f257371fd5b"
      },
      "source": [
        "one_subsequence"
      ],
      "execution_count": null,
      "outputs": [
        {
          "output_type": "execute_result",
          "data": {
            "text/html": [
              "<div>\n",
              "<style scoped>\n",
              "    .dataframe tbody tr th:only-of-type {\n",
              "        vertical-align: middle;\n",
              "    }\n",
              "\n",
              "    .dataframe tbody tr th {\n",
              "        vertical-align: top;\n",
              "    }\n",
              "\n",
              "    .dataframe thead th {\n",
              "        text-align: right;\n",
              "    }\n",
              "</style>\n",
              "<table border=\"1\" class=\"dataframe\">\n",
              "  <thead>\n",
              "    <tr style=\"text-align: right;\">\n",
              "      <th>Symbols</th>\n",
              "      <th>AAPL</th>\n",
              "      <th>GOOG</th>\n",
              "      <th>MSFT</th>\n",
              "      <th>AMZN</th>\n",
              "    </tr>\n",
              "    <tr>\n",
              "      <th>Date</th>\n",
              "      <th></th>\n",
              "      <th></th>\n",
              "      <th></th>\n",
              "      <th></th>\n",
              "    </tr>\n",
              "  </thead>\n",
              "  <tbody>\n",
              "    <tr>\n",
              "      <th>2019-07-03</th>\n",
              "      <td>50.086777</td>\n",
              "      <td>1121.579956</td>\n",
              "      <td>134.229919</td>\n",
              "      <td>1939.000000</td>\n",
              "    </tr>\n",
              "    <tr>\n",
              "      <th>2019-07-05</th>\n",
              "      <td>50.042667</td>\n",
              "      <td>1131.589966</td>\n",
              "      <td>133.839325</td>\n",
              "      <td>1942.910034</td>\n",
              "    </tr>\n",
              "    <tr>\n",
              "      <th>2019-07-08</th>\n",
              "      <td>49.011086</td>\n",
              "      <td>1116.349976</td>\n",
              "      <td>133.741669</td>\n",
              "      <td>1952.319946</td>\n",
              "    </tr>\n",
              "    <tr>\n",
              "      <th>2019-07-09</th>\n",
              "      <td>49.310032</td>\n",
              "      <td>1124.829956</td>\n",
              "      <td>133.253418</td>\n",
              "      <td>1988.300049</td>\n",
              "    </tr>\n",
              "    <tr>\n",
              "      <th>2019-07-10</th>\n",
              "      <td>49.797630</td>\n",
              "      <td>1140.479980</td>\n",
              "      <td>134.610764</td>\n",
              "      <td>2017.410034</td>\n",
              "    </tr>\n",
              "    <tr>\n",
              "      <th>2019-07-11</th>\n",
              "      <td>49.434998</td>\n",
              "      <td>1144.209961</td>\n",
              "      <td>135.147812</td>\n",
              "      <td>2001.069946</td>\n",
              "    </tr>\n",
              "    <tr>\n",
              "      <th>2019-07-12</th>\n",
              "      <td>49.814785</td>\n",
              "      <td>1144.900024</td>\n",
              "      <td>135.636078</td>\n",
              "      <td>2011.000000</td>\n",
              "    </tr>\n",
              "    <tr>\n",
              "      <th>2019-07-15</th>\n",
              "      <td>50.282806</td>\n",
              "      <td>1150.339966</td>\n",
              "      <td>135.636078</td>\n",
              "      <td>2020.989990</td>\n",
              "    </tr>\n",
              "    <tr>\n",
              "      <th>2019-07-16</th>\n",
              "      <td>50.108826</td>\n",
              "      <td>1153.579956</td>\n",
              "      <td>133.858856</td>\n",
              "      <td>2009.900024</td>\n",
              "    </tr>\n",
              "    <tr>\n",
              "      <th>2019-07-17</th>\n",
              "      <td>49.827045</td>\n",
              "      <td>1146.349976</td>\n",
              "      <td>133.067871</td>\n",
              "      <td>1992.030029</td>\n",
              "    </tr>\n",
              "    <tr>\n",
              "      <th>2019-07-18</th>\n",
              "      <td>50.393063</td>\n",
              "      <td>1146.329956</td>\n",
              "      <td>133.214355</td>\n",
              "      <td>1977.900024</td>\n",
              "    </tr>\n",
              "    <tr>\n",
              "      <th>2019-07-19</th>\n",
              "      <td>49.640816</td>\n",
              "      <td>1130.099976</td>\n",
              "      <td>133.409637</td>\n",
              "      <td>1964.520020</td>\n",
              "    </tr>\n",
              "    <tr>\n",
              "      <th>2019-07-22</th>\n",
              "      <td>50.775307</td>\n",
              "      <td>1138.069946</td>\n",
              "      <td>135.177094</td>\n",
              "      <td>1985.630005</td>\n",
              "    </tr>\n",
              "    <tr>\n",
              "      <th>2019-07-23</th>\n",
              "      <td>51.172260</td>\n",
              "      <td>1146.209961</td>\n",
              "      <td>136.016937</td>\n",
              "      <td>1994.489990</td>\n",
              "    </tr>\n",
              "    <tr>\n",
              "      <th>2019-07-24</th>\n",
              "      <td>51.130600</td>\n",
              "      <td>1137.810059</td>\n",
              "      <td>137.413315</td>\n",
              "      <td>2000.810059</td>\n",
              "    </tr>\n",
              "    <tr>\n",
              "      <th>2019-07-25</th>\n",
              "      <td>50.726307</td>\n",
              "      <td>1132.119995</td>\n",
              "      <td>136.895767</td>\n",
              "      <td>1973.819946</td>\n",
              "    </tr>\n",
              "    <tr>\n",
              "      <th>2019-07-26</th>\n",
              "      <td>50.902725</td>\n",
              "      <td>1250.410034</td>\n",
              "      <td>138.018768</td>\n",
              "      <td>1943.050049</td>\n",
              "    </tr>\n",
              "    <tr>\n",
              "      <th>2019-07-29</th>\n",
              "      <td>51.378078</td>\n",
              "      <td>1239.410034</td>\n",
              "      <td>137.716034</td>\n",
              "      <td>1912.449951</td>\n",
              "    </tr>\n",
              "    <tr>\n",
              "      <th>2019-07-30</th>\n",
              "      <td>51.157562</td>\n",
              "      <td>1225.140015</td>\n",
              "      <td>137.052002</td>\n",
              "      <td>1898.530029</td>\n",
              "    </tr>\n",
              "    <tr>\n",
              "      <th>2019-07-31</th>\n",
              "      <td>52.201385</td>\n",
              "      <td>1216.680054</td>\n",
              "      <td>133.067871</td>\n",
              "      <td>1866.780029</td>\n",
              "    </tr>\n",
              "    <tr>\n",
              "      <th>2019-08-01</th>\n",
              "      <td>51.071793</td>\n",
              "      <td>1209.010010</td>\n",
              "      <td>134.815811</td>\n",
              "      <td>1855.319946</td>\n",
              "    </tr>\n",
              "    <tr>\n",
              "      <th>2019-08-02</th>\n",
              "      <td>49.991215</td>\n",
              "      <td>1193.989990</td>\n",
              "      <td>133.683090</td>\n",
              "      <td>1823.239990</td>\n",
              "    </tr>\n",
              "    <tr>\n",
              "      <th>2019-08-05</th>\n",
              "      <td>47.374287</td>\n",
              "      <td>1152.319946</td>\n",
              "      <td>129.103287</td>\n",
              "      <td>1765.130005</td>\n",
              "    </tr>\n",
              "    <tr>\n",
              "      <th>2019-08-06</th>\n",
              "      <td>48.271091</td>\n",
              "      <td>1169.949951</td>\n",
              "      <td>131.525024</td>\n",
              "      <td>1787.829956</td>\n",
              "    </tr>\n",
              "    <tr>\n",
              "      <th>2019-08-07</th>\n",
              "      <td>48.770958</td>\n",
              "      <td>1173.989990</td>\n",
              "      <td>132.101120</td>\n",
              "      <td>1793.400024</td>\n",
              "    </tr>\n",
              "    <tr>\n",
              "      <th>2019-08-08</th>\n",
              "      <td>49.846642</td>\n",
              "      <td>1204.800049</td>\n",
              "      <td>135.626297</td>\n",
              "      <td>1832.890015</td>\n",
              "    </tr>\n",
              "    <tr>\n",
              "      <th>2019-08-09</th>\n",
              "      <td>49.435886</td>\n",
              "      <td>1188.010010</td>\n",
              "      <td>134.474060</td>\n",
              "      <td>1807.579956</td>\n",
              "    </tr>\n",
              "    <tr>\n",
              "      <th>2019-08-12</th>\n",
              "      <td>49.310444</td>\n",
              "      <td>1174.709961</td>\n",
              "      <td>132.599136</td>\n",
              "      <td>1784.920044</td>\n",
              "    </tr>\n",
              "    <tr>\n",
              "      <th>2019-08-13</th>\n",
              "      <td>51.398666</td>\n",
              "      <td>1197.270020</td>\n",
              "      <td>135.343155</td>\n",
              "      <td>1824.339966</td>\n",
              "    </tr>\n",
              "    <tr>\n",
              "      <th>2019-08-14</th>\n",
              "      <td>49.868778</td>\n",
              "      <td>1164.290039</td>\n",
              "      <td>131.267349</td>\n",
              "      <td>1762.959961</td>\n",
              "    </tr>\n",
              "    <tr>\n",
              "      <th>2019-08-15</th>\n",
              "      <td>49.620358</td>\n",
              "      <td>1167.260010</td>\n",
              "      <td>130.973434</td>\n",
              "      <td>1776.119995</td>\n",
              "    </tr>\n",
              "    <tr>\n",
              "      <th>2019-08-16</th>\n",
              "      <td>50.791138</td>\n",
              "      <td>1177.599976</td>\n",
              "      <td>133.373856</td>\n",
              "      <td>1792.569946</td>\n",
              "    </tr>\n",
              "    <tr>\n",
              "      <th>2019-08-19</th>\n",
              "      <td>51.738094</td>\n",
              "      <td>1198.449951</td>\n",
              "      <td>135.607697</td>\n",
              "      <td>1816.119995</td>\n",
              "    </tr>\n",
              "    <tr>\n",
              "      <th>2019-08-20</th>\n",
              "      <td>51.740555</td>\n",
              "      <td>1182.689941</td>\n",
              "      <td>134.480957</td>\n",
              "      <td>1801.380005</td>\n",
              "    </tr>\n",
              "    <tr>\n",
              "      <th>2019-08-21</th>\n",
              "      <td>52.301346</td>\n",
              "      <td>1191.250000</td>\n",
              "      <td>135.979950</td>\n",
              "      <td>1823.540039</td>\n",
              "    </tr>\n",
              "    <tr>\n",
              "      <th>2019-08-22</th>\n",
              "      <td>52.257072</td>\n",
              "      <td>1189.530029</td>\n",
              "      <td>134.990417</td>\n",
              "      <td>1804.660034</td>\n",
              "    </tr>\n",
              "    <tr>\n",
              "      <th>2019-08-23</th>\n",
              "      <td>49.841724</td>\n",
              "      <td>1151.290039</td>\n",
              "      <td>130.689316</td>\n",
              "      <td>1749.619995</td>\n",
              "    </tr>\n",
              "    <tr>\n",
              "      <th>2019-08-26</th>\n",
              "      <td>50.788677</td>\n",
              "      <td>1168.890015</td>\n",
              "      <td>132.707581</td>\n",
              "      <td>1768.869995</td>\n",
              "    </tr>\n",
              "    <tr>\n",
              "      <th>2019-08-27</th>\n",
              "      <td>50.215584</td>\n",
              "      <td>1167.839966</td>\n",
              "      <td>132.991714</td>\n",
              "      <td>1761.829956</td>\n",
              "    </tr>\n",
              "    <tr>\n",
              "      <th>2019-08-28</th>\n",
              "      <td>50.552551</td>\n",
              "      <td>1171.020020</td>\n",
              "      <td>132.815338</td>\n",
              "      <td>1764.250000</td>\n",
              "    </tr>\n",
              "    <tr>\n",
              "      <th>2019-08-29</th>\n",
              "      <td>51.408504</td>\n",
              "      <td>1192.849976</td>\n",
              "      <td>135.323547</td>\n",
              "      <td>1786.400024</td>\n",
              "    </tr>\n",
              "    <tr>\n",
              "      <th>2019-08-30</th>\n",
              "      <td>51.342091</td>\n",
              "      <td>1188.099976</td>\n",
              "      <td>135.068787</td>\n",
              "      <td>1776.290039</td>\n",
              "    </tr>\n",
              "    <tr>\n",
              "      <th>2019-09-03</th>\n",
              "      <td>50.594368</td>\n",
              "      <td>1168.390015</td>\n",
              "      <td>133.285660</td>\n",
              "      <td>1789.839966</td>\n",
              "    </tr>\n",
              "    <tr>\n",
              "      <th>2019-09-04</th>\n",
              "      <td>51.452774</td>\n",
              "      <td>1181.410034</td>\n",
              "      <td>134.843491</td>\n",
              "      <td>1800.619995</td>\n",
              "    </tr>\n",
              "    <tr>\n",
              "      <th>2019-09-05</th>\n",
              "      <td>52.458755</td>\n",
              "      <td>1211.380005</td>\n",
              "      <td>137.214462</td>\n",
              "      <td>1840.719971</td>\n",
              "    </tr>\n",
              "    <tr>\n",
              "      <th>2019-09-06</th>\n",
              "      <td>52.453838</td>\n",
              "      <td>1204.930054</td>\n",
              "      <td>136.283707</td>\n",
              "      <td>1833.510010</td>\n",
              "    </tr>\n",
              "    <tr>\n",
              "      <th>2019-09-09</th>\n",
              "      <td>52.677666</td>\n",
              "      <td>1204.410034</td>\n",
              "      <td>134.735703</td>\n",
              "      <td>1831.349976</td>\n",
              "    </tr>\n",
              "    <tr>\n",
              "      <th>2019-09-10</th>\n",
              "      <td>53.299942</td>\n",
              "      <td>1206.000000</td>\n",
              "      <td>133.324844</td>\n",
              "      <td>1820.550049</td>\n",
              "    </tr>\n",
              "    <tr>\n",
              "      <th>2019-09-11</th>\n",
              "      <td>54.994621</td>\n",
              "      <td>1220.170044</td>\n",
              "      <td>133.363998</td>\n",
              "      <td>1822.989990</td>\n",
              "    </tr>\n",
              "    <tr>\n",
              "      <th>2019-09-12</th>\n",
              "      <td>54.871639</td>\n",
              "      <td>1234.250000</td>\n",
              "      <td>134.735703</td>\n",
              "      <td>1843.550049</td>\n",
              "    </tr>\n",
              "    <tr>\n",
              "      <th>2019-09-13</th>\n",
              "      <td>53.804165</td>\n",
              "      <td>1239.560059</td>\n",
              "      <td>134.539734</td>\n",
              "      <td>1839.339966</td>\n",
              "    </tr>\n",
              "    <tr>\n",
              "      <th>2019-09-16</th>\n",
              "      <td>54.087029</td>\n",
              "      <td>1231.300049</td>\n",
              "      <td>133.569809</td>\n",
              "      <td>1807.839966</td>\n",
              "    </tr>\n",
              "    <tr>\n",
              "      <th>2019-09-17</th>\n",
              "      <td>54.283798</td>\n",
              "      <td>1229.150024</td>\n",
              "      <td>134.608337</td>\n",
              "      <td>1822.550049</td>\n",
              "    </tr>\n",
              "    <tr>\n",
              "      <th>2019-09-18</th>\n",
              "      <td>54.792931</td>\n",
              "      <td>1232.410034</td>\n",
              "      <td>135.715439</td>\n",
              "      <td>1817.459961</td>\n",
              "    </tr>\n",
              "    <tr>\n",
              "      <th>2019-09-19</th>\n",
              "      <td>54.347748</td>\n",
              "      <td>1238.709961</td>\n",
              "      <td>138.213821</td>\n",
              "      <td>1821.500000</td>\n",
              "    </tr>\n",
              "    <tr>\n",
              "      <th>2019-09-20</th>\n",
              "      <td>53.553288</td>\n",
              "      <td>1229.930054</td>\n",
              "      <td>136.616821</td>\n",
              "      <td>1794.160034</td>\n",
              "    </tr>\n",
              "    <tr>\n",
              "      <th>2019-09-23</th>\n",
              "      <td>53.796787</td>\n",
              "      <td>1234.030029</td>\n",
              "      <td>136.322891</td>\n",
              "      <td>1785.300049</td>\n",
              "    </tr>\n",
              "    <tr>\n",
              "      <th>2019-09-24</th>\n",
              "      <td>53.540985</td>\n",
              "      <td>1218.760010</td>\n",
              "      <td>134.598541</td>\n",
              "      <td>1741.609985</td>\n",
              "    </tr>\n",
              "    <tr>\n",
              "      <th>2019-09-25</th>\n",
              "      <td>54.364967</td>\n",
              "      <td>1246.520020</td>\n",
              "      <td>136.538406</td>\n",
              "      <td>1768.329956</td>\n",
              "    </tr>\n",
              "    <tr>\n",
              "      <th>2019-09-26</th>\n",
              "      <td>54.084568</td>\n",
              "      <td>1241.390015</td>\n",
              "      <td>136.714767</td>\n",
              "      <td>1739.839966</td>\n",
              "    </tr>\n",
              "  </tbody>\n",
              "</table>\n",
              "</div>"
            ],
            "text/plain": [
              "Symbols          AAPL         GOOG        MSFT         AMZN\n",
              "Date                                                       \n",
              "2019-07-03  50.086777  1121.579956  134.229919  1939.000000\n",
              "2019-07-05  50.042667  1131.589966  133.839325  1942.910034\n",
              "2019-07-08  49.011086  1116.349976  133.741669  1952.319946\n",
              "2019-07-09  49.310032  1124.829956  133.253418  1988.300049\n",
              "2019-07-10  49.797630  1140.479980  134.610764  2017.410034\n",
              "2019-07-11  49.434998  1144.209961  135.147812  2001.069946\n",
              "2019-07-12  49.814785  1144.900024  135.636078  2011.000000\n",
              "2019-07-15  50.282806  1150.339966  135.636078  2020.989990\n",
              "2019-07-16  50.108826  1153.579956  133.858856  2009.900024\n",
              "2019-07-17  49.827045  1146.349976  133.067871  1992.030029\n",
              "2019-07-18  50.393063  1146.329956  133.214355  1977.900024\n",
              "2019-07-19  49.640816  1130.099976  133.409637  1964.520020\n",
              "2019-07-22  50.775307  1138.069946  135.177094  1985.630005\n",
              "2019-07-23  51.172260  1146.209961  136.016937  1994.489990\n",
              "2019-07-24  51.130600  1137.810059  137.413315  2000.810059\n",
              "2019-07-25  50.726307  1132.119995  136.895767  1973.819946\n",
              "2019-07-26  50.902725  1250.410034  138.018768  1943.050049\n",
              "2019-07-29  51.378078  1239.410034  137.716034  1912.449951\n",
              "2019-07-30  51.157562  1225.140015  137.052002  1898.530029\n",
              "2019-07-31  52.201385  1216.680054  133.067871  1866.780029\n",
              "2019-08-01  51.071793  1209.010010  134.815811  1855.319946\n",
              "2019-08-02  49.991215  1193.989990  133.683090  1823.239990\n",
              "2019-08-05  47.374287  1152.319946  129.103287  1765.130005\n",
              "2019-08-06  48.271091  1169.949951  131.525024  1787.829956\n",
              "2019-08-07  48.770958  1173.989990  132.101120  1793.400024\n",
              "2019-08-08  49.846642  1204.800049  135.626297  1832.890015\n",
              "2019-08-09  49.435886  1188.010010  134.474060  1807.579956\n",
              "2019-08-12  49.310444  1174.709961  132.599136  1784.920044\n",
              "2019-08-13  51.398666  1197.270020  135.343155  1824.339966\n",
              "2019-08-14  49.868778  1164.290039  131.267349  1762.959961\n",
              "2019-08-15  49.620358  1167.260010  130.973434  1776.119995\n",
              "2019-08-16  50.791138  1177.599976  133.373856  1792.569946\n",
              "2019-08-19  51.738094  1198.449951  135.607697  1816.119995\n",
              "2019-08-20  51.740555  1182.689941  134.480957  1801.380005\n",
              "2019-08-21  52.301346  1191.250000  135.979950  1823.540039\n",
              "2019-08-22  52.257072  1189.530029  134.990417  1804.660034\n",
              "2019-08-23  49.841724  1151.290039  130.689316  1749.619995\n",
              "2019-08-26  50.788677  1168.890015  132.707581  1768.869995\n",
              "2019-08-27  50.215584  1167.839966  132.991714  1761.829956\n",
              "2019-08-28  50.552551  1171.020020  132.815338  1764.250000\n",
              "2019-08-29  51.408504  1192.849976  135.323547  1786.400024\n",
              "2019-08-30  51.342091  1188.099976  135.068787  1776.290039\n",
              "2019-09-03  50.594368  1168.390015  133.285660  1789.839966\n",
              "2019-09-04  51.452774  1181.410034  134.843491  1800.619995\n",
              "2019-09-05  52.458755  1211.380005  137.214462  1840.719971\n",
              "2019-09-06  52.453838  1204.930054  136.283707  1833.510010\n",
              "2019-09-09  52.677666  1204.410034  134.735703  1831.349976\n",
              "2019-09-10  53.299942  1206.000000  133.324844  1820.550049\n",
              "2019-09-11  54.994621  1220.170044  133.363998  1822.989990\n",
              "2019-09-12  54.871639  1234.250000  134.735703  1843.550049\n",
              "2019-09-13  53.804165  1239.560059  134.539734  1839.339966\n",
              "2019-09-16  54.087029  1231.300049  133.569809  1807.839966\n",
              "2019-09-17  54.283798  1229.150024  134.608337  1822.550049\n",
              "2019-09-18  54.792931  1232.410034  135.715439  1817.459961\n",
              "2019-09-19  54.347748  1238.709961  138.213821  1821.500000\n",
              "2019-09-20  53.553288  1229.930054  136.616821  1794.160034\n",
              "2019-09-23  53.796787  1234.030029  136.322891  1785.300049\n",
              "2019-09-24  53.540985  1218.760010  134.598541  1741.609985\n",
              "2019-09-25  54.364967  1246.520020  136.538406  1768.329956\n",
              "2019-09-26  54.084568  1241.390015  136.714767  1739.839966"
            ]
          },
          "metadata": {},
          "execution_count": 149
        }
      ]
    },
    {
      "cell_type": "code",
      "metadata": {
        "colab": {
          "base_uri": "https://localhost:8080/"
        },
        "id": "9p2qOQr5me07",
        "outputId": "143af8a5-b5c9-4b04-9cb0-87dde7533b42"
      },
      "source": [
        "one_target"
      ],
      "execution_count": null,
      "outputs": [
        {
          "output_type": "execute_result",
          "data": {
            "text/plain": [
              "55.08809280395508"
            ]
          },
          "metadata": {},
          "execution_count": 150
        }
      ]
    },
    {
      "cell_type": "code",
      "metadata": {
        "id": "QExeQmBGmeqy"
      },
      "source": [
        ""
      ],
      "execution_count": null,
      "outputs": []
    },
    {
      "cell_type": "markdown",
      "metadata": {
        "id": "LnnTQEG8kb_j"
      },
      "source": [
        "`multiple subsequences`"
      ]
    },
    {
      "cell_type": "code",
      "metadata": {
        "colab": {
          "base_uri": "https://localhost:8080/"
        },
        "id": "zojyhsl_lTnh",
        "outputId": "5a132a33-47bd-47d4-fa04-300760adc54a"
      },
      "source": [
        "list_of_lengths = np.random.randint(40, 61, 100) \n",
        "list_of_lengths"
      ],
      "execution_count": null,
      "outputs": [
        {
          "output_type": "execute_result",
          "data": {
            "text/plain": [
              "array([54, 40, 46, 45, 53, 46, 53, 43, 43, 51, 51, 55, 58, 43, 49, 46, 46,\n",
              "       55, 45, 57, 59, 43, 57, 54, 56, 51, 52, 58, 45, 47, 44, 58, 53, 51,\n",
              "       45, 46, 55, 50, 50, 50, 60, 53, 40, 48, 56, 45, 55, 54, 45, 51, 51,\n",
              "       51, 40, 54, 53, 42, 57, 49, 58, 45, 56, 40, 53, 59, 45, 54, 50, 56,\n",
              "       51, 59, 40, 40, 55, 44, 55, 43, 49, 60, 46, 57, 53, 43, 59, 59, 53,\n",
              "       42, 54, 51, 60, 57, 56, 55, 59, 60, 48, 53, 42, 55, 40, 45])"
            ]
          },
          "metadata": {},
          "execution_count": 151
        }
      ]
    },
    {
      "cell_type": "code",
      "metadata": {
        "id": "ipG6qKRZil5K"
      },
      "source": [
        "def multiple_subsequences_apple_competitors(df, number_of_subsequences,horizon = 1):\n",
        "    \n",
        "    list_of_X = []\n",
        "    list_of_y = []\n",
        "    \n",
        "    # we'll generate number_of_subsequences subsequences with random lengths between 40 and 60 days\n",
        "\n",
        "    list_of_lengths = np.random.randint(40, 61, number_of_subsequences) \n",
        "    \n",
        "    for (_, length) in zip(range(number_of_subsequences),list_of_lengths):\n",
        "        tmp_X, tmp_y = subsequence_apple_competitors(df, length, horizon)\n",
        "        list_of_X.append(tmp_X)\n",
        "        list_of_y.append(tmp_y)\n",
        "        \n",
        "    \n",
        "    return list_of_X, list_of_y"
      ],
      "execution_count": null,
      "outputs": []
    },
    {
      "cell_type": "code",
      "metadata": {
        "id": "bYq3aym-il03"
      },
      "source": [
        "X_train_apple_competition, y_train_apple = multiple_subsequences_apple_competitors(tech_train_scaled, 2000,horizon = 1)\n",
        "X_test_apple_competition, y_test_apple = multiple_subsequences_apple_competitors(tech_test_scaled, 1000,horizon = 1)"
      ],
      "execution_count": null,
      "outputs": []
    },
    {
      "cell_type": "markdown",
      "metadata": {
        "id": "WFJ1ayGam_Ne"
      },
      "source": [
        "### Padding"
      ]
    },
    {
      "cell_type": "code",
      "metadata": {
        "colab": {
          "base_uri": "https://localhost:8080/",
          "height": 282
        },
        "id": "7mrx8CQ9m-Fl",
        "outputId": "ad983c32-a6a8-42e9-e9dd-68306e247a07"
      },
      "source": [
        "plt.hist([len(_) for _ in X_train_apple_competition]);"
      ],
      "execution_count": null,
      "outputs": [
        {
          "output_type": "display_data",
          "data": {
            "image/png": "[encoded data removed]",
            "text/plain": [
              "<Figure size 432x288 with 1 Axes>"
            ]
          },
          "metadata": {}
        }
      ]
    },
    {
      "cell_type": "code",
      "metadata": {
        "colab": {
          "base_uri": "https://localhost:8080/",
          "height": 338
        },
        "id": "vQk_MqJ9m-A7",
        "outputId": "7bdaaa62-e14a-4713-cd15-c42ece41fcd9"
      },
      "source": [
        "plt.hist([len(_) for _ in X_test_apple_competition])"
      ],
      "execution_count": null,
      "outputs": [
        {
          "output_type": "execute_result",
          "data": {
            "text/plain": [
              "(array([118., 101., 102.,  89.,  95.,  76., 110.,  79., 102., 128.]),\n",
              " array([40., 42., 44., 46., 48., 50., 52., 54., 56., 58., 60.]),\n",
              " <a list of 10 Patch objects>)"
            ]
          },
          "metadata": {},
          "execution_count": 166
        },
        {
          "output_type": "display_data",
          "data": {
            "image/png": "[encoded data removed]",
            "text/plain": [
              "<Figure size 432x288 with 1 Axes>"
            ]
          },
          "metadata": {}
        }
      ]
    },
    {
      "cell_type": "code",
      "metadata": {
        "id": "zEEZTSM6m974"
      },
      "source": [
        "from tensorflow.keras.preprocessing.sequence import pad_sequences\n",
        "\n",
        "X_train_pad_apple_competition = pad_sequences(X_train_apple_competition, value = -999, padding = \"post\", dtype=\"float64\")\n",
        "X_test_pad_apple_competition = pad_sequences(X_test_apple_competition, value = -999, padding = \"post\", dtype=\"float64\")"
      ],
      "execution_count": null,
      "outputs": []
    },
    {
      "cell_type": "code",
      "metadata": {
        "colab": {
          "base_uri": "https://localhost:8080/"
        },
        "id": "Cc9Ztmmem9wm",
        "outputId": "4e89ae7f-05fb-464e-bb9f-b39e3a600dcc"
      },
      "source": [
        "X_train_pad_apple_competition.shape"
      ],
      "execution_count": null,
      "outputs": [
        {
          "output_type": "execute_result",
          "data": {
            "text/plain": [
              "(2000, 60, 4)"
            ]
          },
          "metadata": {},
          "execution_count": 168
        }
      ]
    },
    {
      "cell_type": "code",
      "metadata": {
        "colab": {
          "base_uri": "https://localhost:8080/"
        },
        "id": "y04ch-geillK",
        "outputId": "43b257fd-8190-4c7b-eb4b-27e3711ba281"
      },
      "source": [
        "X_test_pad_apple_competition.shape"
      ],
      "execution_count": null,
      "outputs": [
        {
          "output_type": "execute_result",
          "data": {
            "text/plain": [
              "(1000, 60, 4)"
            ]
          },
          "metadata": {},
          "execution_count": 169
        }
      ]
    },
    {
      "cell_type": "markdown",
      "metadata": {
        "id": "0kjfZtSZnpUk"
      },
      "source": [
        "### Re-using the previous architecture"
      ]
    },
    {
      "cell_type": "code",
      "metadata": {
        "id": "i9La-OERnpPM"
      },
      "source": [
        "lstm_new = my_rnn_model()"
      ],
      "execution_count": null,
      "outputs": []
    },
    {
      "cell_type": "markdown",
      "metadata": {
        "id": "UryNwqY0nxzu"
      },
      "source": [
        "### Training"
      ]
    },
    {
      "cell_type": "code",
      "metadata": {
        "colab": {
          "base_uri": "https://localhost:8080/"
        },
        "id": "PK6s59bnnpKE",
        "outputId": "812aea83-73e1-42d7-b4c2-cefc5878493a"
      },
      "source": [
        "from tensorflow.keras.callbacks import EarlyStopping \n",
        "\n",
        "es = EarlyStopping(patience = 20, monitor = \"val_mean_absolute_error\")\n",
        "\n",
        "\n",
        "history_new = lstm_new.fit(X_train_pad_apple_competition, np.array(y_train_apple),\n",
        "          validation_split = 0.3,\n",
        "         batch_size=16,\n",
        "         epochs=100,\n",
        "         verbose = 1,\n",
        "         callbacks = [es])"
      ],
      "execution_count": null,
      "outputs": [
        {
          "output_type": "stream",
          "text": [
            "Epoch 1/100\n",
            "88/88 [==============================] - 21s 136ms/step - loss: 0.0047 - mean_absolute_error: 0.0409 - val_loss: 7.0476e-04 - val_mean_absolute_error: 0.0213\n",
            "Epoch 2/100\n",
            "88/88 [==============================] - 10s 110ms/step - loss: 0.0021 - mean_absolute_error: 0.0284 - val_loss: 3.5233e-04 - val_mean_absolute_error: 0.0141\n",
            "Epoch 3/100\n",
            "88/88 [==============================] - 10s 110ms/step - loss: 0.0014 - mean_absolute_error: 0.0229 - val_loss: 4.6784e-04 - val_mean_absolute_error: 0.0165\n",
            "Epoch 4/100\n",
            "88/88 [==============================] - 10s 110ms/step - loss: 0.0011 - mean_absolute_error: 0.0211 - val_loss: 9.2334e-04 - val_mean_absolute_error: 0.0221\n",
            "Epoch 5/100\n",
            "88/88 [==============================] - 10s 109ms/step - loss: 0.0010 - mean_absolute_error: 0.0198 - val_loss: 5.8920e-04 - val_mean_absolute_error: 0.0165\n",
            "Epoch 6/100\n",
            "88/88 [==============================] - 10s 110ms/step - loss: 7.8527e-04 - mean_absolute_error: 0.0180 - val_loss: 8.6196e-04 - val_mean_absolute_error: 0.0226\n",
            "Epoch 7/100\n",
            "88/88 [==============================] - 10s 109ms/step - loss: 8.0821e-04 - mean_absolute_error: 0.0185 - val_loss: 0.0012 - val_mean_absolute_error: 0.0281\n",
            "Epoch 8/100\n",
            "88/88 [==============================] - 10s 109ms/step - loss: 6.6195e-04 - mean_absolute_error: 0.0168 - val_loss: 7.6373e-04 - val_mean_absolute_error: 0.0221\n",
            "Epoch 9/100\n",
            "88/88 [==============================] - 10s 110ms/step - loss: 6.6432e-04 - mean_absolute_error: 0.0166 - val_loss: 4.1336e-04 - val_mean_absolute_error: 0.0137\n",
            "Epoch 10/100\n",
            "88/88 [==============================] - 10s 110ms/step - loss: 5.9813e-04 - mean_absolute_error: 0.0145 - val_loss: 0.0018 - val_mean_absolute_error: 0.0335\n",
            "Epoch 11/100\n",
            "88/88 [==============================] - 10s 110ms/step - loss: 5.5671e-04 - mean_absolute_error: 0.0151 - val_loss: 7.1337e-04 - val_mean_absolute_error: 0.0164\n",
            "Epoch 12/100\n",
            "88/88 [==============================] - 10s 110ms/step - loss: 6.2314e-04 - mean_absolute_error: 0.0152 - val_loss: 7.6235e-04 - val_mean_absolute_error: 0.0200\n",
            "Epoch 13/100\n",
            "88/88 [==============================] - 10s 110ms/step - loss: 4.4506e-04 - mean_absolute_error: 0.0135 - val_loss: 1.2215e-04 - val_mean_absolute_error: 0.0074\n",
            "Epoch 14/100\n",
            "88/88 [==============================] - 10s 109ms/step - loss: 4.7666e-04 - mean_absolute_error: 0.0137 - val_loss: 0.0014 - val_mean_absolute_error: 0.0306\n",
            "Epoch 15/100\n",
            "88/88 [==============================] - 10s 110ms/step - loss: 5.5321e-04 - mean_absolute_error: 0.0142 - val_loss: 1.8427e-04 - val_mean_absolute_error: 0.0103\n",
            "Epoch 16/100\n",
            "88/88 [==============================] - 10s 111ms/step - loss: 3.9597e-04 - mean_absolute_error: 0.0127 - val_loss: 6.2322e-04 - val_mean_absolute_error: 0.0182\n",
            "Epoch 17/100\n",
            "88/88 [==============================] - 10s 110ms/step - loss: 4.2364e-04 - mean_absolute_error: 0.0134 - val_loss: 1.9974e-04 - val_mean_absolute_error: 0.0087\n",
            "Epoch 18/100\n",
            "88/88 [==============================] - 10s 110ms/step - loss: 4.3009e-04 - mean_absolute_error: 0.0130 - val_loss: 9.9586e-05 - val_mean_absolute_error: 0.0071\n",
            "Epoch 19/100\n",
            "88/88 [==============================] - 10s 110ms/step - loss: 3.9281e-04 - mean_absolute_error: 0.0125 - val_loss: 1.3270e-04 - val_mean_absolute_error: 0.0083\n",
            "Epoch 20/100\n",
            "88/88 [==============================] - 10s 110ms/step - loss: 3.6829e-04 - mean_absolute_error: 0.0125 - val_loss: 0.0034 - val_mean_absolute_error: 0.0410\n",
            "Epoch 21/100\n",
            "88/88 [==============================] - 10s 111ms/step - loss: 3.9354e-04 - mean_absolute_error: 0.0123 - val_loss: 1.4407e-04 - val_mean_absolute_error: 0.0074\n",
            "Epoch 22/100\n",
            "88/88 [==============================] - 10s 110ms/step - loss: 3.6085e-04 - mean_absolute_error: 0.0116 - val_loss: 2.1342e-04 - val_mean_absolute_error: 0.0092\n",
            "Epoch 23/100\n",
            "88/88 [==============================] - 10s 110ms/step - loss: 3.4406e-04 - mean_absolute_error: 0.0116 - val_loss: 6.0631e-04 - val_mean_absolute_error: 0.0193\n",
            "Epoch 24/100\n",
            "88/88 [==============================] - 10s 110ms/step - loss: 3.2364e-04 - mean_absolute_error: 0.0117 - val_loss: 0.0015 - val_mean_absolute_error: 0.0274\n",
            "Epoch 25/100\n",
            "88/88 [==============================] - 10s 110ms/step - loss: 3.3535e-04 - mean_absolute_error: 0.0115 - val_loss: 4.6166e-04 - val_mean_absolute_error: 0.0135\n",
            "Epoch 26/100\n",
            "88/88 [==============================] - 10s 110ms/step - loss: 3.0904e-04 - mean_absolute_error: 0.0111 - val_loss: 0.0016 - val_mean_absolute_error: 0.0315\n",
            "Epoch 27/100\n",
            "88/88 [==============================] - 10s 111ms/step - loss: 3.1737e-04 - mean_absolute_error: 0.0111 - val_loss: 1.6449e-04 - val_mean_absolute_error: 0.0076\n",
            "Epoch 28/100\n",
            "88/88 [==============================] - 10s 111ms/step - loss: 3.3518e-04 - mean_absolute_error: 0.0118 - val_loss: 1.3866e-04 - val_mean_absolute_error: 0.0096\n",
            "Epoch 29/100\n",
            "88/88 [==============================] - 10s 110ms/step - loss: 2.7482e-04 - mean_absolute_error: 0.0106 - val_loss: 2.6964e-04 - val_mean_absolute_error: 0.0105\n",
            "Epoch 30/100\n",
            "88/88 [==============================] - 10s 110ms/step - loss: 2.9574e-04 - mean_absolute_error: 0.0108 - val_loss: 1.0561e-04 - val_mean_absolute_error: 0.0066\n",
            "Epoch 31/100\n",
            "88/88 [==============================] - 10s 111ms/step - loss: 2.9923e-04 - mean_absolute_error: 0.0114 - val_loss: 3.0882e-04 - val_mean_absolute_error: 0.0105\n",
            "Epoch 32/100\n",
            "88/88 [==============================] - 10s 110ms/step - loss: 2.8628e-04 - mean_absolute_error: 0.0106 - val_loss: 9.7852e-05 - val_mean_absolute_error: 0.0071\n",
            "Epoch 33/100\n",
            "88/88 [==============================] - 10s 111ms/step - loss: 2.4198e-04 - mean_absolute_error: 0.0102 - val_loss: 7.3851e-04 - val_mean_absolute_error: 0.0144\n",
            "Epoch 34/100\n",
            "88/88 [==============================] - 10s 111ms/step - loss: 2.8437e-04 - mean_absolute_error: 0.0104 - val_loss: 1.7655e-04 - val_mean_absolute_error: 0.0087\n",
            "Epoch 35/100\n",
            "88/88 [==============================] - 10s 110ms/step - loss: 2.9199e-04 - mean_absolute_error: 0.0107 - val_loss: 1.1354e-04 - val_mean_absolute_error: 0.0073\n",
            "Epoch 36/100\n",
            "88/88 [==============================] - 10s 110ms/step - loss: 2.6648e-04 - mean_absolute_error: 0.0099 - val_loss: 8.7748e-05 - val_mean_absolute_error: 0.0064\n",
            "Epoch 37/100\n",
            "88/88 [==============================] - 10s 111ms/step - loss: 2.5850e-04 - mean_absolute_error: 0.0100 - val_loss: 1.1580e-04 - val_mean_absolute_error: 0.0072\n",
            "Epoch 38/100\n",
            "88/88 [==============================] - 10s 111ms/step - loss: 2.5651e-04 - mean_absolute_error: 0.0107 - val_loss: 1.0159e-04 - val_mean_absolute_error: 0.0065\n",
            "Epoch 39/100\n",
            "88/88 [==============================] - 10s 111ms/step - loss: 2.5974e-04 - mean_absolute_error: 0.0103 - val_loss: 9.4066e-05 - val_mean_absolute_error: 0.0064\n",
            "Epoch 40/100\n",
            "88/88 [==============================] - 10s 111ms/step - loss: 2.5040e-04 - mean_absolute_error: 0.0102 - val_loss: 7.4465e-05 - val_mean_absolute_error: 0.0058\n",
            "Epoch 41/100\n",
            "88/88 [==============================] - 10s 110ms/step - loss: 2.4722e-04 - mean_absolute_error: 0.0100 - val_loss: 7.6848e-04 - val_mean_absolute_error: 0.0220\n",
            "Epoch 42/100\n",
            "88/88 [==============================] - 10s 111ms/step - loss: 2.8223e-04 - mean_absolute_error: 0.0104 - val_loss: 1.5074e-04 - val_mean_absolute_error: 0.0105\n",
            "Epoch 43/100\n",
            "88/88 [==============================] - 10s 111ms/step - loss: 2.1571e-04 - mean_absolute_error: 0.0094 - val_loss: 7.5889e-05 - val_mean_absolute_error: 0.0061\n",
            "Epoch 44/100\n",
            "88/88 [==============================] - 10s 111ms/step - loss: 2.3043e-04 - mean_absolute_error: 0.0096 - val_loss: 6.2327e-04 - val_mean_absolute_error: 0.0170\n",
            "Epoch 45/100\n",
            "88/88 [==============================] - 10s 111ms/step - loss: 2.2298e-04 - mean_absolute_error: 0.0094 - val_loss: 2.3053e-04 - val_mean_absolute_error: 0.0102\n",
            "Epoch 46/100\n",
            "88/88 [==============================] - 10s 111ms/step - loss: 2.3258e-04 - mean_absolute_error: 0.0102 - val_loss: 1.5905e-04 - val_mean_absolute_error: 0.0085\n",
            "Epoch 47/100\n",
            "88/88 [==============================] - 10s 111ms/step - loss: 2.2375e-04 - mean_absolute_error: 0.0098 - val_loss: 9.4412e-05 - val_mean_absolute_error: 0.0065\n",
            "Epoch 48/100\n",
            "88/88 [==============================] - 10s 111ms/step - loss: 2.2442e-04 - mean_absolute_error: 0.0095 - val_loss: 8.5020e-05 - val_mean_absolute_error: 0.0064\n",
            "Epoch 49/100\n",
            "88/88 [==============================] - 10s 111ms/step - loss: 2.2911e-04 - mean_absolute_error: 0.0099 - val_loss: 2.2438e-04 - val_mean_absolute_error: 0.0096\n",
            "Epoch 50/100\n",
            "88/88 [==============================] - 10s 111ms/step - loss: 2.4336e-04 - mean_absolute_error: 0.0096 - val_loss: 4.6803e-04 - val_mean_absolute_error: 0.0160\n",
            "Epoch 51/100\n",
            "88/88 [==============================] - 10s 111ms/step - loss: 2.0568e-04 - mean_absolute_error: 0.0092 - val_loss: 1.2780e-04 - val_mean_absolute_error: 0.0081\n",
            "Epoch 52/100\n",
            "88/88 [==============================] - 10s 111ms/step - loss: 2.1356e-04 - mean_absolute_error: 0.0095 - val_loss: 1.1597e-04 - val_mean_absolute_error: 0.0070\n",
            "Epoch 53/100\n",
            "88/88 [==============================] - 10s 110ms/step - loss: 2.2944e-04 - mean_absolute_error: 0.0094 - val_loss: 8.5309e-05 - val_mean_absolute_error: 0.0061\n",
            "Epoch 54/100\n",
            "88/88 [==============================] - 10s 111ms/step - loss: 2.1659e-04 - mean_absolute_error: 0.0093 - val_loss: 1.8294e-04 - val_mean_absolute_error: 0.0093\n",
            "Epoch 55/100\n",
            "88/88 [==============================] - 10s 111ms/step - loss: 2.2081e-04 - mean_absolute_error: 0.0095 - val_loss: 9.1396e-04 - val_mean_absolute_error: 0.0195\n",
            "Epoch 56/100\n",
            "88/88 [==============================] - 10s 111ms/step - loss: 1.9380e-04 - mean_absolute_error: 0.0090 - val_loss: 9.2256e-05 - val_mean_absolute_error: 0.0065\n",
            "Epoch 57/100\n",
            "88/88 [==============================] - 10s 111ms/step - loss: 1.9350e-04 - mean_absolute_error: 0.0090 - val_loss: 1.1369e-04 - val_mean_absolute_error: 0.0071\n",
            "Epoch 58/100\n",
            "88/88 [==============================] - 10s 112ms/step - loss: 2.0255e-04 - mean_absolute_error: 0.0089 - val_loss: 7.0631e-05 - val_mean_absolute_error: 0.0057\n",
            "Epoch 59/100\n",
            "88/88 [==============================] - 10s 111ms/step - loss: 2.0542e-04 - mean_absolute_error: 0.0092 - val_loss: 1.0221e-04 - val_mean_absolute_error: 0.0064\n",
            "Epoch 60/100\n",
            "88/88 [==============================] - 10s 111ms/step - loss: 1.9602e-04 - mean_absolute_error: 0.0091 - val_loss: 6.3232e-05 - val_mean_absolute_error: 0.0054\n",
            "Epoch 61/100\n",
            "88/88 [==============================] - 10s 111ms/step - loss: 2.0109e-04 - mean_absolute_error: 0.0089 - val_loss: 3.0496e-04 - val_mean_absolute_error: 0.0114\n",
            "Epoch 62/100\n",
            "88/88 [==============================] - 10s 113ms/step - loss: 1.8968e-04 - mean_absolute_error: 0.0087 - val_loss: 9.0194e-05 - val_mean_absolute_error: 0.0073\n",
            "Epoch 63/100\n",
            "88/88 [==============================] - 10s 112ms/step - loss: 2.1019e-04 - mean_absolute_error: 0.0091 - val_loss: 1.1445e-04 - val_mean_absolute_error: 0.0078\n",
            "Epoch 64/100\n",
            "88/88 [==============================] - 10s 111ms/step - loss: 1.9266e-04 - mean_absolute_error: 0.0090 - val_loss: 2.5368e-04 - val_mean_absolute_error: 0.0096\n",
            "Epoch 65/100\n",
            "88/88 [==============================] - 10s 112ms/step - loss: 1.9424e-04 - mean_absolute_error: 0.0086 - val_loss: 1.2677e-04 - val_mean_absolute_error: 0.0073\n",
            "Epoch 66/100\n",
            "88/88 [==============================] - 10s 112ms/step - loss: 2.4076e-04 - mean_absolute_error: 0.0089 - val_loss: 1.5280e-04 - val_mean_absolute_error: 0.0095\n",
            "Epoch 67/100\n",
            "88/88 [==============================] - 10s 111ms/step - loss: 1.8934e-04 - mean_absolute_error: 0.0086 - val_loss: 3.8802e-04 - val_mean_absolute_error: 0.0157\n",
            "Epoch 68/100\n",
            "88/88 [==============================] - 10s 112ms/step - loss: 1.8724e-04 - mean_absolute_error: 0.0089 - val_loss: 1.2836e-04 - val_mean_absolute_error: 0.0076\n",
            "Epoch 69/100\n",
            "88/88 [==============================] - 10s 112ms/step - loss: 1.8939e-04 - mean_absolute_error: 0.0089 - val_loss: 1.5716e-04 - val_mean_absolute_error: 0.0072\n",
            "Epoch 70/100\n",
            "88/88 [==============================] - 10s 112ms/step - loss: 1.7741e-04 - mean_absolute_error: 0.0087 - val_loss: 0.0012 - val_mean_absolute_error: 0.0225\n",
            "Epoch 71/100\n",
            "88/88 [==============================] - 10s 111ms/step - loss: 1.7678e-04 - mean_absolute_error: 0.0086 - val_loss: 1.8862e-04 - val_mean_absolute_error: 0.0079\n",
            "Epoch 72/100\n",
            "88/88 [==============================] - 10s 112ms/step - loss: 1.6002e-04 - mean_absolute_error: 0.0083 - val_loss: 1.4368e-04 - val_mean_absolute_error: 0.0095\n",
            "Epoch 73/100\n",
            "88/88 [==============================] - 10s 112ms/step - loss: 1.7758e-04 - mean_absolute_error: 0.0088 - val_loss: 7.4758e-05 - val_mean_absolute_error: 0.0058\n",
            "Epoch 74/100\n",
            "88/88 [==============================] - 10s 112ms/step - loss: 1.8070e-04 - mean_absolute_error: 0.0086 - val_loss: 1.2453e-04 - val_mean_absolute_error: 0.0082\n",
            "Epoch 75/100\n",
            "88/88 [==============================] - 10s 112ms/step - loss: 1.6558e-04 - mean_absolute_error: 0.0083 - val_loss: 2.2362e-04 - val_mean_absolute_error: 0.0084\n",
            "Epoch 76/100\n",
            "88/88 [==============================] - 10s 111ms/step - loss: 1.8464e-04 - mean_absolute_error: 0.0088 - val_loss: 1.0933e-04 - val_mean_absolute_error: 0.0073\n",
            "Epoch 77/100\n",
            "88/88 [==============================] - 10s 111ms/step - loss: 1.9353e-04 - mean_absolute_error: 0.0085 - val_loss: 7.2955e-05 - val_mean_absolute_error: 0.0058\n",
            "Epoch 78/100\n",
            "88/88 [==============================] - 10s 111ms/step - loss: 1.4995e-04 - mean_absolute_error: 0.0080 - val_loss: 2.1776e-04 - val_mean_absolute_error: 0.0129\n",
            "Epoch 79/100\n",
            "88/88 [==============================] - 10s 112ms/step - loss: 1.8573e-04 - mean_absolute_error: 0.0089 - val_loss: 2.8935e-04 - val_mean_absolute_error: 0.0123\n",
            "Epoch 80/100\n",
            "88/88 [==============================] - 10s 111ms/step - loss: 1.6663e-04 - mean_absolute_error: 0.0083 - val_loss: 2.4833e-04 - val_mean_absolute_error: 0.0101\n"
          ],
          "name": "stdout"
        }
      ]
    },
    {
      "cell_type": "code",
      "metadata": {
        "colab": {
          "base_uri": "https://localhost:8080/",
          "height": 383
        },
        "id": "f8iwZT8v2uEZ",
        "outputId": "228c244a-1c30-4279-c99a-6fa5516b4037"
      },
      "source": [
        "plot_loss_mae(history_new)"
      ],
      "execution_count": null,
      "outputs": [
        {
          "output_type": "display_data",
          "data": {
            "image/png": "[encoded data removed]",
            "text/plain": [
              "<Figure size 1440x360 with 2 Axes>"
            ]
          },
          "metadata": {}
        }
      ]
    },
    {
      "cell_type": "markdown",
      "metadata": {
        "id": "nhNEhL1bnzc2"
      },
      "source": [
        "### Evaluating"
      ]
    },
    {
      "cell_type": "code",
      "metadata": {
        "colab": {
          "base_uri": "https://localhost:8080/"
        },
        "id": "6nfJPaornpE8",
        "outputId": "b3f69689-2c1f-47ea-84bc-ece90b1a91dd"
      },
      "source": [
        "res_new = lstm_new.evaluate(X_test_pad_apple_competition, np.array(y_test_apple), verbose = 1)\n",
        "res_new\n"
      ],
      "execution_count": null,
      "outputs": [
        {
          "output_type": "stream",
          "text": [
            "32/32 [==============================] - 1s 33ms/step - loss: 6.1131e-04 - mean_absolute_error: 0.0202\n"
          ],
          "name": "stdout"
        },
        {
          "output_type": "execute_result",
          "data": {
            "text/plain": [
              "[0.0006113072158768773, 0.020239485427737236]"
            ]
          },
          "metadata": {},
          "execution_count": 173
        }
      ]
    },
    {
      "cell_type": "code",
      "metadata": {
        "id": "G-z8EUmlnpAW"
      },
      "source": [
        ""
      ],
      "execution_count": null,
      "outputs": []
    },
    {
      "cell_type": "markdown",
      "metadata": {
        "id": "hWtbZ59Hn030"
      },
      "source": [
        "### Predictions"
      ]
    },
    {
      "cell_type": "code",
      "metadata": {
        "id": "S2chGyUhno7w"
      },
      "source": [
        "predictions_new = lstm_new.predict(X_test_pad_apple_competition)"
      ],
      "execution_count": null,
      "outputs": []
    },
    {
      "cell_type": "code",
      "metadata": {
        "colab": {
          "base_uri": "https://localhost:8080/"
        },
        "id": "7PZV3-vA5vmg",
        "outputId": "73731dce-6a5b-448c-e89b-ac932272e257"
      },
      "source": [
        "minmax_scaler_bis.data_min_"
      ],
      "execution_count": null,
      "outputs": [
        {
          "output_type": "execute_result",
          "data": {
            "text/plain": [
              "array([  9.66924477, 236.55334473,  18.96278763, 160.97000122])"
            ]
          },
          "metadata": {},
          "execution_count": 177
        }
      ]
    },
    {
      "cell_type": "code",
      "metadata": {
        "colab": {
          "base_uri": "https://localhost:8080/"
        },
        "id": "rYgc_1kr5x_9",
        "outputId": "b31393a0-a325-4593-cc1f-af5a90472782"
      },
      "source": [
        "minmax_scaler_bis.data_max_"
      ],
      "execution_count": null,
      "outputs": [
        {
          "output_type": "execute_result",
          "data": {
            "text/plain": [
              "array([ 142.49052429, 2098.        ,  242.18589783, 3531.44995117])"
            ]
          },
          "metadata": {},
          "execution_count": 178
        }
      ]
    },
    {
      "cell_type": "code",
      "metadata": {
        "colab": {
          "base_uri": "https://localhost:8080/"
        },
        "id": "oRxLWJLE52oH",
        "outputId": "3b6466e1-599e-41f5-c7d0-111dbab93453"
      },
      "source": [
        "minmax_scaler_bis.data_range_"
      ],
      "execution_count": null,
      "outputs": [
        {
          "output_type": "execute_result",
          "data": {
            "text/plain": [
              "array([ 132.82127953, 1861.44665527,  223.2231102 , 3370.47994995])"
            ]
          },
          "metadata": {},
          "execution_count": 179
        }
      ]
    },
    {
      "cell_type": "code",
      "metadata": {
        "id": "YWTLMZtl50S3"
      },
      "source": [
        "apple_train_min = minmax_scaler_bis.data_min_[0]\n",
        "apple_train_max = minmax_scaler_bis.data_max_[0]\n",
        "apple_train_range = minmax_scaler_bis.data_range_[0]"
      ],
      "execution_count": null,
      "outputs": []
    },
    {
      "cell_type": "code",
      "metadata": {
        "id": "IBz7X4pInou8"
      },
      "source": [
        "unscaled_predictions_new = predictions_new * apple_train_range + apple_train_min"
      ],
      "execution_count": null,
      "outputs": []
    },
    {
      "cell_type": "code",
      "metadata": {
        "id": "cKRo1MEyoY7V"
      },
      "source": [
        "unscaled_y_test_apple = np.array(y_test_apple) * apple_train_range + apple_train_min"
      ],
      "execution_count": null,
      "outputs": []
    },
    {
      "cell_type": "code",
      "metadata": {
        "colab": {
          "base_uri": "https://localhost:8080/"
        },
        "id": "qjuEEWb4oY0Y",
        "outputId": "cd124383-646f-4187-9791-f9d42f0a241a"
      },
      "source": [
        "#MAE\n",
        "np.mean(np.abs(unscaled_y_test_apple - unscaled_predictions_new))"
      ],
      "execution_count": null,
      "outputs": [
        {
          "output_type": "execute_result",
          "data": {
            "text/plain": [
              "10.39947192997742"
            ]
          },
          "metadata": {},
          "execution_count": 185
        }
      ]
    },
    {
      "cell_type": "code",
      "metadata": {
        "colab": {
          "base_uri": "https://localhost:8080/"
        },
        "id": "ITzUHtzgoYvR",
        "outputId": "2b1cf7b4-fc6f-408a-c125-4022630ac94a"
      },
      "source": [
        "#RMSE\n",
        "np.sqrt(np.mean((unscaled_y_test_apple - unscaled_predictions_new)**2))"
      ],
      "execution_count": null,
      "outputs": [
        {
          "output_type": "execute_result",
          "data": {
            "text/plain": [
              "12.884107829805409"
            ]
          },
          "metadata": {},
          "execution_count": 186
        }
      ]
    },
    {
      "cell_type": "code",
      "metadata": {
        "id": "tssdU9cUoYpG"
      },
      "source": [
        "predictions_train_new = model.predict(X_train_pad_apple_competition)\n",
        "unscaled_predictions_train_new = minmax_scaler_bis.inverse_transform(predictions_train_new)\n",
        "unscaled_y_train_apple = minmax_scaler.inverse_transform(np.array([y_train_apple])).T\n",
        "np.mean(np.abs(unscaled_y_train_apple - unscaled_predictions_train_new))"
      ],
      "execution_count": null,
      "outputs": []
    },
    {
      "cell_type": "code",
      "metadata": {
        "id": "eKppdlyQoYgO"
      },
      "source": [
        ""
      ],
      "execution_count": null,
      "outputs": []
    },
    {
      "cell_type": "code",
      "metadata": {
        "id": "Oq7H2hmBoYYR"
      },
      "source": [
        ""
      ],
      "execution_count": null,
      "outputs": []
    },
    {
      "cell_type": "markdown",
      "metadata": {
        "id": "0MqA8NYOTObA"
      },
      "source": [
        "## LSTM easy \n",
        "\n",
        "FROM KAGGLE\n",
        "\n",
        "A bit too easy, the guy created as many subsequences as possible, without any randomness in the lengeth of them (so not need to pad anything)"
      ]
    },
    {
      "cell_type": "code",
      "metadata": {
        "id": "4ZAlnOTwTObB",
        "colab": {
          "base_uri": "https://localhost:8080/"
        },
        "outputId": "9fdbdad3-a1c0-4d04-f419-c8cba702ff8d"
      },
      "source": [
        "dataset_apple = aapl[[\"Close\"]].values\n",
        "dataset_apple"
      ],
      "execution_count": null,
      "outputs": [
        {
          "output_type": "execute_result",
          "data": {
            "text/plain": [
              "array([[ 11.77035713],\n",
              "       [ 11.83178616],\n",
              "       [ 11.92857075],\n",
              "       ...,\n",
              "       [146.69999695],\n",
              "       [148.19000244],\n",
              "       [149.71000671]])"
            ]
          },
          "metadata": {},
          "execution_count": 187
        }
      ]
    },
    {
      "cell_type": "code",
      "metadata": {
        "id": "GswrJrguTObB",
        "colab": {
          "base_uri": "https://localhost:8080/"
        },
        "outputId": "cbd807fe-578d-4ba1-bcbf-8a39303a9f80"
      },
      "source": [
        "len(dataset_apple)"
      ],
      "execution_count": null,
      "outputs": [
        {
          "output_type": "execute_result",
          "data": {
            "text/plain": [
              "2678"
            ]
          },
          "metadata": {},
          "execution_count": 188
        }
      ]
    },
    {
      "cell_type": "code",
      "metadata": {
        "id": "WaJa5-QYL45-",
        "colab": {
          "base_uri": "https://localhost:8080/"
        },
        "outputId": "cef4bc9a-4efc-4487-f552-4c96fdab2134"
      },
      "source": [
        "training_data_length = int(np.ceil(len(dataset_apple\n",
        ") * 0.95))\n",
        "training_data_length"
      ],
      "execution_count": null,
      "outputs": [
        {
          "output_type": "execute_result",
          "data": {
            "text/plain": [
              "2545"
            ]
          },
          "metadata": {},
          "execution_count": 189
        }
      ]
    },
    {
      "cell_type": "code",
      "metadata": {
        "id": "Ky6aM8SBdNRJ",
        "colab": {
          "base_uri": "https://localhost:8080/"
        },
        "outputId": "76a4ebb1-5ff7-4207-b94a-d23c95f71915"
      },
      "source": [
        "# Scale the data\n",
        "from sklearn.preprocessing import MinMaxScaler\n",
        "\n",
        "scaler = MinMaxScaler(feature_range=(0,1))\n",
        "scaled_data = scaler.fit_transform(dataset_apple\n",
        ")\n",
        "\n",
        "scaled_data"
      ],
      "execution_count": null,
      "outputs": [
        {
          "output_type": "execute_result",
          "data": {
            "text/plain": [
              "array([[0.00363888],\n",
              "       [0.0040781 ],\n",
              "       [0.00477012],\n",
              "       ...,\n",
              "       [0.96839666],\n",
              "       [0.97905032],\n",
              "       [0.98991847]])"
            ]
          },
          "metadata": {},
          "execution_count": 190
        }
      ]
    },
    {
      "cell_type": "code",
      "metadata": {
        "id": "1UKkQE7pdQyF"
      },
      "source": [
        "# Create the training data set \n",
        "# Create the scaled training data set\n",
        "\n",
        "train_data = scaled_data[0:int(training_data_length), :]\n",
        "# Split the data into x_train and y_train data sets\n",
        "x_train = []\n",
        "y_train = []\n",
        "\n",
        "for i in range(60, len(train_data)):\n",
        "    x_train.append(train_data[i-60:i, 0])\n",
        "    y_train.append(train_data[i, 0])\n",
        " #   if i<= 61:\n",
        " #       print(x_train)\n",
        " #       print(y_train)\n",
        " #       print()\n",
        "        \n",
        "# Convert the x_train and y_train to numpy arrays \n",
        "x_train, y_train = np.array(x_train), np.array(y_train)\n",
        "\n",
        "# Reshape the data\n",
        "x_train = np.reshape(x_train, (x_train.shape[0], x_train.shape[1], 1))\n",
        "# x_train.shape"
      ],
      "execution_count": null,
      "outputs": []
    },
    {
      "cell_type": "code",
      "metadata": {
        "id": "r1kJ7oDCdZgd",
        "colab": {
          "base_uri": "https://localhost:8080/",
          "height": 248
        },
        "outputId": "82010bf7-4d92-4e4f-c0b6-fea614ba0c82"
      },
      "source": [
        "from tensorflow.keras.models import Sequential\n",
        "from tensorflow.keras.layers import Dense, LSTM\n",
        "\n",
        "# Build the LSTM model\n",
        "model = Sequential()\n",
        "model.add(LSTM(128, return_sequences=True, input_shape= (x_train.shape[1], 1)))\n",
        "model.add(LSTM(64, return_sequences=False))\n",
        "model.add(Dense(25))\n",
        "model.add(Dense(1))\n",
        "\n",
        "# Compile the model\n",
        "model.compile(optimizer='adam', loss='mean_squared_error')\n",
        "\n",
        "# Train the model\n",
        "model.fit(x_train, y_train, batch_size=1, epochs=1)"
      ],
      "execution_count": null,
      "outputs": [
        {
          "output_type": "error",
          "ename": "NameError",
          "evalue": "ignored",
          "traceback": [
            "\u001b[0;31m---------------------------------------------------------------------------\u001b[0m",
            "\u001b[0;31mNameError\u001b[0m                                 Traceback (most recent call last)",
            "\u001b[0;32m<ipython-input-1-daae9d45490b>\u001b[0m in \u001b[0;36m<module>\u001b[0;34m()\u001b[0m\n\u001b[1;32m      4\u001b[0m \u001b[0;31m# Build the LSTM model\u001b[0m\u001b[0;34m\u001b[0m\u001b[0;34m\u001b[0m\u001b[0;34m\u001b[0m\u001b[0m\n\u001b[1;32m      5\u001b[0m \u001b[0mmodel\u001b[0m \u001b[0;34m=\u001b[0m \u001b[0mSequential\u001b[0m\u001b[0;34m(\u001b[0m\u001b[0;34m)\u001b[0m\u001b[0;34m\u001b[0m\u001b[0;34m\u001b[0m\u001b[0m\n\u001b[0;32m----> 6\u001b[0;31m \u001b[0mmodel\u001b[0m\u001b[0;34m.\u001b[0m\u001b[0madd\u001b[0m\u001b[0;34m(\u001b[0m\u001b[0mLSTM\u001b[0m\u001b[0;34m(\u001b[0m\u001b[0;36m128\u001b[0m\u001b[0;34m,\u001b[0m \u001b[0mreturn_sequences\u001b[0m\u001b[0;34m=\u001b[0m\u001b[0;32mTrue\u001b[0m\u001b[0;34m,\u001b[0m \u001b[0minput_shape\u001b[0m\u001b[0;34m=\u001b[0m \u001b[0;34m(\u001b[0m\u001b[0mx_train\u001b[0m\u001b[0;34m.\u001b[0m\u001b[0mshape\u001b[0m\u001b[0;34m[\u001b[0m\u001b[0;36m1\u001b[0m\u001b[0;34m]\u001b[0m\u001b[0;34m,\u001b[0m \u001b[0;36m1\u001b[0m\u001b[0;34m)\u001b[0m\u001b[0;34m)\u001b[0m\u001b[0;34m)\u001b[0m\u001b[0;34m\u001b[0m\u001b[0;34m\u001b[0m\u001b[0m\n\u001b[0m\u001b[1;32m      7\u001b[0m \u001b[0mmodel\u001b[0m\u001b[0;34m.\u001b[0m\u001b[0madd\u001b[0m\u001b[0;34m(\u001b[0m\u001b[0mLSTM\u001b[0m\u001b[0;34m(\u001b[0m\u001b[0;36m64\u001b[0m\u001b[0;34m,\u001b[0m \u001b[0mreturn_sequences\u001b[0m\u001b[0;34m=\u001b[0m\u001b[0;32mFalse\u001b[0m\u001b[0;34m)\u001b[0m\u001b[0;34m)\u001b[0m\u001b[0;34m\u001b[0m\u001b[0;34m\u001b[0m\u001b[0m\n\u001b[1;32m      8\u001b[0m \u001b[0mmodel\u001b[0m\u001b[0;34m.\u001b[0m\u001b[0madd\u001b[0m\u001b[0;34m(\u001b[0m\u001b[0mDense\u001b[0m\u001b[0;34m(\u001b[0m\u001b[0;36m25\u001b[0m\u001b[0;34m)\u001b[0m\u001b[0;34m)\u001b[0m\u001b[0;34m\u001b[0m\u001b[0;34m\u001b[0m\u001b[0m\n",
            "\u001b[0;31mNameError\u001b[0m: name 'x_train' is not defined"
          ]
        }
      ]
    },
    {
      "cell_type": "code",
      "metadata": {
        "id": "mDLxHpjofPRL"
      },
      "source": [
        "# Create the testing data set\n",
        "# Create a new array containing scaled values from index 543 to 2002 \n",
        "test_data = scaled_data[training_data_length - 60: , :]\n",
        "# Create the data sets x_test and y_test\n",
        "x_test = []\n",
        "y_test = dataset_apple[training_data_length:, :]\n",
        "for i in range(60, len(test_data)):\n",
        "    x_test.append(test_data[i-60:i, 0])\n",
        "    \n",
        "# Convert the data to a numpy array\n",
        "x_test = np.array(x_test)\n",
        "\n",
        "# Reshape the data\n",
        "x_test = np.reshape(x_test, (x_test.shape[0], x_test.shape[1], 1 ))\n",
        "\n",
        "# Get the models predicted price values \n",
        "predictions = model.predict(x_test)\n",
        "predictions = scaler.inverse_transform(predictions)\n",
        "\n",
        "# Get the root mean squared error (RMSE)\n",
        "rmse = np.sqrt(np.mean(((predictions - y_test) ** 2)))\n",
        "rmse"
      ],
      "execution_count": null,
      "outputs": []
    },
    {
      "cell_type": "code",
      "metadata": {
        "id": "DczPn6a-hCH5"
      },
      "source": [
        "# Plot the data\n",
        "train = aapl[:training_data_length]\n",
        "valid = aapl[training_data_length:]"
      ],
      "execution_count": null,
      "outputs": []
    },
    {
      "cell_type": "code",
      "metadata": {
        "id": "dc1WTWynhDPL"
      },
      "source": [
        "valid"
      ],
      "execution_count": null,
      "outputs": []
    },
    {
      "cell_type": "code",
      "metadata": {
        "id": "wj0t09QbfYLr"
      },
      "source": [
        "\n",
        "valid['Predictions'] = predictions\n",
        "# Visualize the data\n",
        "plt.figure(figsize=(16,6))\n",
        "plt.title('Model')\n",
        "plt.xlabel('Date', fontsize=18)\n",
        "plt.ylabel('Close Price USD ($)', fontsize=18)\n",
        "plt.plot(train['Close'])\n",
        "plt.plot(valid[['Close', 'Predictions']])\n",
        "plt.legend(['Train', 'Val', 'Predictions'], loc='lower right')\n",
        "plt.show()"
      ],
      "execution_count": null,
      "outputs": []
    },
    {
      "cell_type": "code",
      "metadata": {
        "id": "VGkbLiUzg5gu"
      },
      "source": [
        ""
      ],
      "execution_count": null,
      "outputs": []
    }
  ]
}