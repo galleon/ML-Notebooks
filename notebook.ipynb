{
cells: [
{
cell_type: "markdown",
metadata: { },
source: [
"# Letter generation ",
" ",
"### Exercise objective ",
"- Get autonomous with Natural Language Processing ",
"- Generate Letter ",
" ",
"<hr> ",
"<hr> ",
" ",
"In this exercise, we will try to generate some text. The underlying idea is to give a input sequence and to predict what the next letter is going to be. To do that, we will first create a dataset for this task, and then run a RNN to do the prediction. ",
" ",
"# The data ",
" ",
"❓ Question ❓ First, let's load the data. Here, it is the IMDB reviews again, but we are only interested in the sentences, not the positiveness or negativeness of the review. ",
" ",
"⚠️ **Warning** ⚠️ The `load_data` function has a `percentage_of_sentences` argument. Depending on your computer, there are chances that a too large number of sentences will make your compute slow down, or even freeze - your RAM can even overflow. For that reason, you can start with 20% of the sentences and see if your computer handles it. Otherwise, rerun with a lower number. On the other hand, you can increase the number if you feel like it. ",
" ",
"**At the end of the notebook, to improve the model, you would maybe need to increase the number of loaded sentences**"
]
},
{
cell_type: "code",
execution_count: 0,
metadata: { },
outputs: [ ],
source: [
"from tensorflow.keras.datasets import imdb ",
" ",
"def load_data(percentage_of_sentences=None): ",
" # Load the data ",
" (sentences_train, y_train), (sentences_test, y_test) = imdb.load_data() ",
" ",
" # Take only a given percentage of the entire data ",
" if percentage_of_sentences is not None: ",
" assert(percentage_of_sentences> 0 and percentage_of_sentences<=100) ",
" ",
" len_train = int(percentage_of_sentences/100*len(sentences_train)) ",
" sentences_train = sentences_train[:len_train] ",
" y_train = y_train[:len_train] ",
" ",
" len_test = int(percentage_of_sentences/100*len(sentences_test)) ",
" sentences_test = sentences_test[:len_test] ",
" y_test = y_test[:len_test] ",
" ",
" # Load the {interger: word} representation ",
" word_to_id = imdb.get_word_index() ",
" word_to_id = {k:(v+3) for k,v in word_to_id.items()} ",
" for i, w in enumerate(['<PAD>', '<START>', '<UNK>', '<UNUSED>']): ",
" word_to_id[w] = i ",
" ",
" id_to_word = {v:k for k, v in word_to_id.items()} ",
" ",
" # Convert the list of integers to list of words (str) ",
" X_train = [' '.join([id_to_word[_] for _ in sentence[1:]]) for sentence in sentences_train] ",
" ",
" return X_train ",
" ",
" ",
"### Just run this cell to load the data ",
"X = load_data(percentage_of_sentences=10)"
]
},
{
cell_type: "markdown",
metadata: { },
source: [
"❓ **Question** ❓ Write a function that, given a string (list of letters), returns ",
"- a string (list of letters) that corresponds to part of the sentence - this string should be of size 300 ",
"- the letter that follow the previous string ",
" ",
"❗ **Remark** ❗ There is no reason your first strings to start by the beginning of the input string. ",
" ",
"Example: ",
"- Input : 'This is a good movie" ",
"- Output: ('a good m', 'o') [Except the first part should be of size 300 instead of 8] ",
" ",
"❗ **Remark** ❗ If the input is shorter than 300 letters, return None"
]
},
{
cell_type: "code",
execution_count: 0,
metadata: {
tags: [
"challengify"
]
},
outputs: [ ],
source: [
"# YOUR CODE HERE"
]
},
{
cell_type: "markdown",
metadata: { },
source: [
"❓ **Question** ❓ Check that the function is working on some strings from the loaded data"
]
},
{
cell_type: "code",
execution_count: 0,
metadata: {
tags: [
"challengify"
]
},
outputs: [ ],
source: [
"# YOUR CODE HERE"
]
},
{
cell_type: "markdown",
metadata: { },
source: [
"❓ **Question** ❓ Write a function, that, based on the previous function and the loaded sentences, generate a dataset X and y: ",
"- each sample of X is a string ",
"- the corresponding y is the letter that comes just after in the input string ",
" ",
"❗ **Remark** ❗ This question is not much guided as it is similar to what you have done in the previous exercises."
]
},
{
cell_type: "code",
execution_count: 0,
metadata: {
tags: [
"challengify"
]
},
outputs: [ ],
source: [
"# YOUR CODE HERE"
]
},
{
cell_type: "markdown",
metadata: { },
source: [
"❓ **Question** ❓ Split X and y in train and test data. Store it in `string_train`, `string_test`, `y_train` and `y_test`"
]
},
{
cell_type: "code",
execution_count: 0,
metadata: {
tags: [
"challengify"
]
},
outputs: [ ],
source: [
"# YOUR CODE HERE"
]
},
{
cell_type: "markdown",
metadata: { },
source: [
"❓ **Question** ❓ Create a dictionary which stores a unique token for each letter: the key is the letter while the value is the corresponding token. You have to build you dictionary based on the letters that are in `string_train` and `y_train` only, as you are not supposed to know the test set (and the new letters that might appear, which is unlikely, but still possible). ",
" ",
"❗ **Remark** ❗ To account for the fact that there might be letters in the test set that are not in the train set, add a particular token for that, whose corresponding key can be `UNKNOWN`. ",
" ",
"❗ **Remark** ❗ By letter, we actually mean any character. As there happen to be numbers (`1`, `2`, ...) or `?`, `!`, `@`, ... in texts."
]
},
{
cell_type: "code",
execution_count: 0,
metadata: {
tags: [
"challengify"
]
},
outputs: [ ],
source: [
"# YOUR CODE HERE"
]
},
{
cell_type: "markdown",
metadata: { },
source: [
"❓ **Question** ❓ Based on the previous dictionary, tokenize the strings and stores them in `X_train` and `X_tests`. ",
" ",
"❗ **Remark** ❗ Convert your lists to NumPy arrays"
]
},
{
cell_type: "code",
execution_count: 0,
metadata: {
tags: [
"challengify"
]
},
outputs: [ ],
source: [
"# YOUR CODE HERE"
]
},
{
cell_type: "markdown",
metadata: { },
source: [
"❓ **Question** ❓ The outputs are currently letters. We first need to tokenize them, thanks to the previous dictionary. ",
" ",
"❗ **Remark** ❗ Remember that some values in `y_test` are maybe unknown."
]
},
{
cell_type: "code",
execution_count: 0,
metadata: {
tags: [
"challengify"
]
},
outputs: [ ],
source: [
"# YOUR CODE HERE"
]
},
{
cell_type: "markdown",
metadata: { },
source: [
"❓ **Question** ❓ Now, let's convert the tokenized outputs to one-hot encoded categories! There should be as many categories as different letters in the previous dictionary! So be careful that your outputs are of the right shape, especially as many one-hot encoded categories in both."
]
},
{
cell_type: "code",
execution_count: 0,
metadata: {
tags: [
"challengify"
]
},
outputs: [ ],
source: [
"# YOUR CODE HERE"
]
},
{
cell_type: "markdown",
metadata: { },
source: [
"# Baseline model ",
" ",
"❓ **Question** ❓ What is the baseline accuracy?"
]
},
{
cell_type: "code",
execution_count: 0,
metadata: {
tags: [
"challengify"
]
},
outputs: [ ],
source: [
"# YOUR CODE HERE"
]
},
{
cell_type: "markdown",
metadata: { },
source: [
"# The model ",
" ",
"❓ **Question** ❓ Write a RNN with all the appropriate layers, and compile it."
]
},
{
cell_type: "code",
execution_count: 0,
metadata: {
tags: [
"challengify"
]
},
outputs: [ ],
source: [
"# YOUR CODE HERE"
]
},
{
cell_type: "markdown",
metadata: { },
source: [
"❓ **Question** ❓ Fit the model - you can use a large batch size to accelerate the convergence. The model will probably hit the baseline performance at some point. If the loss gets decreasing, you will get a better accuracy then. ",
" ",
"You should get an accuracy better than 35% "
]
},
{
cell_type: "code",
execution_count: 0,
metadata: {
tags: [
"challengify"
]
},
outputs: [ ],
source: [
"# YOUR CODE HERE"
]
},
{
cell_type: "markdown",
metadata: { },
source: [
"❓ **Question** ❓ Evaluate your model on the test set"
]
},
{
cell_type: "code",
execution_count: 0,
metadata: {
tags: [
"challengify"
]
},
outputs: [ ],
source: [
"# YOUR CODE HERE"
]
},
{
cell_type: "markdown",
metadata: { },
source: [
"❓ **Question** ❓ Even though the model is not perfect, you can look at its prediction with a string of your choice. Don't forget to decoded the predicted token to know which letter it corresponds to. ",
" ",
"You will have to convert your string to a list of tokens, and then, get the most probable class and convert it back to a letter. ",
" ",
"You should do it in a function."
]
},
{
cell_type: "code",
execution_count: 0,
metadata: {
tags: [
"challengify"
]
},
outputs: [ ],
source: [
"# YOUR CODE HERE"
]
},
{
cell_type: "markdown",
metadata: { },
source: [
"❓ **Question** ❓ Now, write a function that takes as input a string, predict the next letter, append the letter to the initial string, then redo a prediction, etc etc. ",
" ",
"For instance : ",
"- 'this is a good' => ' ' ",
"- 'this is a good ' => 'm' ",
"- 'this is a good m' => 'o' ",
"... ",
" ",
"The function should take as input the number of time you repeat the operation ",
" ",
"You can have some fun trying different input sequences here."
]
},
{
cell_type: "code",
execution_count: 0,
metadata: {
tags: [
"challengify"
]
},
outputs: [ ],
source: [
"# YOUR CODE HERE"
]
},
{
cell_type: "markdown",
metadata: { },
source: [
"❓ **Question** ❓ Try to optimize your architecture to improve your performance. You can also try to load more data in the first function."
]
},
{
cell_type: "code",
execution_count: 0,
metadata: { },
outputs: [ ],
source: [ ]
}
],
metadata: {
kernelspec: {
display_name: "Python 3",
language: "python",
name: "python3"
},
language_info: {
codemirror_mode: {
name: "ipython",
version: 3
},
file_extension: ".py",
mimetype: "text/x-python",
name: "python",
nbconvert_exporter: "python",
pygments_lexer: "ipython3",
version: "3.8.6"
},
toc: {
base_numbering: 1,
nav_menu: { },
number_sections: false,
sideBar: true,
skip_h1_title: false,
title_cell: "Table of Contents",
title_sidebar: "Contents",
toc_cell: false,
toc_position: { },
toc_section_display: true,
toc_window_display: false
}
},
nbformat: 4,
nbformat_minor: 2
}
