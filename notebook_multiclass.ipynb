{
 "cells": [
  {
   "cell_type": "code",
   "execution_count": null,
   "id": "d52985d3-6a15-4385-8992-9ee738d4a0a4",
   "metadata": {},
   "outputs": [],
   "source": [
    "import numpy as np\n",
    "import pandas as pd\n",
    "import seaborn as sns"
   ]
  },
  {
   "cell_type": "markdown",
   "id": "8b562554-4923-4a68-bf13-22d6e5b5732d",
   "metadata": {},
   "source": [
    "# Load the dataset"
   ]
  },
  {
   "cell_type": "code",
   "execution_count": null,
   "id": "5c9718ec-5e12-40a1-8abc-32ff85d78ecb",
   "metadata": {},
   "outputs": [],
   "source": [
    "!curl -O https://raw.githubusercontent.com/akshayjoshii/COVID19-Tweet-Sentiment-Analysis-and-EDA/master/finalSentimentdata2.csv"
   ]
  },
  {
   "cell_type": "code",
   "execution_count": null,
   "id": "7792f4d3-4ed3-475a-b31e-266745db26b5",
   "metadata": {},
   "outputs": [],
   "source": [
    "df = pd.read_csv(\"finalSentimentdata2.csv\")"
   ]
  },
  {
   "cell_type": "code",
   "execution_count": null,
   "id": "004e28d9-4401-4cbc-85db-06dd48211511",
   "metadata": {},
   "outputs": [],
   "source": [
    "df.head()"
   ]
  },
  {
   "cell_type": "code",
   "execution_count": null,
   "id": "df54ae3d-5c35-4e80-bbcb-0b4ed87e926c",
   "metadata": {},
   "outputs": [],
   "source": [
    "sns.countplot(x=df['sentiment']);"
   ]
  },
  {
   "cell_type": "markdown",
   "id": "1503bf9a-a889-4ad1-b4d8-f8797fdfb769",
   "metadata": {},
   "source": [
    "# Data Cleaning"
   ]
  },
  {
   "cell_type": "code",
   "execution_count": null,
   "id": "fd95e4d0-8640-4832-aa24-6f160865f80a",
   "metadata": {},
   "outputs": [],
   "source": [
    "import nltk\n",
    "import re\n",
    "import string"
   ]
  },
  {
   "cell_type": "code",
   "execution_count": null,
   "id": "88a1ff32-b74c-4f44-bcce-eef13e6d8c29",
   "metadata": {},
   "outputs": [],
   "source": [
    "def clean_text(text):\n",
    "    # Make text lowercase\n",
    "    text = text.lower()\n",
    "    # Remove text within square brackets\n",
    "    text = re.sub('\\[.*?\\]', '', text)\n",
    "    # Remove URLs\n",
    "    text = re.sub('https?://\\S+|www\\.\\S+', '', text)\n",
    "    # Remove text within <>\n",
    "    text = re.sub('<.*?>+', '', text)\n",
    "    # Remove punctuation\n",
    "    text = re.sub('[%s]' % re.escape(string.punctuation), '', text)\n",
    "    # Remove newline\n",
    "    text = re.sub('\\n', '', text)\n",
    "    # Remove words containing numbers\n",
    "    text = re.sub('\\w*\\d\\w*', '', text)\n",
    "    # Remove unicode emojis (todo) but this could mean something! \n",
    "    return text"
   ]
  },
  {
   "cell_type": "code",
   "execution_count": null,
   "id": "8f603f01-6a0e-46e6-8e6c-72d7c284dfa2",
   "metadata": {},
   "outputs": [],
   "source": [
    "# Apply `clean_text` to the text element of the dataframe\n",
    "\n",
    "df['text'] = df['text'].apply(lambda x: clean_text(x))"
   ]
  },
  {
   "cell_type": "code",
   "execution_count": null,
   "id": "d30b3a38-9a38-4c80-ad24-2713dad1f677",
   "metadata": {},
   "outputs": [],
   "source": [
    "# Let's see the max number of words in the tweets\n",
    "\n",
    "df['n_words'] = df['text'].apply(lambda x:len(str(x).split()))\n",
    "df['n_words'].max()"
   ]
  },
  {
   "cell_type": "code",
   "execution_count": null,
   "id": "7bd5e04a-1680-4879-b6b1-23118f5351ce",
   "metadata": {},
   "outputs": [],
   "source": [
    "# Achtung we have empty tweets\n",
    "\n",
    "df['n_words'].min()"
   ]
  },
  {
   "cell_type": "code",
   "execution_count": null,
   "id": "694f02db-dcad-4230-8af9-12e522503b33",
   "metadata": {},
   "outputs": [],
   "source": [
    "sns.displot(df['n_words']);"
   ]
  },
  {
   "cell_type": "markdown",
   "id": "bd94d542-10d0-4d52-98c9-359eb6ce30b0",
   "metadata": {},
   "source": [
    "# Create a Model"
   ]
  },
  {
   "cell_type": "code",
   "execution_count": null,
   "id": "a51c2401-ccb5-4f46-ac3c-83f389a391ec",
   "metadata": {},
   "outputs": [],
   "source": [
    "import tensorflow as tf"
   ]
  },
  {
   "cell_type": "code",
   "execution_count": null,
   "id": "bdab2552-f7da-4053-8640-7036645bbef4",
   "metadata": {},
   "outputs": [],
   "source": [
    "from sklearn import model_selection"
   ]
  },
  {
   "cell_type": "code",
   "execution_count": null,
   "id": "db0ba46c-c3c3-4451-bbfe-9200356653be",
   "metadata": {},
   "outputs": [],
   "source": [
    "X_train, X_test, y_train, y_test = model_selection.train_test_split(df['text'], df['sentiment'], test_size=0.30)"
   ]
  },
  {
   "cell_type": "code",
   "execution_count": null,
   "id": "612966d1-8e59-45b7-b37d-600eaeebf8ef",
   "metadata": {},
   "outputs": [],
   "source": [
    "X_train = np.array(X_train.values.tolist())\n",
    "X_test = np.array(X_test.values.tolist())\n",
    "y_train = np.array(y_train.values.tolist())\n",
    "y_test = np.array(y_test.values.tolist())"
   ]
  },
  {
   "cell_type": "markdown",
   "id": "00d098f7-a5c8-4162-b659-e3b808d3dc7d",
   "metadata": {},
   "source": [
    "# Binarizing labels"
   ]
  },
  {
   "cell_type": "code",
   "execution_count": null,
   "id": "dcf34c7e-9b9d-40be-823a-97dd1c36da95",
   "metadata": {},
   "outputs": [],
   "source": [
    "from sklearn.preprocessing import MultiLabelBinarizer\n",
    "mlb = MultiLabelBinarizer()\n",
    "y_train_enc = mlb.fit_transform([list(y_train)]) # pay attention to the []\n",
    "\n",
    "#mlb.classes_"
   ]
  },
  {
   "cell_type": "code",
   "execution_count": null,
   "id": "481fa315-0ed4-4830-8092-50765ac39365",
   "metadata": {},
   "outputs": [],
   "source": [
    "y_train_enc, set(list(y_train))"
   ]
  },
  {
   "cell_type": "markdown",
   "id": "2e5554da-5066-4996-b5a2-4ff90d18f857",
   "metadata": {},
   "source": [
    "# Tokening tweets"
   ]
  },
  {
   "cell_type": "code",
   "execution_count": null,
   "id": "9cbe2813-dc41-4794-a872-7dc3d273d3ca",
   "metadata": {},
   "outputs": [],
   "source": [
    "tokenizer = tf.keras.preprocessing.text.Tokenizer()\n",
    "\n",
    "tokenizer.fit_on_texts(X_train)\n",
    "\n",
    "vocab_size = len(tokenizer.word_index) + 1\n",
    "vocab_size"
   ]
  },
  {
   "cell_type": "code",
   "execution_count": null,
   "id": "7f53255d-4ee8-4af9-a496-cace17312416",
   "metadata": {},
   "outputs": [],
   "source": [
    "X_train = tokenizer.texts_to_sequences(X_train)"
   ]
  },
  {
   "cell_type": "code",
   "execution_count": null,
   "id": "b929a5ff-44bc-4f6a-87bc-654f50a01b24",
   "metadata": {},
   "outputs": [],
   "source": [
    "X_test = tokenizer.texts_to_sequences(X_test)"
   ]
  },
  {
   "cell_type": "code",
   "execution_count": null,
   "id": "a33c3ad2-1e15-4f3d-8d09-7841714db0fb",
   "metadata": {},
   "outputs": [],
   "source": [
    "max([len(x) for x in X_train])"
   ]
  },
  {
   "cell_type": "code",
   "execution_count": null,
   "id": "54adc751-f793-4d32-b765-2717dee57f12",
   "metadata": {},
   "outputs": [],
   "source": [
    "maxlen = 100\n",
    "\n",
    "model = tf.keras.Sequential([\n",
    "    tf.keras.layers.Embedding(vocab_size, 20, input_length=maxlen),\n",
    "    tf.keras.layers.GRU(units=32, dropout=0.2, recurrent_dropout=0.2),\n",
    "    tf.keras.layers.Dense(1, activation='sigmoid')\n",
    "])"
   ]
  },
  {
   "cell_type": "code",
   "execution_count": null,
   "id": "9759fbc2-a91b-415c-aa59-e18426725df8",
   "metadata": {},
   "outputs": [],
   "source": [
    "model.summary()"
   ]
  },
  {
   "cell_type": "code",
   "execution_count": null,
   "id": "8d0c6a12-8444-4be2-9235-faf2cce6a556",
   "metadata": {},
   "outputs": [],
   "source": [
    "X_train_pad = tf.keras.preprocessing.sequence.pad_sequences(X_train, padding='post', maxlen=maxlen)\n",
    "X_test_pad = tf.keras.preprocessing.sequence.pad_sequences(X_test, padding='post', maxlen=maxlen)"
   ]
  },
  {
   "cell_type": "code",
   "execution_count": null,
   "id": "3dd3cb71-2899-48d8-a23d-7cd8107ce9f7",
   "metadata": {},
   "outputs": [],
   "source": [
    "model.compile(optimizer='adam', loss='binary_crossentropy', metrics=['acc'])"
   ]
  },
  {
   "cell_type": "code",
   "execution_count": null,
   "id": "aeac4bf8-c1dd-4d3c-bbda-67d1cf221089",
   "metadata": {},
   "outputs": [],
   "source": []
  }
 ],
 "metadata": {
  "kernelspec": {
   "display_name": "Python 3",
   "language": "python",
   "name": "python3"
  },
  "language_info": {
   "codemirror_mode": {
    "name": "ipython",
    "version": 3
   },
   "file_extension": ".py",
   "mimetype": "text/x-python",
   "name": "python",
   "nbconvert_exporter": "python",
   "pygments_lexer": "ipython3",
   "version": "3.8.6"
  }
 },
 "nbformat": 4,
 "nbformat_minor": 5
}
