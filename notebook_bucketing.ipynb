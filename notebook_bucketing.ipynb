{
 "cells": [
  {
   "cell_type": "markdown",
   "metadata": {},
   "source": [
    "# About bucketing\n",
    "\n",
    "This notebook explains why we need bucketing and proposes one approach to have responsive smartboards while keeping a good understanding of the data "
   ]
  },
  {
   "cell_type": "code",
   "execution_count": null,
   "metadata": {},
   "outputs": [],
   "source": [
    "from datetime import datetime\n",
    "\n",
    "import matplotlib.pyplot as plt\n",
    "import numpy as np\n",
    "import pandas as pd\n",
    "import plotly.graph_objects as go"
   ]
  },
  {
   "cell_type": "markdown",
   "metadata": {},
   "source": [
    "## Defining time interval"
   ]
  },
  {
   "cell_type": "code",
   "execution_count": null,
   "metadata": {},
   "outputs": [],
   "source": [
    "_t1 = datetime.strptime(\"2022-09-14T09:00:00.000000Z\", \"%Y-%m-%dT%H:%M:%S.%fZ\")\n",
    "_t2 = datetime.strptime(\"2022-10-14T09:22:22.000000Z\", \"%Y-%m-%dT%H:%M:%S.%fZ\")"
   ]
  },
  {
   "cell_type": "markdown",
   "metadata": {},
   "source": [
    "## Defining time sampling interval"
   ]
  },
  {
   "cell_type": "code",
   "execution_count": null,
   "metadata": {},
   "outputs": [],
   "source": [
    "deltat = _t2 - _t1\n",
    "# deltat.total_seconds()\n",
    "\n",
    "frequency = 0.5\n",
    "\n",
    "deltat.total_seconds() / frequency"
   ]
  },
  {
   "cell_type": "markdown",
   "metadata": {},
   "source": [
    "## Creating time serie"
   ]
  },
  {
   "cell_type": "code",
   "execution_count": null,
   "metadata": {},
   "outputs": [],
   "source": [
    "dates = pd.date_range(_t1, _t2, freq=f\"{int(1000*frequency)}ms\")\n",
    "\n",
    "time = np.linspace(0, 1, dates.size)\n",
    "freq1, freq2, offset1, offset2 = np.random.rand(4, 1)\n",
    "\n",
    "df = pd.DataFrame(\n",
    "    {\n",
    "        \"date\": dates,\n",
    "        \"value\": 0.5 * np.sin((time - offset1) * (freq1 * 10 + 10))\n",
    "        + 0.2 * np.sin((time - offset2) * (freq2 * 20 + 20))\n",
    "        + 0.1 * (np.random.rand(dates.size) - 0.5),\n",
    "    }\n",
    ")"
   ]
  },
  {
   "cell_type": "code",
   "execution_count": null,
   "metadata": {},
   "outputs": [],
   "source": [
    "df.shape"
   ]
  },
  {
   "cell_type": "markdown",
   "metadata": {},
   "source": [
    "## Display time serie length and size"
   ]
  },
  {
   "cell_type": "code",
   "execution_count": null,
   "metadata": {},
   "outputs": [],
   "source": [
    "df.info()"
   ]
  },
  {
   "cell_type": "markdown",
   "metadata": {},
   "source": [
    "Plotting the time serie, this is long (> 1 sec) and has no value since we can't see anything. No value in ploting 5 million points :-)"
   ]
  },
  {
   "cell_type": "code",
   "execution_count": null,
   "metadata": {},
   "outputs": [],
   "source": [
    "%%time\n",
    "plt.plot(df[\"value\"])\n",
    "plt.ylabel(\"Value\")\n",
    "plt.xlabel(\"Date\")\n",
    "plt.title(\"Random Values\")\n",
    "plt.show()"
   ]
  },
  {
   "cell_type": "code",
   "execution_count": null,
   "metadata": {},
   "outputs": [],
   "source": [
    "df[\"date\"] = pd.to_datetime(df[\"date\"])\n",
    "\n",
    "df.set_index(\"date\", inplace=True)"
   ]
  },
  {
   "cell_type": "markdown",
   "metadata": {},
   "source": [
    "## Down sample time serie \n",
    "\n",
    "Compute 3 curves instead of one, on this chart we clearly see that the mean has no sense for the end user since data is really spread in the [-6, 6] interval"
   ]
  },
  {
   "cell_type": "code",
   "execution_count": null,
   "metadata": {},
   "outputs": [],
   "source": [
    "nb_points = 5_000\n",
    "\n",
    "resampling_rate = int(df.shape[0] / nb_points * frequency)\n",
    "\n",
    "print(f\"Resampling rate: {resampling_rate}\")\n",
    "\n",
    "df_resampler = df[\"value\"].resample(f\"{resampling_rate}S\")"
   ]
  },
  {
   "cell_type": "code",
   "execution_count": null,
   "metadata": {},
   "outputs": [],
   "source": [
    "df_small = df_resampler.agg([\"min\", \"max\", \"mean\"])\n",
    "df_small.shape"
   ]
  },
  {
   "cell_type": "code",
   "execution_count": null,
   "metadata": {},
   "outputs": [],
   "source": [
    "%%time\n",
    "fig = go.Figure()\n",
    "\n",
    "x = df_small.index.to_numpy(copy=True)\n",
    "y_upper = df_small[\"max\"].to_numpy(copy=True)\n",
    "y_lower = df_small[\"min\"].to_numpy(copy=True)\n",
    "\n",
    "fig = go.Figure(\n",
    "    [\n",
    "        go.Scatter(\n",
    "            name=\"value\",\n",
    "            x=df_small.index,\n",
    "            y=df_small[\"mean\"],\n",
    "            mode=\"lines\",\n",
    "            line=dict(color=\"rgb(31, 119, 180)\"),\n",
    "        ),\n",
    "        go.Scatter(\n",
    "            name=\"Upper Bound\",\n",
    "            x=df_small.index,\n",
    "            y=df_small[\"max\"],\n",
    "            mode=\"lines\",\n",
    "            marker=dict(color=\"#444\"),\n",
    "            line=dict(width=0),\n",
    "            showlegend=False,\n",
    "        ),\n",
    "        go.Scatter(\n",
    "            name=\"Lower Bound\",\n",
    "            x=df_small.index,\n",
    "            y=df_small[\"min\"],\n",
    "            marker=dict(color=\"#444\"),\n",
    "            line=dict(width=0),\n",
    "            mode=\"lines\",\n",
    "            fillcolor=\"rgba(31, 119, 180, 0.3)\",\n",
    "            fill=\"tonexty\",\n",
    "            showlegend=False,\n",
    "        ),\n",
    "    ]\n",
    ")\n",
    "fig.update_layout(yaxis_title=\"Value\", title=\"Bucketing\", hovermode=\"x\")"
   ]
  },
  {
   "cell_type": "markdown",
   "metadata": {},
   "source": [
    "## Down sample time serie (larger number of points)\n",
    "\n",
    "Compute 3 curves instead of one, this chart is a bit better but has no great value. Is the increase in render time worth it?"
   ]
  },
  {
   "cell_type": "code",
   "execution_count": null,
   "metadata": {},
   "outputs": [],
   "source": [
    "nb_points = 50_000\n",
    "\n",
    "resampling_rate = int(df.shape[0] / nb_points * frequency)\n",
    "\n",
    "print(f\"Resampling rate: {resampling_rate}\")\n",
    "\n",
    "df_resampler = df[\"value\"].resample(f\"{resampling_rate}S\")"
   ]
  },
  {
   "cell_type": "code",
   "execution_count": null,
   "metadata": {},
   "outputs": [],
   "source": [
    "df_medium = df_resampler.agg([\"min\", \"max\", \"mean\"])\n",
    "df_medium.shape"
   ]
  },
  {
   "cell_type": "code",
   "execution_count": null,
   "metadata": {},
   "outputs": [],
   "source": [
    "%%time\n",
    "fig = go.Figure()\n",
    "\n",
    "x = df_medium.index.to_numpy(copy=True)\n",
    "y_upper = df_medium[\"max\"].to_numpy(copy=True)\n",
    "y_lower = df_medium[\"min\"].to_numpy(copy=True)\n",
    "\n",
    "fig = go.Figure(\n",
    "    [\n",
    "        go.Scatter(\n",
    "            name=\"value\",\n",
    "            x=df_medium.index,\n",
    "            y=df_medium[\"mean\"],\n",
    "            mode=\"lines\",\n",
    "            line=dict(color=\"rgb(31, 119, 180)\"),\n",
    "        ),\n",
    "        go.Scatter(\n",
    "            name=\"Upper Bound\",\n",
    "            x=df_medium.index,\n",
    "            y=df_medium[\"max\"],\n",
    "            mode=\"lines\",\n",
    "            marker=dict(color=\"#444\"),\n",
    "            line=dict(width=0),\n",
    "            showlegend=False,\n",
    "        ),\n",
    "        go.Scatter(\n",
    "            name=\"Lower Bound\",\n",
    "            x=df_medium.index,\n",
    "            y=df_medium[\"min\"],\n",
    "            marker=dict(color=\"#444\"),\n",
    "            line=dict(width=0),\n",
    "            mode=\"lines\",\n",
    "            fillcolor=\"rgba(31, 119, 180, 0.3)\",\n",
    "            fill=\"tonexty\",\n",
    "            showlegend=False,\n",
    "        ),\n",
    "    ]\n",
    ")\n",
    "fig.update_layout(yaxis_title=\"Value\", title=\"Bucketing\", hovermode=\"x\")"
   ]
  },
  {
   "cell_type": "markdown",
   "metadata": {},
   "source": [
    "## Zooming in the time serie (and resampling to get approximately 5k points)"
   ]
  },
  {
   "cell_type": "code",
   "execution_count": null,
   "metadata": {},
   "outputs": [],
   "source": [
    "sub_df = df[0:100_000].copy()"
   ]
  },
  {
   "cell_type": "code",
   "execution_count": null,
   "metadata": {},
   "outputs": [],
   "source": [
    "nb_points = 5_000\n",
    "\n",
    "resampling_rate = int(sub_df.shape[0] / nb_points * frequency)\n",
    "\n",
    "print(f\"Resampling rate: {resampling_rate}\")\n",
    "\n",
    "sub_df_resampler = sub_df[\"value\"].resample(f\"{resampling_rate}S\")"
   ]
  },
  {
   "cell_type": "code",
   "execution_count": null,
   "metadata": {},
   "outputs": [],
   "source": [
    "df_small = sub_df_resampler.agg([\"min\", \"max\", \"mean\"])\n",
    "df_small.shape"
   ]
  },
  {
   "cell_type": "code",
   "execution_count": null,
   "metadata": {},
   "outputs": [],
   "source": [
    "%%time\n",
    "fig = go.Figure()\n",
    "\n",
    "x = df_small.index.to_numpy(copy=True)\n",
    "y_upper = df_small[\"max\"].to_numpy(copy=True)\n",
    "y_lower = df_small[\"min\"].to_numpy(copy=True)\n",
    "\n",
    "fig = go.Figure(\n",
    "    [\n",
    "        go.Scatter(\n",
    "            name=\"value\",\n",
    "            x=df_small.index,\n",
    "            y=df_small[\"mean\"],\n",
    "            mode=\"lines\",\n",
    "            line=dict(color=\"rgb(31, 119, 180)\"),\n",
    "        ),\n",
    "        go.Scatter(\n",
    "            name=\"Upper Bound\",\n",
    "            x=df_small.index,\n",
    "            y=df_small[\"max\"],\n",
    "            mode=\"lines\",\n",
    "            marker=dict(color=\"#444\"),\n",
    "            line=dict(width=0),\n",
    "            showlegend=False,\n",
    "        ),\n",
    "        go.Scatter(\n",
    "            name=\"Lower Bound\",\n",
    "            x=df_small.index,\n",
    "            y=df_small[\"min\"],\n",
    "            marker=dict(color=\"#444\"),\n",
    "            line=dict(width=0),\n",
    "            mode=\"lines\",\n",
    "            fillcolor=\"rgba(31, 119, 180, 0.3)\",\n",
    "            fill=\"tonexty\",\n",
    "            showlegend=False,\n",
    "        ),\n",
    "    ]\n",
    ")\n",
    "fig.update_layout(yaxis_title=\"Value\", title=\"Bucketing\", hovermode=\"x\")"
   ]
  },
  {
   "cell_type": "markdown",
   "metadata": {},
   "source": [
    "### Zooming more\n",
    "Render time stays constant while details increase"
   ]
  },
  {
   "cell_type": "code",
   "execution_count": null,
   "metadata": {},
   "outputs": [],
   "source": [
    "sub_df = df[0:10_000].copy()"
   ]
  },
  {
   "cell_type": "code",
   "execution_count": null,
   "metadata": {},
   "outputs": [],
   "source": [
    "nb_points = 5_000\n",
    "\n",
    "df_small = sub_df.copy()"
   ]
  },
  {
   "cell_type": "code",
   "execution_count": null,
   "metadata": {},
   "outputs": [],
   "source": [
    "%%time\n",
    "if sub_df.shape[0] > nb_points:\n",
    "    resampling_rate = int(sub_df.shape[0] / nb_points * frequency)\n",
    "\n",
    "    print(f\"Resampling rate: {resampling_rate}\")\n",
    "\n",
    "    sub_df_resampler = sub_df[\"value\"].resample(f\"{resampling_rate}S\")\n",
    "\n",
    "    df_small = sub_df_resampler.agg([\"min\", \"max\", \"mean\"])\n",
    "    df_small.shape"
   ]
  },
  {
   "cell_type": "code",
   "execution_count": null,
   "metadata": {},
   "outputs": [],
   "source": [
    "%%time\n",
    "fig = go.Figure()\n",
    "\n",
    "x = df_small.index.to_numpy(copy=True)\n",
    "y_upper = df_small[\"max\"].to_numpy(copy=True)\n",
    "y_lower = df_small[\"min\"].to_numpy(copy=True)\n",
    "\n",
    "fig = go.Figure(\n",
    "    [\n",
    "        go.Scatter(\n",
    "            name=\"value\",\n",
    "            x=df_small.index,\n",
    "            y=df_small[\"mean\"],\n",
    "            mode=\"lines\",\n",
    "            line=dict(color=\"rgb(31, 119, 180)\"),\n",
    "        ),\n",
    "        go.Scatter(\n",
    "            name=\"Upper Bound\",\n",
    "            x=df_small.index,\n",
    "            y=df_small[\"max\"],\n",
    "            mode=\"lines\",\n",
    "            marker=dict(color=\"#444\"),\n",
    "            line=dict(width=0),\n",
    "            showlegend=False,\n",
    "        ),\n",
    "        go.Scatter(\n",
    "            name=\"Lower Bound\",\n",
    "            x=df_small.index,\n",
    "            y=df_small[\"min\"],\n",
    "            marker=dict(color=\"#444\"),\n",
    "            line=dict(width=0),\n",
    "            mode=\"lines\",\n",
    "            fillcolor=\"rgba(31, 119, 180, 0.3)\",\n",
    "            fill=\"tonexty\",\n",
    "            showlegend=False,\n",
    "        ),\n",
    "    ]\n",
    ")\n",
    "fig.update_layout(yaxis_title=\"Value\", title=\"Bucketing\", hovermode=\"x\")"
   ]
  }
 ],
 "metadata": {
  "kernelspec": {
   "display_name": "Python 3 (ipykernel)",
   "language": "python",
   "name": "python3"
  },
  "language_info": {
   "codemirror_mode": {
    "name": "ipython",
    "version": 3
   },
   "file_extension": ".py",
   "mimetype": "text/x-python",
   "name": "python",
   "nbconvert_exporter": "python",
   "pygments_lexer": "ipython3",
   "version": "3.10.6"
  },
  "toc": {
   "base_numbering": 1,
   "nav_menu": {},
   "number_sections": true,
   "sideBar": true,
   "skip_h1_title": false,
   "title_cell": "Table of Contents",
   "title_sidebar": "Contents",
   "toc_cell": false,
   "toc_position": {},
   "toc_section_display": true,
   "toc_window_display": false
  }
 },
 "nbformat": 4,
 "nbformat_minor": 4
}
